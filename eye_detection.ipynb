{
  "nbformat": 4,
  "nbformat_minor": 0,
  "metadata": {
    "colab": {
      "provenance": [],
      "collapsed_sections": [
        "wPCECHctTqYc",
        "7wUBaTuYzXEF",
        "v1Sg9OexfAWU",
        "GOAPM-Gl0jPT",
        "XDaTTP8sOrQy",
        "kwjCUzqzpooa",
        "LoiJKEmkvJeq",
        "Kzrwjo4VyCi5",
        "eNcJn0BNIzH-",
        "vhA06nxpKcJ3",
        "4fWXP0DIPjwU",
        "LuNHVEf4KU0z",
        "ezbAM_vBJIMK",
        "sHbDImvkrR08",
        "hCfoyuyLScsQ",
        "aAZCVjL2rzzL",
        "qIMMnUe_tAhF",
        "oeik2SkB4ls5",
        "p6PIIoZH5Zty",
        "x3uGe2c55x-p",
        "bSgKQmoW5-Zp",
        "Erh3aVV0V5DV",
        "E9WV4HgK6piW",
        "0Zgof82t74uA",
        "eDAnw524-WKe",
        "dZGRDz7mikDv",
        "AKjlI3c4cstX",
        "yOPQN_Ptc4Mh",
        "qKtKDdy6dF3X",
        "IS_VoKB8o5Oy",
        "_-WMzClFpIuv",
        "FKAmGSWrpYl7",
        "zzxR5z1DAAIr",
        "bazQhzG7TadC",
        "OSj6yOSbTrph",
        "Q_trBspdR4w_",
        "E-XTa7A4_E_d",
        "RoutVLBgdNxl",
        "za0s9HT4QG9x",
        "5k9qha2NYOd2",
        "5eldd8BJroMR",
        "9WgA8-Tzdqn9",
        "5YoudanTkfCr",
        "dTd0CdoHob4p",
        "Bx2WZzO8oVPV",
        "3o9AJipvjHfI",
        "SfWjWB_7qXz-"
      ]
    },
    "kernelspec": {
      "name": "python3",
      "display_name": "Python 3"
    },
    "language_info": {
      "name": "python"
    }
  },
  "cells": [
    {
      "cell_type": "markdown",
      "metadata": {
        "id": "wPCECHctTqYc"
      },
      "source": [
        "## **1η Εργαστηριακή Άσκηση**\n",
        "\n",
        "### **Μέρος 1 (UCI Dataset)**\n",
        "\n",
        "#### **Αριθμός Ομάδας:** 88\n",
        "\n",
        "#### Αλεξανδρόπουλος Σταμάτης (03117060)\n",
        "\n",
        "####  Γκότση Πολυτίμη-Άννα ( 03117201)\n",
        "\n",
        "#### Ζάρα Στέλλα (03117154)"
      ]
    },
    {
      "cell_type": "code",
      "metadata": {
        "colab": {
          "base_uri": "https://localhost:8080/"
        },
        "id": "LeEse--Cf2ZB",
        "outputId": "4428942c-04de-4dc8-eb67-455215b8ca0e"
      },
      "source": [
        "from google.colab import drive\n",
        "drive.mount('/content/drive')"
      ],
      "execution_count": null,
      "outputs": [
        {
          "output_type": "stream",
          "name": "stdout",
          "text": [
            "Drive already mounted at /content/drive; to attempt to forcibly remount, call drive.mount(\"/content/drive\", force_remount=True).\n"
          ]
        }
      ]
    },
    {
      "cell_type": "markdown",
      "metadata": {
        "id": "zVDRnMi92nQ9"
      },
      "source": [
        "Αρχικά κάνουμε upgrade στις βιβλοθήκες που θα χρειαστούμε."
      ]
    },
    {
      "cell_type": "code",
      "metadata": {
        "id": "DO-P9Bcw2ob3"
      },
      "source": [
        "#  !pip install --upgrade pip  &> /dev/null#upgrade pip package installer\n",
        "#  !pip install scikit-learn --upgrade  &> /dev/null#upgrade scikit-learn package\n",
        "#  !pip install numpy --upgrade  &> /dev/null#upgrade numpy package\n",
        "#  !pip install pandas --upgrade  &> /dev/null#--upgrade #upgrade pandas package\n",
        "#  !pip install texttable &> /dev/null\n",
        "#  !pip install -U imbalanced-learn"
      ],
      "execution_count": null,
      "outputs": []
    },
    {
      "cell_type": "code",
      "metadata": {
        "id": "ZTc89i4_gfnb"
      },
      "source": [
        "from scipy.io import arff\n",
        "import pandas as pd\n",
        "import matplotlib.pyplot as plt\n",
        "from sklearn.model_selection import train_test_split,GridSearchCV\n",
        "from sklearn.naive_bayes import GaussianNB\n",
        "from sklearn.neighbors import KNeighborsClassifier\n",
        "from sklearn.dummy import DummyClassifier\n",
        "from sklearn.metrics import confusion_matrix\n",
        "import numpy as np\n",
        "import itertools\n",
        "from sklearn.metrics import precision_recall_fscore_support\n",
        "from sklearn.metrics import classification_report\n",
        "from sklearn.metrics import classification_report, f1_score, precision_score, recall_score, confusion_matrix\n",
        "from sklearn.linear_model import LogisticRegression\n",
        "from sklearn.model_selection import cross_val_score,cross_val_predict,KFold\n",
        "from sklearn.feature_selection import VarianceThreshold\n",
        "from sklearn import preprocessing\n",
        "from imblearn.over_sampling import RandomOverSampler\n",
        "from imblearn.under_sampling import RandomUnderSampler\n",
        "from sklearn.preprocessing import MultiLabelBinarizer\n",
        "from imblearn.pipeline import Pipeline\n",
        "import seaborn as sns\n",
        "from texttable import Texttable\n",
        "import time\n"
      ],
      "execution_count": null,
      "outputs": []
    },
    {
      "cell_type": "markdown",
      "metadata": {
        "id": "au--Gl2_eL6r"
      },
      "source": [
        "# Μέρος 1ο: UCI dataset\n"
      ]
    },
    {
      "cell_type": "markdown",
      "metadata": {
        "id": "7wUBaTuYzXEF"
      },
      "source": [
        "## Εισαγωγή και επισκόπηση"
      ]
    },
    {
      "cell_type": "markdown",
      "metadata": {
        "id": "pjPMj4m3e2xX"
      },
      "source": [
        "#### Πληροφορίες για το EEG Eye State Data Set\n",
        "\n",
        "Το παρόν data set δημιουργήθηκε από μια συνεχή EEG μέτρηση που έγινε με το  Emotiv EEG Neuroheadset. Η διάρκεια της μέτρησης ήταν  117 δευτερόλεπτα. Η κατάσταση των ματιών ανιχνεύθηκε μέσω κάμερας κατά τη διάρκεια της μέτρησης EEG και προστέθηκε αργότερα χειροκίνητα στο αρχείο μετά την ανάλυση των καρέ βίντεο. Παρακάτω φαίνονται μερικά χαρακτηριστικά του data set:\n",
        "\n",
        "![](https://drive.google.com/uc?export=view&id=1yiOGj3VXKCBma4kM1VJleUtkaR13ddsd)\n",
        "\n",
        "Βλέπουμε πως το data set αυτό αφορά το τομέα της ζωής, έγινε δωρεα στις 06/10/2013, και έχει χρησιμοποιηθεί 144850 φορές.\n",
        "\n",
        "Ο αριθμός των δειγμάτων είναι 14980 και κάθε δείγμα περιγράφεται απο 14 συνεχή χαρακτηριστικά και την κλάση στην οποία ανήκει το εν λόγω δείγμα :\n",
        "\n",
        "* b'0': υποδηλώνει ότι το μάτι είναι ανοιχτό\n",
        "\n",
        "* b'1': υποδηλώνει ότι το μάτι είνια κλειστό\n",
        "\n",
        "Τα χαρακτηριστικά είναι τύπου Integer, Real, ενώ τα labels τύπου < bytes>\n",
        "\n",
        "Επιπλέον, αναφέρεται ότι απουσιαζουσες τιμές δεν υπάρχουν, καθώς και πως το dataset χρησιμοποιείται για προβλήματα classification."
      ]
    },
    {
      "cell_type": "markdown",
      "metadata": {
        "id": "v1Sg9OexfAWU"
      },
      "source": [
        "##### Εισαγωγή Δεδομένων\n",
        "\n"
      ]
    },
    {
      "cell_type": "markdown",
      "metadata": {
        "id": "_-6Y1WPNPpHe"
      },
      "source": [
        "Αρχικά εισάγουμε τα δεδομένα σε dataframes απευθείας από τα αρχεία που βρίσκονται αποθηκευμένα στο drive μας. Επισημαίνεται ότι δεν χρειάστηκε να κάνουμε μετατροπές στα αρχεία plain text για την εισαγωγή του."
      ]
    },
    {
      "cell_type": "code",
      "metadata": {
        "id": "Zk4xmcAhTClP",
        "colab": {
          "base_uri": "https://localhost:8080/",
          "height": 424
        },
        "outputId": "e04593d2-9023-4063-b9c0-1847a0dad33c"
      },
      "source": [
        "data = arff.loadarff('/content/drive/MyDrive/Colab Notebooks/NeuralNetworks/EEG Eye State.arff')\n",
        "df = pd.DataFrame(data[0])\n",
        "df"
      ],
      "execution_count": null,
      "outputs": [
        {
          "output_type": "execute_result",
          "data": {
            "text/html": [
              "<div>\n",
              "<style scoped>\n",
              "    .dataframe tbody tr th:only-of-type {\n",
              "        vertical-align: middle;\n",
              "    }\n",
              "\n",
              "    .dataframe tbody tr th {\n",
              "        vertical-align: top;\n",
              "    }\n",
              "\n",
              "    .dataframe thead th {\n",
              "        text-align: right;\n",
              "    }\n",
              "</style>\n",
              "<table border=\"1\" class=\"dataframe\">\n",
              "  <thead>\n",
              "    <tr style=\"text-align: right;\">\n",
              "      <th></th>\n",
              "      <th>AF3</th>\n",
              "      <th>F7</th>\n",
              "      <th>F3</th>\n",
              "      <th>FC5</th>\n",
              "      <th>T7</th>\n",
              "      <th>P7</th>\n",
              "      <th>O1</th>\n",
              "      <th>O2</th>\n",
              "      <th>P8</th>\n",
              "      <th>T8</th>\n",
              "      <th>FC6</th>\n",
              "      <th>F4</th>\n",
              "      <th>F8</th>\n",
              "      <th>AF4</th>\n",
              "      <th>eyeDetection</th>\n",
              "    </tr>\n",
              "  </thead>\n",
              "  <tbody>\n",
              "    <tr>\n",
              "      <th>0</th>\n",
              "      <td>4329.23</td>\n",
              "      <td>4009.23</td>\n",
              "      <td>4289.23</td>\n",
              "      <td>4148.21</td>\n",
              "      <td>4350.26</td>\n",
              "      <td>4586.15</td>\n",
              "      <td>4096.92</td>\n",
              "      <td>4641.03</td>\n",
              "      <td>4222.05</td>\n",
              "      <td>4238.46</td>\n",
              "      <td>4211.28</td>\n",
              "      <td>4280.51</td>\n",
              "      <td>4635.90</td>\n",
              "      <td>4393.85</td>\n",
              "      <td>b'0'</td>\n",
              "    </tr>\n",
              "    <tr>\n",
              "      <th>1</th>\n",
              "      <td>4324.62</td>\n",
              "      <td>4004.62</td>\n",
              "      <td>4293.85</td>\n",
              "      <td>4148.72</td>\n",
              "      <td>4342.05</td>\n",
              "      <td>4586.67</td>\n",
              "      <td>4097.44</td>\n",
              "      <td>4638.97</td>\n",
              "      <td>4210.77</td>\n",
              "      <td>4226.67</td>\n",
              "      <td>4207.69</td>\n",
              "      <td>4279.49</td>\n",
              "      <td>4632.82</td>\n",
              "      <td>4384.10</td>\n",
              "      <td>b'0'</td>\n",
              "    </tr>\n",
              "    <tr>\n",
              "      <th>2</th>\n",
              "      <td>4327.69</td>\n",
              "      <td>4006.67</td>\n",
              "      <td>4295.38</td>\n",
              "      <td>4156.41</td>\n",
              "      <td>4336.92</td>\n",
              "      <td>4583.59</td>\n",
              "      <td>4096.92</td>\n",
              "      <td>4630.26</td>\n",
              "      <td>4207.69</td>\n",
              "      <td>4222.05</td>\n",
              "      <td>4206.67</td>\n",
              "      <td>4282.05</td>\n",
              "      <td>4628.72</td>\n",
              "      <td>4389.23</td>\n",
              "      <td>b'0'</td>\n",
              "    </tr>\n",
              "    <tr>\n",
              "      <th>3</th>\n",
              "      <td>4328.72</td>\n",
              "      <td>4011.79</td>\n",
              "      <td>4296.41</td>\n",
              "      <td>4155.90</td>\n",
              "      <td>4343.59</td>\n",
              "      <td>4582.56</td>\n",
              "      <td>4097.44</td>\n",
              "      <td>4630.77</td>\n",
              "      <td>4217.44</td>\n",
              "      <td>4235.38</td>\n",
              "      <td>4210.77</td>\n",
              "      <td>4287.69</td>\n",
              "      <td>4632.31</td>\n",
              "      <td>4396.41</td>\n",
              "      <td>b'0'</td>\n",
              "    </tr>\n",
              "    <tr>\n",
              "      <th>4</th>\n",
              "      <td>4326.15</td>\n",
              "      <td>4011.79</td>\n",
              "      <td>4292.31</td>\n",
              "      <td>4151.28</td>\n",
              "      <td>4347.69</td>\n",
              "      <td>4586.67</td>\n",
              "      <td>4095.90</td>\n",
              "      <td>4627.69</td>\n",
              "      <td>4210.77</td>\n",
              "      <td>4244.10</td>\n",
              "      <td>4212.82</td>\n",
              "      <td>4288.21</td>\n",
              "      <td>4632.82</td>\n",
              "      <td>4398.46</td>\n",
              "      <td>b'0'</td>\n",
              "    </tr>\n",
              "    <tr>\n",
              "      <th>...</th>\n",
              "      <td>...</td>\n",
              "      <td>...</td>\n",
              "      <td>...</td>\n",
              "      <td>...</td>\n",
              "      <td>...</td>\n",
              "      <td>...</td>\n",
              "      <td>...</td>\n",
              "      <td>...</td>\n",
              "      <td>...</td>\n",
              "      <td>...</td>\n",
              "      <td>...</td>\n",
              "      <td>...</td>\n",
              "      <td>...</td>\n",
              "      <td>...</td>\n",
              "      <td>...</td>\n",
              "    </tr>\n",
              "    <tr>\n",
              "      <th>14975</th>\n",
              "      <td>4281.03</td>\n",
              "      <td>3990.26</td>\n",
              "      <td>4245.64</td>\n",
              "      <td>4116.92</td>\n",
              "      <td>4333.85</td>\n",
              "      <td>4614.36</td>\n",
              "      <td>4074.87</td>\n",
              "      <td>4625.64</td>\n",
              "      <td>4203.08</td>\n",
              "      <td>4221.54</td>\n",
              "      <td>4171.28</td>\n",
              "      <td>4269.23</td>\n",
              "      <td>4593.33</td>\n",
              "      <td>4340.51</td>\n",
              "      <td>b'1'</td>\n",
              "    </tr>\n",
              "    <tr>\n",
              "      <th>14976</th>\n",
              "      <td>4276.92</td>\n",
              "      <td>3991.79</td>\n",
              "      <td>4245.13</td>\n",
              "      <td>4110.77</td>\n",
              "      <td>4332.82</td>\n",
              "      <td>4615.38</td>\n",
              "      <td>4073.33</td>\n",
              "      <td>4621.54</td>\n",
              "      <td>4194.36</td>\n",
              "      <td>4217.44</td>\n",
              "      <td>4162.56</td>\n",
              "      <td>4259.49</td>\n",
              "      <td>4590.26</td>\n",
              "      <td>4333.33</td>\n",
              "      <td>b'1'</td>\n",
              "    </tr>\n",
              "    <tr>\n",
              "      <th>14977</th>\n",
              "      <td>4277.44</td>\n",
              "      <td>3990.77</td>\n",
              "      <td>4246.67</td>\n",
              "      <td>4113.85</td>\n",
              "      <td>4333.33</td>\n",
              "      <td>4615.38</td>\n",
              "      <td>4072.82</td>\n",
              "      <td>4623.59</td>\n",
              "      <td>4193.33</td>\n",
              "      <td>4212.82</td>\n",
              "      <td>4160.51</td>\n",
              "      <td>4257.95</td>\n",
              "      <td>4591.79</td>\n",
              "      <td>4339.49</td>\n",
              "      <td>b'1'</td>\n",
              "    </tr>\n",
              "    <tr>\n",
              "      <th>14978</th>\n",
              "      <td>4284.62</td>\n",
              "      <td>3991.79</td>\n",
              "      <td>4251.28</td>\n",
              "      <td>4122.05</td>\n",
              "      <td>4334.36</td>\n",
              "      <td>4616.41</td>\n",
              "      <td>4080.51</td>\n",
              "      <td>4628.72</td>\n",
              "      <td>4200.00</td>\n",
              "      <td>4220.00</td>\n",
              "      <td>4165.64</td>\n",
              "      <td>4267.18</td>\n",
              "      <td>4596.41</td>\n",
              "      <td>4350.77</td>\n",
              "      <td>b'1'</td>\n",
              "    </tr>\n",
              "    <tr>\n",
              "      <th>14979</th>\n",
              "      <td>4287.69</td>\n",
              "      <td>3997.44</td>\n",
              "      <td>4260.00</td>\n",
              "      <td>4121.03</td>\n",
              "      <td>4333.33</td>\n",
              "      <td>4616.41</td>\n",
              "      <td>4088.72</td>\n",
              "      <td>4638.46</td>\n",
              "      <td>4212.31</td>\n",
              "      <td>4226.67</td>\n",
              "      <td>4167.69</td>\n",
              "      <td>4274.36</td>\n",
              "      <td>4597.95</td>\n",
              "      <td>4350.77</td>\n",
              "      <td>b'1'</td>\n",
              "    </tr>\n",
              "  </tbody>\n",
              "</table>\n",
              "<p>14980 rows × 15 columns</p>\n",
              "</div>"
            ],
            "text/plain": [
              "           AF3       F7       F3  ...       F8      AF4  eyeDetection\n",
              "0      4329.23  4009.23  4289.23  ...  4635.90  4393.85          b'0'\n",
              "1      4324.62  4004.62  4293.85  ...  4632.82  4384.10          b'0'\n",
              "2      4327.69  4006.67  4295.38  ...  4628.72  4389.23          b'0'\n",
              "3      4328.72  4011.79  4296.41  ...  4632.31  4396.41          b'0'\n",
              "4      4326.15  4011.79  4292.31  ...  4632.82  4398.46          b'0'\n",
              "...        ...      ...      ...  ...      ...      ...           ...\n",
              "14975  4281.03  3990.26  4245.64  ...  4593.33  4340.51          b'1'\n",
              "14976  4276.92  3991.79  4245.13  ...  4590.26  4333.33          b'1'\n",
              "14977  4277.44  3990.77  4246.67  ...  4591.79  4339.49          b'1'\n",
              "14978  4284.62  3991.79  4251.28  ...  4596.41  4350.77          b'1'\n",
              "14979  4287.69  3997.44  4260.00  ...  4597.95  4350.77          b'1'\n",
              "\n",
              "[14980 rows x 15 columns]"
            ]
          },
          "metadata": {},
          "execution_count": 4
        }
      ]
    },
    {
      "cell_type": "markdown",
      "metadata": {
        "id": "bzwQF65I1Rb8"
      },
      "source": [
        "Παρακάτω αλλάζουμε την τελευταιας στηλής απο type < bytes > σε type < int > για μεγαλύτερη ευχέρεια στους υπολογισμούς στα παρακάτω ερωτήματα."
      ]
    },
    {
      "cell_type": "code",
      "metadata": {
        "colab": {
          "base_uri": "https://localhost:8080/"
        },
        "id": "scS0uylpxJO4",
        "outputId": "afe30a4b-fe1b-4413-fd9a-addb232ce2ef"
      },
      "source": [
        "df['eyeDetection'].replace( {b'1' :1 ,  b'0' :0 }, inplace=True)\n",
        "print(df)"
      ],
      "execution_count": null,
      "outputs": [
        {
          "output_type": "stream",
          "name": "stdout",
          "text": [
            "           AF3       F7       F3  ...       F8      AF4  eyeDetection\n",
            "0      4329.23  4009.23  4289.23  ...  4635.90  4393.85             0\n",
            "1      4324.62  4004.62  4293.85  ...  4632.82  4384.10             0\n",
            "2      4327.69  4006.67  4295.38  ...  4628.72  4389.23             0\n",
            "3      4328.72  4011.79  4296.41  ...  4632.31  4396.41             0\n",
            "4      4326.15  4011.79  4292.31  ...  4632.82  4398.46             0\n",
            "...        ...      ...      ...  ...      ...      ...           ...\n",
            "14975  4281.03  3990.26  4245.64  ...  4593.33  4340.51             1\n",
            "14976  4276.92  3991.79  4245.13  ...  4590.26  4333.33             1\n",
            "14977  4277.44  3990.77  4246.67  ...  4591.79  4339.49             1\n",
            "14978  4284.62  3991.79  4251.28  ...  4596.41  4350.77             1\n",
            "14979  4287.69  3997.44  4260.00  ...  4597.95  4350.77             1\n",
            "\n",
            "[14980 rows x 15 columns]\n"
          ]
        }
      ]
    },
    {
      "cell_type": "markdown",
      "metadata": {
        "id": "GOAPM-Gl0jPT"
      },
      "source": [
        "#### Πλήθος δειγμάτων και χαρακτηριστικών, και είδος όλων των χαρακτηριστικών"
      ]
    },
    {
      "cell_type": "markdown",
      "metadata": {
        "id": "x23z17LtihhW"
      },
      "source": [
        "\n",
        "Παρατηρούμε ότι τα δεδομένα μας είναι χωρισμένα σε στήλες, πράγμα που κάνει πιο κατανοητή η αναπαράσταση του διανύσματος. Υπάρχουν επικεφαλίδες για κάθε feature και αρίθμηση γραμμών. Παρατηρούμε ότι έχουμε 14890 δείγματα και οι στήλες περιέχουν 14 EEG τιμές ( features)  και μια ακόμα τιμή (τελευταία στήλη) που καθορίζει την κατάσταση του ματιού. Η κατάσταση του ματιού μπορεί να είναι  b'0' (ή 0 μετα την μετατροπή που κάναμε)   που υποδηλώνει ότι το μάτι είναι ανοιχτό ή b'1' ( ή 1 μετά την μετατροπή που κάναμε)  που υποδηλώνει ότι το μάτι είναι κλειστό. Παρατηρούμε ότι το προηγούμετο dataframe έχει όλα τα features σε float τιμές και τα ονόματα των κλάσεων σε int τιμές μετά την μετατροπή.\n",
        "Όσον αφορά την ύπαρξη μη διατεταγμένων χαρακτηριστικών, το μόνο χαρακτηριστικό που είναι μη διατεταγμένο είναι το χαρακτηριστικό eyeDetection το οποίο αφορά την κατάσταση του ματιού (ανοιχτή-κλειστή)."
      ]
    },
    {
      "cell_type": "markdown",
      "metadata": {
        "id": "XDaTTP8sOrQy"
      },
      "source": [
        "#### Επικεφαλίδες"
      ]
    },
    {
      "cell_type": "markdown",
      "metadata": {
        "id": "J4eK5fASO5IX"
      },
      "source": [
        "Όπως παρατηρούμε παραπάνω, το dataset έχει και επικεφαλίδες και αρίθμηση γραμμών ( 14980 γραμμές). Παρακάτω φαίνονται τα ονόματα των στηλών:"
      ]
    },
    {
      "cell_type": "code",
      "metadata": {
        "colab": {
          "base_uri": "https://localhost:8080/"
        },
        "id": "cf-T9B6MPaFt",
        "outputId": "66be5165-6f8c-4629-d40b-3451030c1bf5"
      },
      "source": [
        "features = list(df.columns.values)\n",
        "print(features)"
      ],
      "execution_count": null,
      "outputs": [
        {
          "output_type": "stream",
          "name": "stdout",
          "text": [
            "['AF3', 'F7', 'F3', 'FC5', 'T7', 'P7', 'O1', 'O2', 'P8', 'T8', 'FC6', 'F4', 'F8', 'AF4', 'eyeDetection']\n"
          ]
        }
      ]
    },
    {
      "cell_type": "markdown",
      "metadata": {
        "id": "kwjCUzqzpooa"
      },
      "source": [
        "#### Ετικέτες των κλάσεων\n",
        "\n"
      ]
    },
    {
      "cell_type": "markdown",
      "metadata": {
        "id": "-J17-160O3Ar"
      },
      "source": [
        "Οι ετικέτες της κλάση στην οποία ανήκει το κάθε δείγμα είναι:\n",
        "\n",
        "* b'0': υποδηλώνει ότι το μάτι είναι ανοιχτό\n",
        "\n",
        "* b'1': υποδηλώνει ότι το μάτι είνια κλειστό\n",
        "\n",
        "Αυτές βρίσκονται στην 15η κολόνα και είναι οι εξής:"
      ]
    },
    {
      "cell_type": "code",
      "metadata": {
        "colab": {
          "base_uri": "https://localhost:8080/"
        },
        "id": "q0UJR0xlpxZy",
        "outputId": "d0bb3c7a-54aa-4e98-9df1-1384fc4fb0fd"
      },
      "source": [
        "y_df=pd.DataFrame(df['eyeDetection'])\n",
        "y_df"
      ],
      "execution_count": null,
      "outputs": [
        {
          "output_type": "execute_result",
          "data": {
            "text/html": [
              "<div>\n",
              "<style scoped>\n",
              "    .dataframe tbody tr th:only-of-type {\n",
              "        vertical-align: middle;\n",
              "    }\n",
              "\n",
              "    .dataframe tbody tr th {\n",
              "        vertical-align: top;\n",
              "    }\n",
              "\n",
              "    .dataframe thead th {\n",
              "        text-align: right;\n",
              "    }\n",
              "</style>\n",
              "<table border=\"1\" class=\"dataframe\">\n",
              "  <thead>\n",
              "    <tr style=\"text-align: right;\">\n",
              "      <th></th>\n",
              "      <th>eyeDetection</th>\n",
              "    </tr>\n",
              "  </thead>\n",
              "  <tbody>\n",
              "    <tr>\n",
              "      <th>0</th>\n",
              "      <td>0</td>\n",
              "    </tr>\n",
              "    <tr>\n",
              "      <th>1</th>\n",
              "      <td>0</td>\n",
              "    </tr>\n",
              "    <tr>\n",
              "      <th>2</th>\n",
              "      <td>0</td>\n",
              "    </tr>\n",
              "    <tr>\n",
              "      <th>3</th>\n",
              "      <td>0</td>\n",
              "    </tr>\n",
              "    <tr>\n",
              "      <th>4</th>\n",
              "      <td>0</td>\n",
              "    </tr>\n",
              "    <tr>\n",
              "      <th>...</th>\n",
              "      <td>...</td>\n",
              "    </tr>\n",
              "    <tr>\n",
              "      <th>14975</th>\n",
              "      <td>1</td>\n",
              "    </tr>\n",
              "    <tr>\n",
              "      <th>14976</th>\n",
              "      <td>1</td>\n",
              "    </tr>\n",
              "    <tr>\n",
              "      <th>14977</th>\n",
              "      <td>1</td>\n",
              "    </tr>\n",
              "    <tr>\n",
              "      <th>14978</th>\n",
              "      <td>1</td>\n",
              "    </tr>\n",
              "    <tr>\n",
              "      <th>14979</th>\n",
              "      <td>1</td>\n",
              "    </tr>\n",
              "  </tbody>\n",
              "</table>\n",
              "<p>14980 rows × 1 columns</p>\n",
              "</div>"
            ],
            "text/plain": [
              "       eyeDetection\n",
              "0                 0\n",
              "1                 0\n",
              "2                 0\n",
              "3                 0\n",
              "4                 0\n",
              "...             ...\n",
              "14975             1\n",
              "14976             1\n",
              "14977             1\n",
              "14978             1\n",
              "14979             1\n",
              "\n",
              "[14980 rows x 1 columns]"
            ]
          },
          "metadata": {},
          "execution_count": 7
        }
      ]
    },
    {
      "cell_type": "markdown",
      "metadata": {
        "id": "LoiJKEmkvJeq"
      },
      "source": [
        "#### Απουσιάζουσες τιμές"
      ]
    },
    {
      "cell_type": "code",
      "metadata": {
        "colab": {
          "base_uri": "https://localhost:8080/"
        },
        "id": "5Rz_VJNYh0WU",
        "outputId": "c40640e9-3153-400d-f991-29c72ce35476"
      },
      "source": [
        "df.isna().any().any()"
      ],
      "execution_count": null,
      "outputs": [
        {
          "output_type": "execute_result",
          "data": {
            "text/plain": [
              "False"
            ]
          },
          "metadata": {},
          "execution_count": 8
        }
      ]
    },
    {
      "cell_type": "markdown",
      "metadata": {
        "id": "f2uUt68rj8VQ"
      },
      "source": [
        "Από τo παραπάνω output παρατηρούμε ότι δεν υπάρχουν απουσιάζουν τιμές, όπως και αναφέρεται άλλωστε και στις πληροφορίες του data set."
      ]
    },
    {
      "cell_type": "markdown",
      "metadata": {
        "id": "Kzrwjo4VyCi5"
      },
      "source": [
        "#### Πλήθος Κλάσεων και και ποσοστά δειγμάτων τους επί του συνόλου"
      ]
    },
    {
      "cell_type": "code",
      "metadata": {
        "colab": {
          "base_uri": "https://localhost:8080/"
        },
        "id": "HdVVVsrOj5HX",
        "outputId": "256aa545-3b3d-437f-8251-bb83ed823d12"
      },
      "source": [
        "print(df[\"eyeDetection\"].value_counts())\n",
        "eye_open, eye_closed = df[\"eyeDetection\"].value_counts()\n",
        "print(\"Percentage of data labeled as eye-open: {:.3f}\".format(100*eye_open/14980))\n",
        "print(\"Percentage of data labeled as eye-closed: {:.3f}\".format(100*eye_closed/14980))"
      ],
      "execution_count": null,
      "outputs": [
        {
          "output_type": "stream",
          "name": "stdout",
          "text": [
            "0    8257\n",
            "1    6723\n",
            "Name: eyeDetection, dtype: int64\n",
            "Percentage of data labeled as eye-open: 55.120\n",
            "Percentage of data labeled as eye-closed: 44.880\n"
          ]
        }
      ]
    },
    {
      "cell_type": "markdown",
      "metadata": {
        "id": "ItpaNPNaxS7y"
      },
      "source": [
        "Από τα παραπάνω παρατηρούμε ότι έχουμε ένα binary dataset, αφού ο αριθμός των κλάσεων είναι 2, όπως αναφέραμε προηγουμένως. Ο αριθμος των δειγμάτων όπου το μάτι είναι ανοιχτό  είναι 8257 ενώ κλειστό είναι 6723. Το αντίστοιχο ποσοστό είναι  55.120% για eye-open και  44.880% για eye-closed. Θεωρώντας ως μη ισορροπημένο ένα dataset στο οποίο η μια κλάση είναι 1.5 φορά πιο συχνή από την άλλη (δηλαδή 60-40 αναλογία) προκύπτει ότι το εν λόγω data set είναι σχετικά ισορροπημένο. Παρακάτω οπτικοποιούμε τον αριθμό των δειγμάτων ανά κλάση."
      ]
    },
    {
      "cell_type": "code",
      "metadata": {
        "colab": {
          "base_uri": "https://localhost:8080/"
        },
        "id": "mqdIlY5AvOkf",
        "outputId": "b16bd7ab-eb4d-40f5-8876-533eed721fd5"
      },
      "source": [
        "classes = [eye_open, eye_closed]\n",
        "fig = plt.figure()\n",
        "x1 = ['eye_open']\n",
        "x2= ['eye_closed']\n",
        "plt.bar(x1, classes[0],label='eye_open')\n",
        "plt.bar(x2, classes[1],label='closed')\n",
        "plt.title('Data classification in each class')\n",
        "plt.xlabel('Class')\n",
        "plt.ylabel('Number')\n",
        "plt.legend()\n",
        "plt.show()"
      ],
      "execution_count": null,
      "outputs": [
        {
          "output_type": "display_data",
          "data": {
            "image/png": "[encoded data removed]",
            "text/plain": [
              "<Figure size 432x288 with 1 Axes>"
            ]
          },
          "metadata": {
            "needs_background": "light"
          }
        }
      ]
    },
    {
      "cell_type": "markdown",
      "metadata": {
        "id": "DAnsIvbczHz5"
      },
      "source": [
        "Παρακάτω οπτικοποιούμε το ποσοστό των δειγμάτων που αντιστοιχούν σε κάθε μία κλάση."
      ]
    },
    {
      "cell_type": "code",
      "metadata": {
        "colab": {
          "base_uri": "https://localhost:8080/"
        },
        "id": "n9AI0pn7viSp",
        "outputId": "bce23818-a3cd-4b7b-cffb-53f3ea4c0d2c"
      },
      "source": [
        "classes = [100*eye_open/14980, 100*eye_closed/14980]\n",
        "\n",
        "fig = plt.figure()\n",
        "x1 = ['eye_open']\n",
        "x2= ['eye_closed']\n",
        "plt.bar(x1,classes[0],label='eye_open')\n",
        "plt.bar(x2,classes[1],label='eye_closed')\n",
        "plt.title('Percentage of data classified in each class')\n",
        "plt.xlabel('Class')\n",
        "plt.ylabel('Number')\n",
        "plt.legend()\n",
        "plt.show()"
      ],
      "execution_count": null,
      "outputs": [
        {
          "output_type": "display_data",
          "data": {
            "image/png": "[encoded data removed]",
            "text/plain": [
              "<Figure size 432x288 with 1 Axes>"
            ]
          },
          "metadata": {
            "needs_background": "light"
          }
        }
      ]
    },
    {
      "cell_type": "markdown",
      "metadata": {
        "id": "eNcJn0BNIzH-"
      },
      "source": [
        "####Στατιστική ανάλυση των δεδομένων"
      ]
    },
    {
      "cell_type": "markdown",
      "metadata": {
        "id": "fVtu6J_QlOzk"
      },
      "source": [
        "Παρακάτω παρατηρούμε τα 14980 δείγματα του data με τις αντίστοιχες τιμές των features που έχει το καθένα, χωρίς όμως την κλάση στην οποία ανήκουν."
      ]
    },
    {
      "cell_type": "code",
      "metadata": {
        "colab": {
          "base_uri": "https://localhost:8080/"
        },
        "id": "gXqBLVjny7oz",
        "outputId": "d8d2e682-5b56-4034-b9cf-1802a0256953"
      },
      "source": [
        "x_data=pd.DataFrame(df.loc[:, df.columns != 'eyeDetection']) # all columns except \"eyeDetection\"\n",
        "x_data"
      ],
      "execution_count": null,
      "outputs": [
        {
          "output_type": "execute_result",
          "data": {
            "text/html": [
              "<div>\n",
              "<style scoped>\n",
              "    .dataframe tbody tr th:only-of-type {\n",
              "        vertical-align: middle;\n",
              "    }\n",
              "\n",
              "    .dataframe tbody tr th {\n",
              "        vertical-align: top;\n",
              "    }\n",
              "\n",
              "    .dataframe thead th {\n",
              "        text-align: right;\n",
              "    }\n",
              "</style>\n",
              "<table border=\"1\" class=\"dataframe\">\n",
              "  <thead>\n",
              "    <tr style=\"text-align: right;\">\n",
              "      <th></th>\n",
              "      <th>AF3</th>\n",
              "      <th>F7</th>\n",
              "      <th>F3</th>\n",
              "      <th>FC5</th>\n",
              "      <th>T7</th>\n",
              "      <th>P7</th>\n",
              "      <th>O1</th>\n",
              "      <th>O2</th>\n",
              "      <th>P8</th>\n",
              "      <th>T8</th>\n",
              "      <th>FC6</th>\n",
              "      <th>F4</th>\n",
              "      <th>F8</th>\n",
              "      <th>AF4</th>\n",
              "    </tr>\n",
              "  </thead>\n",
              "  <tbody>\n",
              "    <tr>\n",
              "      <th>0</th>\n",
              "      <td>4329.23</td>\n",
              "      <td>4009.23</td>\n",
              "      <td>4289.23</td>\n",
              "      <td>4148.21</td>\n",
              "      <td>4350.26</td>\n",
              "      <td>4586.15</td>\n",
              "      <td>4096.92</td>\n",
              "      <td>4641.03</td>\n",
              "      <td>4222.05</td>\n",
              "      <td>4238.46</td>\n",
              "      <td>4211.28</td>\n",
              "      <td>4280.51</td>\n",
              "      <td>4635.90</td>\n",
              "      <td>4393.85</td>\n",
              "    </tr>\n",
              "    <tr>\n",
              "      <th>1</th>\n",
              "      <td>4324.62</td>\n",
              "      <td>4004.62</td>\n",
              "      <td>4293.85</td>\n",
              "      <td>4148.72</td>\n",
              "      <td>4342.05</td>\n",
              "      <td>4586.67</td>\n",
              "      <td>4097.44</td>\n",
              "      <td>4638.97</td>\n",
              "      <td>4210.77</td>\n",
              "      <td>4226.67</td>\n",
              "      <td>4207.69</td>\n",
              "      <td>4279.49</td>\n",
              "      <td>4632.82</td>\n",
              "      <td>4384.10</td>\n",
              "    </tr>\n",
              "    <tr>\n",
              "      <th>2</th>\n",
              "      <td>4327.69</td>\n",
              "      <td>4006.67</td>\n",
              "      <td>4295.38</td>\n",
              "      <td>4156.41</td>\n",
              "      <td>4336.92</td>\n",
              "      <td>4583.59</td>\n",
              "      <td>4096.92</td>\n",
              "      <td>4630.26</td>\n",
              "      <td>4207.69</td>\n",
              "      <td>4222.05</td>\n",
              "      <td>4206.67</td>\n",
              "      <td>4282.05</td>\n",
              "      <td>4628.72</td>\n",
              "      <td>4389.23</td>\n",
              "    </tr>\n",
              "    <tr>\n",
              "      <th>3</th>\n",
              "      <td>4328.72</td>\n",
              "      <td>4011.79</td>\n",
              "      <td>4296.41</td>\n",
              "      <td>4155.90</td>\n",
              "      <td>4343.59</td>\n",
              "      <td>4582.56</td>\n",
              "      <td>4097.44</td>\n",
              "      <td>4630.77</td>\n",
              "      <td>4217.44</td>\n",
              "      <td>4235.38</td>\n",
              "      <td>4210.77</td>\n",
              "      <td>4287.69</td>\n",
              "      <td>4632.31</td>\n",
              "      <td>4396.41</td>\n",
              "    </tr>\n",
              "    <tr>\n",
              "      <th>4</th>\n",
              "      <td>4326.15</td>\n",
              "      <td>4011.79</td>\n",
              "      <td>4292.31</td>\n",
              "      <td>4151.28</td>\n",
              "      <td>4347.69</td>\n",
              "      <td>4586.67</td>\n",
              "      <td>4095.90</td>\n",
              "      <td>4627.69</td>\n",
              "      <td>4210.77</td>\n",
              "      <td>4244.10</td>\n",
              "      <td>4212.82</td>\n",
              "      <td>4288.21</td>\n",
              "      <td>4632.82</td>\n",
              "      <td>4398.46</td>\n",
              "    </tr>\n",
              "    <tr>\n",
              "      <th>...</th>\n",
              "      <td>...</td>\n",
              "      <td>...</td>\n",
              "      <td>...</td>\n",
              "      <td>...</td>\n",
              "      <td>...</td>\n",
              "      <td>...</td>\n",
              "      <td>...</td>\n",
              "      <td>...</td>\n",
              "      <td>...</td>\n",
              "      <td>...</td>\n",
              "      <td>...</td>\n",
              "      <td>...</td>\n",
              "      <td>...</td>\n",
              "      <td>...</td>\n",
              "    </tr>\n",
              "    <tr>\n",
              "      <th>14975</th>\n",
              "      <td>4281.03</td>\n",
              "      <td>3990.26</td>\n",
              "      <td>4245.64</td>\n",
              "      <td>4116.92</td>\n",
              "      <td>4333.85</td>\n",
              "      <td>4614.36</td>\n",
              "      <td>4074.87</td>\n",
              "      <td>4625.64</td>\n",
              "      <td>4203.08</td>\n",
              "      <td>4221.54</td>\n",
              "      <td>4171.28</td>\n",
              "      <td>4269.23</td>\n",
              "      <td>4593.33</td>\n",
              "      <td>4340.51</td>\n",
              "    </tr>\n",
              "    <tr>\n",
              "      <th>14976</th>\n",
              "      <td>4276.92</td>\n",
              "      <td>3991.79</td>\n",
              "      <td>4245.13</td>\n",
              "      <td>4110.77</td>\n",
              "      <td>4332.82</td>\n",
              "      <td>4615.38</td>\n",
              "      <td>4073.33</td>\n",
              "      <td>4621.54</td>\n",
              "      <td>4194.36</td>\n",
              "      <td>4217.44</td>\n",
              "      <td>4162.56</td>\n",
              "      <td>4259.49</td>\n",
              "      <td>4590.26</td>\n",
              "      <td>4333.33</td>\n",
              "    </tr>\n",
              "    <tr>\n",
              "      <th>14977</th>\n",
              "      <td>4277.44</td>\n",
              "      <td>3990.77</td>\n",
              "      <td>4246.67</td>\n",
              "      <td>4113.85</td>\n",
              "      <td>4333.33</td>\n",
              "      <td>4615.38</td>\n",
              "      <td>4072.82</td>\n",
              "      <td>4623.59</td>\n",
              "      <td>4193.33</td>\n",
              "      <td>4212.82</td>\n",
              "      <td>4160.51</td>\n",
              "      <td>4257.95</td>\n",
              "      <td>4591.79</td>\n",
              "      <td>4339.49</td>\n",
              "    </tr>\n",
              "    <tr>\n",
              "      <th>14978</th>\n",
              "      <td>4284.62</td>\n",
              "      <td>3991.79</td>\n",
              "      <td>4251.28</td>\n",
              "      <td>4122.05</td>\n",
              "      <td>4334.36</td>\n",
              "      <td>4616.41</td>\n",
              "      <td>4080.51</td>\n",
              "      <td>4628.72</td>\n",
              "      <td>4200.00</td>\n",
              "      <td>4220.00</td>\n",
              "      <td>4165.64</td>\n",
              "      <td>4267.18</td>\n",
              "      <td>4596.41</td>\n",
              "      <td>4350.77</td>\n",
              "    </tr>\n",
              "    <tr>\n",
              "      <th>14979</th>\n",
              "      <td>4287.69</td>\n",
              "      <td>3997.44</td>\n",
              "      <td>4260.00</td>\n",
              "      <td>4121.03</td>\n",
              "      <td>4333.33</td>\n",
              "      <td>4616.41</td>\n",
              "      <td>4088.72</td>\n",
              "      <td>4638.46</td>\n",
              "      <td>4212.31</td>\n",
              "      <td>4226.67</td>\n",
              "      <td>4167.69</td>\n",
              "      <td>4274.36</td>\n",
              "      <td>4597.95</td>\n",
              "      <td>4350.77</td>\n",
              "    </tr>\n",
              "  </tbody>\n",
              "</table>\n",
              "<p>14980 rows × 14 columns</p>\n",
              "</div>"
            ],
            "text/plain": [
              "           AF3       F7       F3      FC5  ...      FC6       F4       F8      AF4\n",
              "0      4329.23  4009.23  4289.23  4148.21  ...  4211.28  4280.51  4635.90  4393.85\n",
              "1      4324.62  4004.62  4293.85  4148.72  ...  4207.69  4279.49  4632.82  4384.10\n",
              "2      4327.69  4006.67  4295.38  4156.41  ...  4206.67  4282.05  4628.72  4389.23\n",
              "3      4328.72  4011.79  4296.41  4155.90  ...  4210.77  4287.69  4632.31  4396.41\n",
              "4      4326.15  4011.79  4292.31  4151.28  ...  4212.82  4288.21  4632.82  4398.46\n",
              "...        ...      ...      ...      ...  ...      ...      ...      ...      ...\n",
              "14975  4281.03  3990.26  4245.64  4116.92  ...  4171.28  4269.23  4593.33  4340.51\n",
              "14976  4276.92  3991.79  4245.13  4110.77  ...  4162.56  4259.49  4590.26  4333.33\n",
              "14977  4277.44  3990.77  4246.67  4113.85  ...  4160.51  4257.95  4591.79  4339.49\n",
              "14978  4284.62  3991.79  4251.28  4122.05  ...  4165.64  4267.18  4596.41  4350.77\n",
              "14979  4287.69  3997.44  4260.00  4121.03  ...  4167.69  4274.36  4597.95  4350.77\n",
              "\n",
              "[14980 rows x 14 columns]"
            ]
          },
          "metadata": {},
          "execution_count": 12
        }
      ]
    },
    {
      "cell_type": "markdown",
      "metadata": {
        "id": "-jpxRs80lyEA"
      },
      "source": [
        "Από τη στιγμή που έχουμε αφαιρέσει απο τα δεδομένα την κλάση στην οποία ανήκουν, κάνουμε στατιστική ανάλυση των features μέσω της describe() μεθόδου"
      ]
    },
    {
      "cell_type": "code",
      "metadata": {
        "colab": {
          "base_uri": "https://localhost:8080/"
        },
        "id": "kewQ2BgIQQfG",
        "outputId": "69ec3b78-1bcd-4400-ee7d-e3053ec366a7"
      },
      "source": [
        "x_data.describe()"
      ],
      "execution_count": null,
      "outputs": [
        {
          "output_type": "execute_result",
          "data": {
            "text/html": [
              "<div>\n",
              "<style scoped>\n",
              "    .dataframe tbody tr th:only-of-type {\n",
              "        vertical-align: middle;\n",
              "    }\n",
              "\n",
              "    .dataframe tbody tr th {\n",
              "        vertical-align: top;\n",
              "    }\n",
              "\n",
              "    .dataframe thead th {\n",
              "        text-align: right;\n",
              "    }\n",
              "</style>\n",
              "<table border=\"1\" class=\"dataframe\">\n",
              "  <thead>\n",
              "    <tr style=\"text-align: right;\">\n",
              "      <th></th>\n",
              "      <th>AF3</th>\n",
              "      <th>F7</th>\n",
              "      <th>F3</th>\n",
              "      <th>FC5</th>\n",
              "      <th>T7</th>\n",
              "      <th>P7</th>\n",
              "      <th>O1</th>\n",
              "      <th>O2</th>\n",
              "      <th>P8</th>\n",
              "      <th>T8</th>\n",
              "      <th>FC6</th>\n",
              "      <th>F4</th>\n",
              "      <th>F8</th>\n",
              "      <th>AF4</th>\n",
              "    </tr>\n",
              "  </thead>\n",
              "  <tbody>\n",
              "    <tr>\n",
              "      <th>count</th>\n",
              "      <td>14980.000000</td>\n",
              "      <td>14980.000000</td>\n",
              "      <td>14980.000000</td>\n",
              "      <td>14980.000000</td>\n",
              "      <td>14980.000000</td>\n",
              "      <td>14980.000000</td>\n",
              "      <td>14980.000000</td>\n",
              "      <td>14980.000000</td>\n",
              "      <td>14980.000000</td>\n",
              "      <td>14980.000000</td>\n",
              "      <td>14980.000000</td>\n",
              "      <td>14980.000000</td>\n",
              "      <td>14980.000000</td>\n",
              "      <td>14980.000000</td>\n",
              "    </tr>\n",
              "    <tr>\n",
              "      <th>mean</th>\n",
              "      <td>4321.917777</td>\n",
              "      <td>4009.767694</td>\n",
              "      <td>4264.022433</td>\n",
              "      <td>4164.946326</td>\n",
              "      <td>4341.741075</td>\n",
              "      <td>4644.022379</td>\n",
              "      <td>4110.400160</td>\n",
              "      <td>4616.056904</td>\n",
              "      <td>4218.826610</td>\n",
              "      <td>4231.316200</td>\n",
              "      <td>4202.456900</td>\n",
              "      <td>4279.232774</td>\n",
              "      <td>4615.205336</td>\n",
              "      <td>4416.435832</td>\n",
              "    </tr>\n",
              "    <tr>\n",
              "      <th>std</th>\n",
              "      <td>2492.072174</td>\n",
              "      <td>45.941672</td>\n",
              "      <td>44.428052</td>\n",
              "      <td>5216.404632</td>\n",
              "      <td>34.738821</td>\n",
              "      <td>2924.789537</td>\n",
              "      <td>4600.926543</td>\n",
              "      <td>29.292603</td>\n",
              "      <td>2136.408523</td>\n",
              "      <td>38.050903</td>\n",
              "      <td>37.785981</td>\n",
              "      <td>41.544312</td>\n",
              "      <td>1208.369958</td>\n",
              "      <td>5891.285043</td>\n",
              "    </tr>\n",
              "    <tr>\n",
              "      <th>min</th>\n",
              "      <td>1030.770000</td>\n",
              "      <td>2830.770000</td>\n",
              "      <td>1040.000000</td>\n",
              "      <td>2453.330000</td>\n",
              "      <td>2089.740000</td>\n",
              "      <td>2768.210000</td>\n",
              "      <td>2086.150000</td>\n",
              "      <td>4567.180000</td>\n",
              "      <td>1357.950000</td>\n",
              "      <td>1816.410000</td>\n",
              "      <td>3273.330000</td>\n",
              "      <td>2257.950000</td>\n",
              "      <td>86.666700</td>\n",
              "      <td>1366.150000</td>\n",
              "    </tr>\n",
              "    <tr>\n",
              "      <th>25%</th>\n",
              "      <td>4280.510000</td>\n",
              "      <td>3990.770000</td>\n",
              "      <td>4250.260000</td>\n",
              "      <td>4108.210000</td>\n",
              "      <td>4331.790000</td>\n",
              "      <td>4611.790000</td>\n",
              "      <td>4057.950000</td>\n",
              "      <td>4604.620000</td>\n",
              "      <td>4190.770000</td>\n",
              "      <td>4220.510000</td>\n",
              "      <td>4190.260000</td>\n",
              "      <td>4267.690000</td>\n",
              "      <td>4590.770000</td>\n",
              "      <td>4342.050000</td>\n",
              "    </tr>\n",
              "    <tr>\n",
              "      <th>50%</th>\n",
              "      <td>4294.360000</td>\n",
              "      <td>4005.640000</td>\n",
              "      <td>4262.560000</td>\n",
              "      <td>4120.510000</td>\n",
              "      <td>4338.970000</td>\n",
              "      <td>4617.950000</td>\n",
              "      <td>4070.260000</td>\n",
              "      <td>4613.330000</td>\n",
              "      <td>4199.490000</td>\n",
              "      <td>4229.230000</td>\n",
              "      <td>4200.510000</td>\n",
              "      <td>4276.920000</td>\n",
              "      <td>4603.080000</td>\n",
              "      <td>4354.870000</td>\n",
              "    </tr>\n",
              "    <tr>\n",
              "      <th>75%</th>\n",
              "      <td>4311.790000</td>\n",
              "      <td>4023.080000</td>\n",
              "      <td>4270.770000</td>\n",
              "      <td>4132.310000</td>\n",
              "      <td>4347.180000</td>\n",
              "      <td>4626.670000</td>\n",
              "      <td>4083.590000</td>\n",
              "      <td>4624.100000</td>\n",
              "      <td>4209.230000</td>\n",
              "      <td>4239.490000</td>\n",
              "      <td>4211.280000</td>\n",
              "      <td>4287.180000</td>\n",
              "      <td>4617.440000</td>\n",
              "      <td>4372.820000</td>\n",
              "    </tr>\n",
              "    <tr>\n",
              "      <th>max</th>\n",
              "      <td>309231.000000</td>\n",
              "      <td>7804.620000</td>\n",
              "      <td>6880.510000</td>\n",
              "      <td>642564.000000</td>\n",
              "      <td>6474.360000</td>\n",
              "      <td>362564.000000</td>\n",
              "      <td>567179.000000</td>\n",
              "      <td>7264.100000</td>\n",
              "      <td>265641.000000</td>\n",
              "      <td>6674.360000</td>\n",
              "      <td>6823.080000</td>\n",
              "      <td>7002.560000</td>\n",
              "      <td>152308.000000</td>\n",
              "      <td>715897.000000</td>\n",
              "    </tr>\n",
              "  </tbody>\n",
              "</table>\n",
              "</div>"
            ],
            "text/plain": [
              "                 AF3            F7  ...             F8            AF4\n",
              "count   14980.000000  14980.000000  ...   14980.000000   14980.000000\n",
              "mean     4321.917777   4009.767694  ...    4615.205336    4416.435832\n",
              "std      2492.072174     45.941672  ...    1208.369958    5891.285043\n",
              "min      1030.770000   2830.770000  ...      86.666700    1366.150000\n",
              "25%      4280.510000   3990.770000  ...    4590.770000    4342.050000\n",
              "50%      4294.360000   4005.640000  ...    4603.080000    4354.870000\n",
              "75%      4311.790000   4023.080000  ...    4617.440000    4372.820000\n",
              "max    309231.000000   7804.620000  ...  152308.000000  715897.000000\n",
              "\n",
              "[8 rows x 14 columns]"
            ]
          },
          "metadata": {},
          "execution_count": 13
        }
      ]
    },
    {
      "cell_type": "markdown",
      "metadata": {
        "id": "W2Kowoo1j5OK"
      },
      "source": [
        "Παρατηρούμε ότι όλα τα features έχουν σημαντικές μη μηδενικές τιμές διασποράς και μέσης τιμής. Γενικά  η πολύ χαμηλή  διακύμανση ενός χαρακτηριστικού εισόδου  δεν συμβάλει σημαντικά στη διαχωριστική ικανότητα του ταξινομητή. Ειδικά όταν η διακύμανση είναι 0, δηλαδή το χαρακτηριστικό έχει σταθερή τιμή για όλα τα δείγματα εκπαίδευσης, δεν παρέχει καμία πληροφορία  στον ταξινομητή για να αποφασίσει αν ένα δείγμα ανήκει σε μία κλάση ή σε μια άλλη και επιπλέον μπορεί να δυσκολέψει άλλες διαδικασίες της προεπεξεργασίας όπως η κανονικοποίηση των χαρακτηριστικών.\n",
        "Γενικά η μεγάλη διαστατικότητα δυσκολεύει τους αλγορίθμους μηχανικής μάθησης, επομένως η απομάκρυνση κάποιας στήλης είναι αρκετά βοηθητική για το σύστημα. Παρόλα αυτά στην περιπτωσή μας δεν χρειάζεται να γίνει καμία τέτοια απομάκρυνση.\n",
        "\n"
      ]
    },
    {
      "cell_type": "markdown",
      "metadata": {
        "id": "vhA06nxpKcJ3"
      },
      "source": [
        "##Προετοιμασία"
      ]
    },
    {
      "cell_type": "markdown",
      "metadata": {
        "id": "4fWXP0DIPjwU"
      },
      "source": [
        "#### Διαχωρισμός δεδομένων σε train και test"
      ]
    },
    {
      "cell_type": "markdown",
      "metadata": {
        "id": "TBG-FaRx0cj-"
      },
      "source": [
        "Στην συνέχεια μετατρέπουμε τα δεδομένα σε μορφή συμβατή ως προς την scikit learn δηλαδή σε τύπο: <class 'numpy.ndarray'>"
      ]
    },
    {
      "cell_type": "code",
      "metadata": {
        "id": "vV4XsF9ATsqm"
      },
      "source": [
        "X = x_data.values\n",
        "y = y_df.values.ravel()"
      ],
      "execution_count": null,
      "outputs": []
    },
    {
      "cell_type": "markdown",
      "metadata": {
        "id": "-gshaFxekR_8"
      },
      "source": [
        "Έπειτα διαχωρίζουμε training και testing δεδομένα σε ποσοστό 70%-30%, όπως μας ζητείται, άρα έχουμε 10486 δείγματα στο train set και 4494 στο test set.\n"
      ]
    },
    {
      "cell_type": "code",
      "metadata": {
        "id": "5Is47HdSjLiF"
      },
      "source": [
        "X_train, X_test, y_train, y_test = train_test_split(X, y, test_size=0.3)"
      ],
      "execution_count": null,
      "outputs": []
    },
    {
      "cell_type": "code",
      "metadata": {
        "colab": {
          "base_uri": "https://localhost:8080/"
        },
        "id": "gRWut4kdkveV",
        "outputId": "1eeaa2a3-d74d-43dc-a404-ad50a6fffab8"
      },
      "source": [
        "print('Dimensions of train labels array:', y_train.shape)\n",
        "print('Dimensions of train samples array:', X_train.shape)\n",
        "print('Dimensions of test labels array:', y_test.shape)\n",
        "print('Dimensions of test samples array:', X_test.shape)"
      ],
      "execution_count": null,
      "outputs": [
        {
          "output_type": "stream",
          "name": "stdout",
          "text": [
            "Dimensions of train labels array: (10486,)\n",
            "Dimensions of train samples array: (10486, 14)\n",
            "Dimensions of test labels array: (4494,)\n",
            "Dimensions of test samples array: (4494, 14)\n"
          ]
        }
      ]
    },
    {
      "cell_type": "markdown",
      "metadata": {
        "id": "LuNHVEf4KU0z"
      },
      "source": [
        "####Απουσιάζουσες τιμές"
      ]
    },
    {
      "cell_type": "markdown",
      "metadata": {
        "id": "rF8TgR_qKJLm"
      },
      "source": [
        "Σημειώνουμε ότι, όπως αναφέραμε νωρίτερα, δεν υπάρχουν απουσιάζουσες τιμές στο dataset που διαθέτουμε."
      ]
    },
    {
      "cell_type": "markdown",
      "metadata": {
        "id": "ezbAM_vBJIMK"
      },
      "source": [
        "####Κατηγορικά και μη διατεταγμένα χαρακτηριστικά"
      ]
    },
    {
      "cell_type": "markdown",
      "metadata": {
        "id": "MKLJkyA9JP3P"
      },
      "source": [
        "Στο dataset το μόνο χαρακτηριστικό το οποίο είναι κατηγορικό και μη διατεταγμένο είναι οι ετικέτες, δηλαδή το χαρακτηρηστικό με τίτλο στήλης \"eyeDetection\". Το χαρακτηρηστικό αυτό έχει δύο κατηγορίες, b'0' (ανοιχτό μάτι) και b'1' (κλειστό μάτι). Η διαχείριση που κάναμε σε αυτό ήταν η αντικατάσταση της μορφής 'b' με απλούς αριθμούς 0 και 1, καθώς και η εξαγωγή του χαρακτηρηστικού σε ξεχωριστό μονοδιάστατο πίνακα ετικετών (y)."
      ]
    },
    {
      "cell_type": "markdown",
      "metadata": {
        "id": "sHbDImvkrR08"
      },
      "source": [
        "## Ταξινόμηση"
      ]
    },
    {
      "cell_type": "markdown",
      "metadata": {
        "id": "HT4xztWy60oD"
      },
      "source": [
        "Στο μέρος αυτό εξετάζουμε τους εξής ταξινομητές:\n",
        "\n",
        "* dummy\n",
        "* Gaussian Naive Bayes (GNB)\n",
        "* KNeirestNeighbors (kNN)\n",
        "* Logistic Regression (LR)\n",
        "\n",
        "και αξιολογούμε την απόδοση τους για τις εξής μετρικές:\n",
        "\n",
        "* ορθότητα (accuracy)\n",
        "* F1-score (weighted)\n",
        "\n",
        "Όσον αφορά την επιλογή weighted F1-score, σημειώνουμε ότι επιλέξαμε αυτό το είδος F1-score, καθώς αυτό λαμβάνει υπ' όψιν την ύπαρξη imbalances στο πλήθος δεδομένων ανά κατηγορία. Στα παρόντα δεδομένα, όπως αναφέραμε νωρίτερα, αν και δεν έχουμε πολύ μεγάλη ανισορροπία, εξακολουθούμε να μην έχουμε 50-50 διαμοιρασμό, και άρα μία μικρή ανισορροπία είναι υπαρκτή, και επιθυμούμε να την λάβουμε υπ' όψιν."
      ]
    },
    {
      "cell_type": "markdown",
      "metadata": {
        "id": "rzte4nsH8FgZ"
      },
      "source": [
        "Στο μέρος αυτό θα χρησιμοποιηθεί και η έννοια του **πίνακα σύγχυσης (confusion matrix)**. Ουσιαστικά  πρόκειται για έναν MxM πίνακα, όπου το (i,j) στοιχείο του ισούται με το πλήθος των σημείων που, ενώ προέρχονται από την κλάση i, καταχωρούνται στην κλάση j. O πίνακας αυτός παρέχει πληροφορίες σχετικά με το αν κάποιες κλάσεις έχουν τη τάση να συγχέονται με  άλλες κλάσεις."
      ]
    },
    {
      "cell_type": "markdown",
      "metadata": {
        "id": "jNWnBkKP6flP"
      },
      "source": [
        "Η παρακάτω συνάρτηση θα χρησιμοποιηθεί για τoν σχεδιασμό του confusion matrix"
      ]
    },
    {
      "cell_type": "code",
      "metadata": {
        "id": "LZtZ4H7cu7yE"
      },
      "source": [
        "def plot_confusion_matrix(cm, classes,title='Confusion matrix',cmap=plt.cm.Blues):\n",
        "    plt.imshow(cm, interpolation='nearest', cmap=cmap)\n",
        "    plt.title(title)\n",
        "    plt.colorbar()\n",
        "    tick_marks = np.arange(len(classes))\n",
        "    plt.xticks(tick_marks, classes, rotation=45)\n",
        "    plt.yticks(tick_marks, classes)\n",
        "\n",
        "    fmt = 'd'\n",
        "    thresh = cm.max() / 2.\n",
        "    for i, j in itertools.product(range(cm.shape[0]), range(cm.shape[1])):\n",
        "        plt.text(j, i, format(cm[i, j], fmt),\n",
        "                 horizontalalignment=\"center\",\n",
        "                 color=\"white\" if cm[i, j] > thresh else \"black\")\n",
        "\n",
        "    plt.ylabel('True label')\n",
        "    plt.xlabel('Predicted label')\n",
        "    plt.tight_layout()\n",
        "    plt.show()\n"
      ],
      "execution_count": null,
      "outputs": []
    },
    {
      "cell_type": "markdown",
      "metadata": {
        "id": "QUoFwbP26Xga"
      },
      "source": [
        "Η παρακάτω συνάρτηση θα χρησιμοποιηθεί στη συνέχεια για τον υπολογισμό και την εκτύπωση των μετρικών αξιολόγησης των ταξινομητών. (Σημειώνουμε ότι υπολογίζουμε τις ζητούμενες μετρικές και τις τυπώνουμε κάνωντας 10-fold cross-validation)."
      ]
    },
    {
      "cell_type": "code",
      "metadata": {
        "id": "_o-bhD-e3ewm"
      },
      "source": [
        "def classification_baseline_metrics(clf,X_train,X_test,y_train,y_test):\n",
        "\n",
        "    f1_weighted = cross_val_score(clf,X_train,y_train,cv=10,scoring='f1_weighted')\n",
        "    acc = cross_val_score(clf,X_train,y_train,cv=10,scoring='accuracy')\n",
        "    print(\"10-fold corss validation accuracy of \"+ str(clf) + \" is :\" ,acc)\n",
        "    accuracy=np.mean(acc)\n",
        "    print(\"Accuracy score is \", accuracy)\n",
        "    f1_weighted= np.mean(f1_weighted)\n",
        "    print(\"f1 weighted score =\",f1_weighted)\n",
        "\n",
        "    return clf,f1_weighted,accuracy"
      ],
      "execution_count": null,
      "outputs": []
    },
    {
      "cell_type": "markdown",
      "metadata": {
        "id": "m6D_0jIvGpF3"
      },
      "source": [
        "Στην παρακάτω συνάρτηση στην αρχή \"εκπαιδεύουμε\" τον ταξινομητή στο σύνολο εκπαίδευσης μέσω της μεθόδου fit και με τη μέθοδο predict παράγουμε προβλέψεις για τα δεδομένα ελέγχου (test set), κρατώντας τους αντίστοιχους χρόνους. Τέλος τυπώνουμε τον πίνακα σύγχυσης καλώντας κάθε φορά τη συνάρτηση plot_confusion_matrix."
      ]
    },
    {
      "cell_type": "code",
      "metadata": {
        "id": "wobNi40AFZPu"
      },
      "source": [
        "def classification_baseline(clf,X_train,X_test,y_train,y_test, plot_confusion=False, plot_seaborn=False):\n",
        "    t1 = time.time()\n",
        "    clf.fit(X_train,y_train)      # train the classifier\n",
        "    t2 = time.time()\n",
        "    y_pred = clf.predict(X_test)  # predict class for each sample in test set\n",
        "    t3= time.time()\n",
        "\n",
        "    if (plot_confusion):\n",
        "      cf_matrix = confusion_matrix(y_pred,y_test)\n",
        "      plot_confusion_matrix(cf_matrix, ['eye_open', 'eye_closed'],title='Confusion matrix')   # call function to plot confusion matrix\n",
        "    fit_time=round(t2-t1,5)         # calculate time need to fit\n",
        "    predict_time=round(t3-t2,5)     # calculate time needed to predict\n",
        "    if (plot_seaborn):\n",
        "      print('\\n')\n",
        "      ax = plt.axes()\n",
        "      sns.heatmap(cf_matrix, annot=False)\n",
        "      ax.set_title('Heatmap')\n",
        "\n",
        "    return clf,fit_time,predict_time"
      ],
      "execution_count": null,
      "outputs": []
    },
    {
      "cell_type": "markdown",
      "metadata": {
        "id": "hCfoyuyLScsQ"
      },
      "source": [
        "###Επίδοση out of the box"
      ]
    },
    {
      "cell_type": "markdown",
      "metadata": {
        "id": "aAZCVjL2rzzL"
      },
      "source": [
        "#### Dummy Classifier"
      ]
    },
    {
      "cell_type": "markdown",
      "metadata": {
        "id": "GIitiIl9sSSO"
      },
      "source": [
        "Αρχικά εξετάζουμε τους dummy classifiers με χρήση της κλάσης DummyClassifier, η οποία δέχεται μια παράμετρο που καθορίζει την τακτική της ταξινόμησης ως εξής:\n",
        "\n",
        "  *  \"uniform”: προβλέπει τυχαία και ομοιόμορφα\n",
        "  *  “constant”: προβλέπει πάντα μία κατηγορία που τη διαλέγει ο χρήστης\n",
        "  *  “most_frequent”: προβλέπει πάντα την πιο συχνή κατηγορία στο training set\n",
        "  *  “prior”: προβλέπει πάντα την κατηγορία με την μεγαλύτερη prior πιθανότητα\n",
        "  *  “stratified”: κάνει προβλέψεις διατηρώντας την κατανομή των κλάσεων στο training set\n",
        "\n"
      ]
    },
    {
      "cell_type": "markdown",
      "metadata": {
        "id": "qIMMnUe_tAhF"
      },
      "source": [
        "##### Dummy Uniform"
      ]
    },
    {
      "cell_type": "code",
      "metadata": {
        "colab": {
          "base_uri": "https://localhost:8080/"
        },
        "id": "9zxdj3z4j9df",
        "outputId": "071f21f0-86cc-4103-cb99-3ed77769aabb"
      },
      "source": [
        "clf_uniform = DummyClassifier(strategy=\"uniform\")\n",
        "uniform = classification_baseline_metrics(clf_uniform,X_train,X_test,y_train,y_test)\n",
        "uniform_diagrams= classification_baseline(clf_uniform,X_train,X_test,y_train,y_test,True,True)"
      ],
      "execution_count": null,
      "outputs": [
        {
          "output_type": "stream",
          "name": "stdout",
          "text": [
            "10-fold corss validation accuracy of DummyClassifier(strategy='uniform') is : [0.48427073 0.48808389 0.51954242 0.5128694  0.50047664 0.51191611\n",
            " 0.49618321 0.49332061 0.47041985 0.49427481]\n",
            "Accuracy score is  0.49713576725198116\n",
            "f1 weighted score = 0.503326104523095\n"
          ]
        },
        {
          "output_type": "display_data",
          "data": {
            "image/png": "[encoded data removed]",
            "text/plain": [
              "<Figure size 432x288 with 2 Axes>"
            ]
          },
          "metadata": {
            "needs_background": "light"
          }
        },
        {
          "output_type": "stream",
          "name": "stdout",
          "text": [
            "\n",
            "\n"
          ]
        },
        {
          "output_type": "display_data",
          "data": {
            "image/png": "[encoded data removed]",
            "text/plain": [
              "<Figure size 432x288 with 2 Axes>"
            ]
          },
          "metadata": {
            "needs_background": "light"
          }
        }
      ]
    },
    {
      "cell_type": "markdown",
      "metadata": {
        "id": "FNb-R7i6-1zT"
      },
      "source": [
        "Παρατηρούμε ότι αν τρέξουμε το πρoηγούμενο κελί διαδοχικές φορές, το accuracy αλλάζει γιατί καλούμε εκ νέου τον ταξινομητή να κάνει (τυχαίες) προβλέψεις.\n",
        "\n",
        "Στο παράδειγμα αυτό ο πίνακας σύγχυσης σχεδιάστηκε τόσο με την συνάρτηση plot_confusion_matrix όσο και με την seaborn.  Στα παρακατω παραδείγματα θα τον σχεδιάσουμε τον  μόνο μέσω της συνάρτηση plot_confusion matrix."
      ]
    },
    {
      "cell_type": "markdown",
      "metadata": {
        "id": "oeik2SkB4ls5"
      },
      "source": [
        "##### Dummy Stratified"
      ]
    },
    {
      "cell_type": "code",
      "metadata": {
        "colab": {
          "base_uri": "https://localhost:8080/"
        },
        "id": "3wr0FWkYrVER",
        "outputId": "9bcf0963-bf4d-46f3-ac8d-36f7f48dc384"
      },
      "source": [
        "clf_stratified = DummyClassifier(strategy=\"stratified\")\n",
        "stratified_1 = classification_baseline_metrics(clf_stratified,X_train,X_test,y_train,y_test)\n",
        "stratified_diagrams= classification_baseline(clf_stratified,X_train,X_test,y_train,y_test,True,False)"
      ],
      "execution_count": null,
      "outputs": [
        {
          "output_type": "stream",
          "name": "stdout",
          "text": [
            "10-fold corss validation accuracy of DummyClassifier(strategy='stratified') is : [0.52907531 0.51572927 0.49380362 0.49666349 0.54623451 0.53574833\n",
            " 0.52385496 0.49427481 0.51526718 0.52003817]\n",
            "Accuracy score is  0.5170689642625839\n",
            "f1 weighted score = 0.5043763581873204\n"
          ]
        },
        {
          "output_type": "display_data",
          "data": {
            "image/png": "[encoded data removed]",
            "text/plain": [
              "<Figure size 432x288 with 2 Axes>"
            ]
          },
          "metadata": {
            "needs_background": "light"
          }
        }
      ]
    },
    {
      "cell_type": "markdown",
      "metadata": {
        "id": "FxQDhCXrLUBe"
      },
      "source": [
        "Όπως και παραπάνω, παρατηρούμε ότι αν τρέξουμε το πρoηγούμενο κελί διαδοχικές φορές, το accuracy αλλάζει γιατί καλούμε εκ νέου τον ταξινομητή να κάνει (τυχαίες) προβλέψεις."
      ]
    },
    {
      "cell_type": "markdown",
      "metadata": {
        "id": "p6PIIoZH5Zty"
      },
      "source": [
        "##### Dummy Most Frequent"
      ]
    },
    {
      "cell_type": "code",
      "metadata": {
        "colab": {
          "base_uri": "https://localhost:8080/"
        },
        "id": "mrUAgfz1vRop",
        "outputId": "1078aabf-63c5-4f5c-e39f-ed559b3a21c7"
      },
      "source": [
        "clf_most_frequent = DummyClassifier(strategy=\"most_frequent\")\n",
        "most_frequent = classification_baseline_metrics(clf_most_frequent,X_train,X_test,y_train,y_test)\n",
        "most_frequent_diagrams= classification_baseline(clf_most_frequent,X_train,X_test,y_train,y_test,True,False)"
      ],
      "execution_count": null,
      "outputs": [
        {
          "output_type": "stream",
          "name": "stdout",
          "text": [
            "10-fold corss validation accuracy of DummyClassifier(strategy='most_frequent') is : [0.55195424 0.55195424 0.55195424 0.55195424 0.55195424 0.55290753\n",
            " 0.55248092 0.55248092 0.55248092 0.55248092]\n",
            "Accuracy score is  0.5522602405780861\n",
            "f1 weighted score = 0.39296428556146196\n"
          ]
        },
        {
          "output_type": "display_data",
          "data": {
            "image/png": "[encoded data removed]",
            "text/plain": [
              "<Figure size 432x288 with 2 Axes>"
            ]
          },
          "metadata": {
            "needs_background": "light"
          }
        }
      ]
    },
    {
      "cell_type": "markdown",
      "metadata": {
        "id": "x3uGe2c55x-p"
      },
      "source": [
        "##### Dummy Prior"
      ]
    },
    {
      "cell_type": "code",
      "metadata": {
        "colab": {
          "base_uri": "https://localhost:8080/"
        },
        "id": "x05lxdA1wwc7",
        "outputId": "96fff47d-a262-4024-b99f-1df25710c333"
      },
      "source": [
        "clf_prior = DummyClassifier(strategy=\"prior\")\n",
        "prior = classification_baseline_metrics(clf_prior,X_train,X_test,y_train,y_test)\n",
        "prior_diagrams= classification_baseline(clf_prior,X_train,X_test,y_train,y_test,True,False)\n"
      ],
      "execution_count": null,
      "outputs": [
        {
          "output_type": "stream",
          "name": "stdout",
          "text": [
            "10-fold corss validation accuracy of DummyClassifier() is : [0.55195424 0.55195424 0.55195424 0.55195424 0.55195424 0.55290753\n",
            " 0.55248092 0.55248092 0.55248092 0.55248092]\n",
            "Accuracy score is  0.5522602405780861\n",
            "f1 weighted score = 0.39296428556146196\n"
          ]
        },
        {
          "output_type": "display_data",
          "data": {
            "image/png": "[encoded data removed]",
            "text/plain": [
              "<Figure size 432x288 with 2 Axes>"
            ]
          },
          "metadata": {
            "needs_background": "light"
          }
        }
      ]
    },
    {
      "cell_type": "markdown",
      "metadata": {
        "id": "bSgKQmoW5-Zp"
      },
      "source": [
        "##### Dummy Constant 0"
      ]
    },
    {
      "cell_type": "code",
      "metadata": {
        "colab": {
          "base_uri": "https://localhost:8080/"
        },
        "id": "VNEMZAVh56kk",
        "outputId": "e752229d-8606-4b9a-ed7e-74a8a6a54075"
      },
      "source": [
        "clf_constant_0 = DummyClassifier(strategy=\"constant\", constant = 0)\n",
        "constant_0 = classification_baseline_metrics(clf_constant_0,X_train,X_test,y_train,y_test)\n",
        "constant_0_diagrams= classification_baseline(clf_constant_0,X_train,X_test,y_train,y_test,True,False)"
      ],
      "execution_count": null,
      "outputs": [
        {
          "output_type": "stream",
          "name": "stdout",
          "text": [
            "10-fold corss validation accuracy of DummyClassifier(constant=0, strategy='constant') is : [0.55195424 0.55195424 0.55195424 0.55195424 0.55195424 0.55290753\n",
            " 0.55248092 0.55248092 0.55248092 0.55248092]\n",
            "Accuracy score is  0.5522602405780861\n",
            "f1 weighted score = 0.39296428556146196\n"
          ]
        },
        {
          "output_type": "display_data",
          "data": {
            "image/png": "[encoded data removed]",
            "text/plain": [
              "<Figure size 432x288 with 2 Axes>"
            ]
          },
          "metadata": {
            "needs_background": "light"
          }
        }
      ]
    },
    {
      "cell_type": "markdown",
      "metadata": {
        "id": "Erh3aVV0V5DV"
      },
      "source": [
        "##### Dummy Constant 1"
      ]
    },
    {
      "cell_type": "code",
      "metadata": {
        "colab": {
          "base_uri": "https://localhost:8080/"
        },
        "id": "a0iMJ1_O6HBX",
        "outputId": "557c16ca-ed51-4883-c7d6-43f16b55aea5"
      },
      "source": [
        "clf_constant_1 = DummyClassifier(strategy=\"constant\", constant = 1)\n",
        "constant_1 = classification_baseline_metrics(clf_constant_1,X_train,X_test,y_train,y_test)\n",
        "constant_1_diagrams= classification_baseline(clf_constant_1,X_train,X_test,y_train,y_test,True,False)"
      ],
      "execution_count": null,
      "outputs": [
        {
          "output_type": "stream",
          "name": "stdout",
          "text": [
            "10-fold corss validation accuracy of DummyClassifier(constant=1, strategy='constant') is : [0.44804576 0.44804576 0.44804576 0.44804576 0.44804576 0.44709247\n",
            " 0.44751908 0.44751908 0.44751908 0.44751908]\n",
            "Accuracy score is  0.447739759421914\n",
            "f1 weighted score = 0.276943342184493\n"
          ]
        },
        {
          "output_type": "display_data",
          "data": {
            "image/png": "[encoded data removed]",
            "text/plain": [
              "<Figure size 432x288 with 2 Axes>"
            ]
          },
          "metadata": {
            "needs_background": "light"
          }
        }
      ]
    },
    {
      "cell_type": "markdown",
      "metadata": {
        "id": "E9WV4HgK6piW"
      },
      "source": [
        "#### Gaussian Naive Bayes"
      ]
    },
    {
      "cell_type": "markdown",
      "metadata": {
        "id": "z71xGApwBeD6"
      },
      "source": [
        "Συνεχίζουμε με τον Gaussian Naive Bayes classifier. Ο ταξινομητής αυτός χαρακτηρίζεται ως naive, επειδή υποθέτει ανεξαρτησία των χαρακτηριστικών μεταξύ τους. H βασική ιδέα λειτουργίας του ταξινομητή είναι ο γνωστός νόμος του Bayes:  $$P(A\\mid B)={\\frac {P(B\\mid A)\\,P(A)}{P(B)}}$$\n",
        "\n",
        "Ο ταξινομητής ταξινομεί κάθε δεδομένο στην κλάση y σύμφωνα με τον εξής τύπο: $$\\hat{y} = \\arg\\max_y P(y) \\prod_{i=1}^{n} P(x_i \\mid y)$$ δηλαδή κάθε δείγμα ταξινομείται στην κλάση που μεγιστοποιεί τη σχετική συχνότητα της κλάσης αυτής επί το γινόμενο των πιθανοτήτων όλων των χαρακτηριστικών, δεδομένης της κλάσης αυτής(πιθανοφάνεια).\n",
        "\n",
        "Θεωρούμε ότι η κατανομή κάθε χαρακτηριστικού ως προς κάθε κλάση ακολουθεί την κανονική κατανομή:\n",
        "$$P(x_i \\mid y) = \\frac{1}{\\sqrt{2\\pi\\sigma^2_y}} \\exp\\left(-\\frac{(x_i - \\mu_y)^2}{2\\sigma^2_y}\\right)$$\n",
        "\n",
        "Πρακτικά, όσο πιο κοντά στη μέση τιμή του (ως προς το σύνολο του train set)είναι ένα χαρακτηριστικό ενός δείγματος, τόσο πιο κοντά στη μοναδα θα είναι η πιθανοφάνεια του χαρακτηριστικού.\n"
      ]
    },
    {
      "cell_type": "code",
      "metadata": {
        "colab": {
          "base_uri": "https://localhost:8080/"
        },
        "id": "AnYAJMpi6fCX",
        "outputId": "fca6df3e-2aff-41b8-b0c1-02a91c4fc85a"
      },
      "source": [
        "clf = GaussianNB()\n",
        "GNB_1 = classification_baseline_metrics(clf,X_train,X_test,y_train,y_test)\n",
        "GNB_diagrams= classification_baseline(clf,X_train,X_test,y_train,y_test,True,False)"
      ],
      "execution_count": null,
      "outputs": [
        {
          "output_type": "stream",
          "name": "stdout",
          "text": [
            "10-fold corss validation accuracy of GaussianNB() is : [0.5042898  0.51000953 0.55195424 0.47092469 0.51477598 0.49285033\n",
            " 0.48950382 0.5610687  0.49045802 0.4990458 ]\n",
            "Accuracy score is  0.5084880911664326\n",
            "f1 weighted score = 0.440418570186959\n"
          ]
        },
        {
          "output_type": "display_data",
          "data": {
            "image/png": "[encoded data removed]",
            "text/plain": [
              "<Figure size 432x288 with 2 Axes>"
            ]
          },
          "metadata": {
            "needs_background": "light"
          }
        }
      ]
    },
    {
      "cell_type": "markdown",
      "metadata": {
        "id": "0Zgof82t74uA"
      },
      "source": [
        "#### kNN Classifier"
      ]
    },
    {
      "cell_type": "markdown",
      "metadata": {
        "id": "BCoYnZrjCCGl"
      },
      "source": [
        "Στην συνέχεια εξετάζουμε και τον KNN classifier. Αυτός ταξινομεί ανάλογα με την κλάση των n κοντινότερων γειτόνων με βάση κάποια συνάρτηση απόστασης, συνήθως ευκλείδεια:\n",
        "$$d(x, x') = \\sqrt{\\left(x_1 - x'_1 \\right)^2 + \\left(x_2 - x'_2 \\right)^2 + \\dotsc + \\left(x_n - x'_n \\right)^2}$$\n",
        "\n",
        "Η κλάση του νέου δείγματος θα είναι η κλάση της πλειοψηφίας των k γειτόνων (διαλέγουμε k περιττό γενικά), είτε απλά υπολογισμένη (άθροισμα) είτε (αντίστροφα) ζυγισμένη με βάση την απόσταση του κάθε γείτονα. Η default τιμή του αριθμού γειτόνων είναι 5."
      ]
    },
    {
      "cell_type": "code",
      "metadata": {
        "colab": {
          "base_uri": "https://localhost:8080/"
        },
        "id": "A8Un_UtJ6tKk",
        "outputId": "4ea76e6e-16de-4355-ec3a-4b0d239fd4f4"
      },
      "source": [
        "clf = KNeighborsClassifier()\n",
        "Knn_1= classification_baseline_metrics(clf,X_train,X_test,y_train,y_test)\n",
        "Knn_diagrams= classification_baseline(clf,X_train,X_test,y_train,y_test,True,False)"
      ],
      "execution_count": null,
      "outputs": [
        {
          "output_type": "stream",
          "name": "stdout",
          "text": [
            "10-fold corss validation accuracy of KNeighborsClassifier() is : [0.95519542 0.94947569 0.95900858 0.957102   0.96377502 0.96472831\n",
            " 0.95706107 0.95515267 0.97041985 0.96183206]\n",
            "Accuracy score is  0.9593750682220072\n",
            "f1 weighted score = 0.9593563331097164\n"
          ]
        },
        {
          "output_type": "display_data",
          "data": {
            "image/png": "[encoded data removed]",
            "text/plain": [
              "<Figure size 432x288 with 2 Axes>"
            ]
          },
          "metadata": {
            "needs_background": "light"
          }
        }
      ]
    },
    {
      "cell_type": "markdown",
      "metadata": {
        "id": "eDAnw524-WKe"
      },
      "source": [
        "#### Logistic Regression"
      ]
    },
    {
      "cell_type": "markdown",
      "metadata": {
        "id": "5jZIghiQWAXP"
      },
      "source": [
        "Στην συνέχεια χρησιμοποιούμε την λογιστική παλινδρόμηση."
      ]
    },
    {
      "cell_type": "markdown",
      "metadata": {
        "id": "DqvyigEiSLP4"
      },
      "source": [
        "O ταξινομητής λογιστικής παλινδρόμησης είναι κυρίως κατάλληλος για binary problems με διακριτές κατηγορίες. Το πρόβλημά μας είναι ένα τέτοιο πρόβλημα."
      ]
    },
    {
      "cell_type": "code",
      "metadata": {
        "colab": {
          "base_uri": "https://localhost:8080/"
        },
        "id": "N0S5m6jC78oH",
        "outputId": "ee2c9451-c1bb-4f5d-8d74-4a65bd3eee1c"
      },
      "source": [
        "clf = LogisticRegression()\n",
        "LR_1= classification_baseline_metrics(clf,X_train,X_test,y_train,y_test)\n",
        "LR_diagrams= classification_baseline(clf,X_train,X_test,y_train,y_test,True,False)"
      ],
      "execution_count": null,
      "outputs": [
        {
          "output_type": "stream",
          "name": "stderr",
          "text": [
            "/usr/local/lib/python3.7/dist-packages/sklearn/linear_model/_logistic.py:818: ConvergenceWarning: lbfgs failed to converge (status=1):\n",
            "STOP: TOTAL NO. of ITERATIONS REACHED LIMIT.\n",
            "\n",
            "Increase the number of iterations (max_iter) or scale the data as shown in:\n",
            "    https://scikit-learn.org/stable/modules/preprocessing.html\n",
            "Please also refer to the documentation for alternative solver options:\n",
            "    https://scikit-learn.org/stable/modules/linear_model.html#logistic-regression\n",
            "  extra_warning_msg=_LOGISTIC_SOLVER_CONVERGENCE_MSG,\n",
            "/usr/local/lib/python3.7/dist-packages/sklearn/linear_model/_logistic.py:818: ConvergenceWarning: lbfgs failed to converge (status=1):\n",
            "STOP: TOTAL NO. of ITERATIONS REACHED LIMIT.\n",
            "\n",
            "Increase the number of iterations (max_iter) or scale the data as shown in:\n",
            "    https://scikit-learn.org/stable/modules/preprocessing.html\n",
            "Please also refer to the documentation for alternative solver options:\n",
            "    https://scikit-learn.org/stable/modules/linear_model.html#logistic-regression\n",
            "  extra_warning_msg=_LOGISTIC_SOLVER_CONVERGENCE_MSG,\n",
            "/usr/local/lib/python3.7/dist-packages/sklearn/linear_model/_logistic.py:818: ConvergenceWarning: lbfgs failed to converge (status=1):\n",
            "STOP: TOTAL NO. of ITERATIONS REACHED LIMIT.\n",
            "\n",
            "Increase the number of iterations (max_iter) or scale the data as shown in:\n",
            "    https://scikit-learn.org/stable/modules/preprocessing.html\n",
            "Please also refer to the documentation for alternative solver options:\n",
            "    https://scikit-learn.org/stable/modules/linear_model.html#logistic-regression\n",
            "  extra_warning_msg=_LOGISTIC_SOLVER_CONVERGENCE_MSG,\n",
            "/usr/local/lib/python3.7/dist-packages/sklearn/linear_model/_logistic.py:818: ConvergenceWarning: lbfgs failed to converge (status=1):\n",
            "STOP: TOTAL NO. of ITERATIONS REACHED LIMIT.\n",
            "\n",
            "Increase the number of iterations (max_iter) or scale the data as shown in:\n",
            "    https://scikit-learn.org/stable/modules/preprocessing.html\n",
            "Please also refer to the documentation for alternative solver options:\n",
            "    https://scikit-learn.org/stable/modules/linear_model.html#logistic-regression\n",
            "  extra_warning_msg=_LOGISTIC_SOLVER_CONVERGENCE_MSG,\n",
            "/usr/local/lib/python3.7/dist-packages/sklearn/linear_model/_logistic.py:818: ConvergenceWarning: lbfgs failed to converge (status=1):\n",
            "STOP: TOTAL NO. of ITERATIONS REACHED LIMIT.\n",
            "\n",
            "Increase the number of iterations (max_iter) or scale the data as shown in:\n",
            "    https://scikit-learn.org/stable/modules/preprocessing.html\n",
            "Please also refer to the documentation for alternative solver options:\n",
            "    https://scikit-learn.org/stable/modules/linear_model.html#logistic-regression\n",
            "  extra_warning_msg=_LOGISTIC_SOLVER_CONVERGENCE_MSG,\n",
            "/usr/local/lib/python3.7/dist-packages/sklearn/linear_model/_logistic.py:818: ConvergenceWarning: lbfgs failed to converge (status=1):\n",
            "STOP: TOTAL NO. of ITERATIONS REACHED LIMIT.\n",
            "\n",
            "Increase the number of iterations (max_iter) or scale the data as shown in:\n",
            "    https://scikit-learn.org/stable/modules/preprocessing.html\n",
            "Please also refer to the documentation for alternative solver options:\n",
            "    https://scikit-learn.org/stable/modules/linear_model.html#logistic-regression\n",
            "  extra_warning_msg=_LOGISTIC_SOLVER_CONVERGENCE_MSG,\n",
            "/usr/local/lib/python3.7/dist-packages/sklearn/linear_model/_logistic.py:818: ConvergenceWarning: lbfgs failed to converge (status=1):\n",
            "STOP: TOTAL NO. of ITERATIONS REACHED LIMIT.\n",
            "\n",
            "Increase the number of iterations (max_iter) or scale the data as shown in:\n",
            "    https://scikit-learn.org/stable/modules/preprocessing.html\n",
            "Please also refer to the documentation for alternative solver options:\n",
            "    https://scikit-learn.org/stable/modules/linear_model.html#logistic-regression\n",
            "  extra_warning_msg=_LOGISTIC_SOLVER_CONVERGENCE_MSG,\n",
            "/usr/local/lib/python3.7/dist-packages/sklearn/linear_model/_logistic.py:818: ConvergenceWarning: lbfgs failed to converge (status=1):\n",
            "STOP: TOTAL NO. of ITERATIONS REACHED LIMIT.\n",
            "\n",
            "Increase the number of iterations (max_iter) or scale the data as shown in:\n",
            "    https://scikit-learn.org/stable/modules/preprocessing.html\n",
            "Please also refer to the documentation for alternative solver options:\n",
            "    https://scikit-learn.org/stable/modules/linear_model.html#logistic-regression\n",
            "  extra_warning_msg=_LOGISTIC_SOLVER_CONVERGENCE_MSG,\n",
            "/usr/local/lib/python3.7/dist-packages/sklearn/linear_model/_logistic.py:818: ConvergenceWarning: lbfgs failed to converge (status=1):\n",
            "STOP: TOTAL NO. of ITERATIONS REACHED LIMIT.\n",
            "\n",
            "Increase the number of iterations (max_iter) or scale the data as shown in:\n",
            "    https://scikit-learn.org/stable/modules/preprocessing.html\n",
            "Please also refer to the documentation for alternative solver options:\n",
            "    https://scikit-learn.org/stable/modules/linear_model.html#logistic-regression\n",
            "  extra_warning_msg=_LOGISTIC_SOLVER_CONVERGENCE_MSG,\n",
            "/usr/local/lib/python3.7/dist-packages/sklearn/linear_model/_logistic.py:818: ConvergenceWarning: lbfgs failed to converge (status=1):\n",
            "STOP: TOTAL NO. of ITERATIONS REACHED LIMIT.\n",
            "\n",
            "Increase the number of iterations (max_iter) or scale the data as shown in:\n",
            "    https://scikit-learn.org/stable/modules/preprocessing.html\n",
            "Please also refer to the documentation for alternative solver options:\n",
            "    https://scikit-learn.org/stable/modules/linear_model.html#logistic-regression\n",
            "  extra_warning_msg=_LOGISTIC_SOLVER_CONVERGENCE_MSG,\n",
            "/usr/local/lib/python3.7/dist-packages/sklearn/linear_model/_logistic.py:818: ConvergenceWarning: lbfgs failed to converge (status=1):\n",
            "STOP: TOTAL NO. of ITERATIONS REACHED LIMIT.\n",
            "\n",
            "Increase the number of iterations (max_iter) or scale the data as shown in:\n",
            "    https://scikit-learn.org/stable/modules/preprocessing.html\n",
            "Please also refer to the documentation for alternative solver options:\n",
            "    https://scikit-learn.org/stable/modules/linear_model.html#logistic-regression\n",
            "  extra_warning_msg=_LOGISTIC_SOLVER_CONVERGENCE_MSG,\n",
            "/usr/local/lib/python3.7/dist-packages/sklearn/linear_model/_logistic.py:818: ConvergenceWarning: lbfgs failed to converge (status=1):\n",
            "STOP: TOTAL NO. of ITERATIONS REACHED LIMIT.\n",
            "\n",
            "Increase the number of iterations (max_iter) or scale the data as shown in:\n",
            "    https://scikit-learn.org/stable/modules/preprocessing.html\n",
            "Please also refer to the documentation for alternative solver options:\n",
            "    https://scikit-learn.org/stable/modules/linear_model.html#logistic-regression\n",
            "  extra_warning_msg=_LOGISTIC_SOLVER_CONVERGENCE_MSG,\n",
            "/usr/local/lib/python3.7/dist-packages/sklearn/linear_model/_logistic.py:818: ConvergenceWarning: lbfgs failed to converge (status=1):\n",
            "STOP: TOTAL NO. of ITERATIONS REACHED LIMIT.\n",
            "\n",
            "Increase the number of iterations (max_iter) or scale the data as shown in:\n",
            "    https://scikit-learn.org/stable/modules/preprocessing.html\n",
            "Please also refer to the documentation for alternative solver options:\n",
            "    https://scikit-learn.org/stable/modules/linear_model.html#logistic-regression\n",
            "  extra_warning_msg=_LOGISTIC_SOLVER_CONVERGENCE_MSG,\n",
            "/usr/local/lib/python3.7/dist-packages/sklearn/linear_model/_logistic.py:818: ConvergenceWarning: lbfgs failed to converge (status=1):\n",
            "STOP: TOTAL NO. of ITERATIONS REACHED LIMIT.\n",
            "\n",
            "Increase the number of iterations (max_iter) or scale the data as shown in:\n",
            "    https://scikit-learn.org/stable/modules/preprocessing.html\n",
            "Please also refer to the documentation for alternative solver options:\n",
            "    https://scikit-learn.org/stable/modules/linear_model.html#logistic-regression\n",
            "  extra_warning_msg=_LOGISTIC_SOLVER_CONVERGENCE_MSG,\n",
            "/usr/local/lib/python3.7/dist-packages/sklearn/linear_model/_logistic.py:818: ConvergenceWarning: lbfgs failed to converge (status=1):\n",
            "STOP: TOTAL NO. of ITERATIONS REACHED LIMIT.\n",
            "\n",
            "Increase the number of iterations (max_iter) or scale the data as shown in:\n",
            "    https://scikit-learn.org/stable/modules/preprocessing.html\n",
            "Please also refer to the documentation for alternative solver options:\n",
            "    https://scikit-learn.org/stable/modules/linear_model.html#logistic-regression\n",
            "  extra_warning_msg=_LOGISTIC_SOLVER_CONVERGENCE_MSG,\n",
            "/usr/local/lib/python3.7/dist-packages/sklearn/linear_model/_logistic.py:818: ConvergenceWarning: lbfgs failed to converge (status=1):\n",
            "STOP: TOTAL NO. of ITERATIONS REACHED LIMIT.\n",
            "\n",
            "Increase the number of iterations (max_iter) or scale the data as shown in:\n",
            "    https://scikit-learn.org/stable/modules/preprocessing.html\n",
            "Please also refer to the documentation for alternative solver options:\n",
            "    https://scikit-learn.org/stable/modules/linear_model.html#logistic-regression\n",
            "  extra_warning_msg=_LOGISTIC_SOLVER_CONVERGENCE_MSG,\n"
          ]
        },
        {
          "output_type": "stream",
          "name": "stdout",
          "text": [
            "10-fold corss validation accuracy of LogisticRegression() is : [0.64251668 0.64728313 0.64823642 0.63489037 0.64156339 0.61582459\n",
            " 0.67366412 0.63835878 0.64980916 0.65744275]\n",
            "Accuracy score is  0.6449589394479658\n",
            "f1 weighted score = 0.6367199012210862\n"
          ]
        },
        {
          "output_type": "stream",
          "name": "stderr",
          "text": [
            "/usr/local/lib/python3.7/dist-packages/sklearn/linear_model/_logistic.py:818: ConvergenceWarning: lbfgs failed to converge (status=1):\n",
            "STOP: TOTAL NO. of ITERATIONS REACHED LIMIT.\n",
            "\n",
            "Increase the number of iterations (max_iter) or scale the data as shown in:\n",
            "    https://scikit-learn.org/stable/modules/preprocessing.html\n",
            "Please also refer to the documentation for alternative solver options:\n",
            "    https://scikit-learn.org/stable/modules/linear_model.html#logistic-regression\n",
            "  extra_warning_msg=_LOGISTIC_SOLVER_CONVERGENCE_MSG,\n"
          ]
        },
        {
          "output_type": "display_data",
          "data": {
            "image/png": "[encoded data removed]",
            "text/plain": [
              "<Figure size 432x288 with 2 Axes>"
            ]
          },
          "metadata": {
            "needs_background": "light"
          }
        }
      ]
    },
    {
      "cell_type": "markdown",
      "metadata": {
        "id": "dZGRDz7mikDv"
      },
      "source": [
        "#### Συγκρίσεις ταξινομητών"
      ]
    },
    {
      "cell_type": "markdown",
      "metadata": {
        "id": "AKjlI3c4cstX"
      },
      "source": [
        "##### Πίνακας Markdοwn\n",
        "\n"
      ]
    },
    {
      "cell_type": "markdown",
      "metadata": {
        "id": "i-sHGxLnZ53C"
      },
      "source": [
        "Στην ενότητα αυτή θα  συγκρίνουμε τους παραπάνω ταξινομητές. Αρχικά θα συνοψίσουμε τα αποτελέσματα σε ένα πίνακα markdown:"
      ]
    },
    {
      "cell_type": "code",
      "metadata": {
        "colab": {
          "base_uri": "https://localhost:8080/"
        },
        "id": "kjJ-FCjBaF9n",
        "outputId": "59c21eec-f0ce-4cde-dc38-ef653d4460cd"
      },
      "source": [
        "t = Texttable()\n",
        "\n",
        "accuracy = []\n",
        "columns = [['Classifier','Accuracy','F1 score weighted']]\n",
        "rows = [\"Dummy Uniform\",\"Dummy Stratified\",\"Dummy Most Frequent\",\"Dummy Prior\", \"Dummy Constant 0\", \"Dummy Constant 1 \",\"Gaussian NB\",\"KNN\",\"Logistic Regression\"]\n",
        "classifiers_list=[uniform, stratified_1,most_frequent,prior,constant_0,constant_1,GNB_1,Knn_1,LR_1]\n",
        "for i,clf in enumerate(classifiers_list):\n",
        "    columns.append([rows[i],clf[2],clf[1]])\n",
        "t.add_rows(columns)\n",
        "print(t.draw())"
      ],
      "execution_count": null,
      "outputs": [
        {
          "output_type": "stream",
          "name": "stdout",
          "text": [
            "+---------------------+----------+-------------------+\n",
            "|     Classifier      | Accuracy | F1 score weighted |\n",
            "+=====================+==========+===================+\n",
            "| Dummy Uniform       | 0.497    | 0.503             |\n",
            "+---------------------+----------+-------------------+\n",
            "| Dummy Stratified    | 0.517    | 0.504             |\n",
            "+---------------------+----------+-------------------+\n",
            "| Dummy Most Frequent | 0.552    | 0.393             |\n",
            "+---------------------+----------+-------------------+\n",
            "| Dummy Prior         | 0.552    | 0.393             |\n",
            "+---------------------+----------+-------------------+\n",
            "| Dummy Constant 0    | 0.552    | 0.393             |\n",
            "+---------------------+----------+-------------------+\n",
            "| Dummy Constant 1    | 0.448    | 0.277             |\n",
            "+---------------------+----------+-------------------+\n",
            "| Gaussian NB         | 0.508    | 0.440             |\n",
            "+---------------------+----------+-------------------+\n",
            "| KNN                 | 0.959    | 0.959             |\n",
            "+---------------------+----------+-------------------+\n",
            "| Logistic Regression | 0.645    | 0.637             |\n",
            "+---------------------+----------+-------------------+\n"
          ]
        }
      ]
    },
    {
      "cell_type": "markdown",
      "metadata": {
        "id": "yOPQN_Ptc4Mh"
      },
      "source": [
        "##### Bar Plot Σύγκρισης\n"
      ]
    },
    {
      "cell_type": "markdown",
      "metadata": {
        "id": "Nqy_1LVil4QK"
      },
      "source": [
        "Έχοντας υπολογίσει αναλυτικά στα προηγούμενα βήματα τις μετρικές απόδοσης accuracy και F1 score (weighted) για τους Dummy, Gaussian Naive Bayes, KNN και LR ταξινομητές, παρουσιάζουμε συγκεντρωτικά τα αποτελέσματα με γραφική απεικόνιση, ώστε να συγκρίνουμε την απόδοσή τους:"
      ]
    },
    {
      "cell_type": "code",
      "metadata": {
        "colab": {
          "base_uri": "https://localhost:8080/"
        },
        "id": "nXOSxneHinGt",
        "outputId": "61e130bf-f54d-45bf-c251-6d1145c14044"
      },
      "source": [
        "fig = plt.figure()\n",
        "fig.set_size_inches(18.5, 10.5)\n",
        "x = ['uniform','stratified', 'most_frequent','prior', 'constant_0','constant_1','Gaussian NB','KNN','Logistic Regression']\n",
        "y=[100*uniform[2], 100*stratified_1[2], 100*most_frequent[2], 100*prior[2], 100*constant_0[2],100*constant_1[2],100*GNB_1[2],100*Knn_1[2],100*LR_1[2]]\n",
        "plt.bar(x,y, align='center', width=0.5)\n",
        "plt.xticks(x,x)\n",
        "plt.title('Accuracy', fontsize=20 )\n",
        "plt.xlabel('Classifier', fontsize=15)\n",
        "plt.ylabel('Score', fontsize=15)\n",
        "plt.show()"
      ],
      "execution_count": null,
      "outputs": [
        {
          "output_type": "display_data",
          "data": {
            "image/png": "[encoded data removed]",
            "text/plain": [
              "<Figure size 1332x756 with 1 Axes>"
            ]
          },
          "metadata": {
            "needs_background": "light"
          }
        }
      ]
    },
    {
      "cell_type": "code",
      "metadata": {
        "colab": {
          "base_uri": "https://localhost:8080/"
        },
        "id": "5n3UO4Ioqg_H",
        "outputId": "17af037e-dda3-4a85-c309-c9640aee75a1"
      },
      "source": [
        "fig = plt.figure()\n",
        "fig.set_size_inches(18.5, 10.5)\n",
        "x = ['uniform','stratified', 'most_frequent','prior', 'constant_0','constant_1','Gaussian NB','KNN','Logistic Regression']\n",
        "y=[100*uniform[1], 100*stratified_1[1], 100*most_frequent[1], 100*prior[1], 100*constant_0[1],100*constant_1[1],100*GNB_1[1],100*Knn_1[1],100*LR_1[1]]\n",
        "plt.bar(x,y, align='center', width=0.5)\n",
        "plt.xticks(x,x)\n",
        "plt.title('F1 score Weighted', fontsize=20)\n",
        "plt.xlabel('Classifier', fontsize=15)\n",
        "plt.ylabel('Score', fontsize=15)\n",
        "plt.show()"
      ],
      "execution_count": null,
      "outputs": [
        {
          "output_type": "display_data",
          "data": {
            "image/png": "[encoded data removed]",
            "text/plain": [
              "<Figure size 1332x756 with 1 Axes>"
            ]
          },
          "metadata": {
            "needs_background": "light"
          }
        }
      ]
    },
    {
      "cell_type": "markdown",
      "metadata": {
        "id": "qKtKDdy6dF3X"
      },
      "source": [
        "##### Σχολιασμός Αποτελεσμάτων"
      ]
    },
    {
      "cell_type": "markdown",
      "metadata": {
        "id": "_Mxby9UQmLrH"
      },
      "source": [
        "\n",
        "* Παρατηρούμε πως σε αρκετούς από τους ταξινομητές το ποσοστό accuracy είναι ψηλότερο από το F1 scrore. Κάτι τέτοιο αναδυκνύει την σημασία χρήση επιπλέον μετρικών εκτός του accuracy, καθώς η χρήση μόνο αυτής θα μπορούσε να μας οδηγήσει σε παραπλανητικά συμπεράσματα όσον αφορά την επίδοση ενός ταξινομητή. Συγκεκριμένα, το accuracy δίνει έμφαση στον αριθμό true positives και true  negatives, ενώ με το F2 score δίνεται έμφαση και στον αριθμό false negatives και false positives.\n",
        "* Ο ταξινομητής Gaussian NB δεν οδηγεί σε σημαντικά καλύτερα αποτελέσματα σε σχέση με τους Dummy ταξινομητές. Συγκεκριμένα, έχει παρόμοιο accuracy, ενώ το F1 score είναι σε κάποιες περιπτώσεις λίγο καλύτερο και σε κάποιες λίγο χειρότερο από τους Dummy. Αυτό είναι λογικό, δεδομένου ότι ο ταξινομητής Gaussian NB είναι ένας αρκετά απλός ταξινομητής, με απλουστεύσεις στις υποθέσεις του (υποθέτει gaussian κατανομή και ανεξάρτητα δεδομένα) και επομένως η ικανότητα μοντελοποίησής του είναι περιορισμένη.\n",
        "* Ο ταξινομητής KNN επιτυγχάνει τα βέλτιστα αποτελέσματα, οδηγώντας σε πολύ υψηλά ποσοστά accuracy και F1 score. Βέβαια, κάτι τέτοιο επιτυγχάνεται με τίμημα την υψηλή πολυπλοκότητα και τον μεγαλύτερο χρόνο εκπαίδευσης, τον οποίο απαιτεί ο ταξινομητής αυτός.\n",
        "* O ταξινομητής LR επιτυγχάνει μεν καλύτερο accuracy και F1 score σε σχέση με τους Gaussian NB και Dummy, σε καμία όμως περίπτωση δεν είναι τα αποτελέσματά του συγκρίσιμα με αυτά του KNN.\n",
        "* Οι dummy classifiers, σε κάθε run παρουσιάζουν διαφορετικές αποδόσεις και κάθε φορά άλλος εμφανίζεται καλύτερος και άλλος χειρότερος.\n"
      ]
    },
    {
      "cell_type": "markdown",
      "metadata": {
        "id": "KucDugsGmVdX"
      },
      "source": [
        "### Βελτιστοποίηση ταξινομητών"
      ]
    },
    {
      "cell_type": "markdown",
      "metadata": {
        "id": "yiFJCmo7mZRW"
      },
      "source": [
        "Στόχος μας τωρα είναι να βελτιστοποιήσουμε την επίδοση των ταξινομητών, εφαρμόζοντας προεπεξεργασία στα δεδομένα, ορίζοντας τα pipelines και βελτιστοποιώντας τις υπερπαραμέτρους τους.\n",
        "\n",
        "\n",
        "\n"
      ]
    },
    {
      "cell_type": "markdown",
      "metadata": {
        "id": "IS_VoKB8o5Oy"
      },
      "source": [
        "#### Προεπεξεργασία"
      ]
    },
    {
      "cell_type": "markdown",
      "metadata": {
        "id": "_-WMzClFpIuv"
      },
      "source": [
        "##### Μείωση διαστάσεων εισόδου με επιλογή χαρακτηριστικών"
      ]
    },
    {
      "cell_type": "markdown",
      "metadata": {
        "id": "9LiTaTZ5qltb"
      },
      "source": [
        "Μια απλή τεχνική επιλογής χαρακτηριστικών είναι το ελάχιστο κατώφλι της διακύμανσης (Variance threshold). Γενικά αν η διακύμανση ενός χαρακτηριστικού εισόδου είναι πολύ χαμηλή, δεν μπορεί να προσφέρει σημαντικά στη διαχωριστική ικανότητα του ταξινομητή. Αν η διακύμανση είναι 0, δηλαδή το χαρακτηριστικό έχει σταθερή τιμή για όλα τα δείγματα εκπαίδευσης, δεν χρησιμεύει καθόλου στον ταξινομητή για να αποφασίσει αν ένα δείγμα ανήκει σε μία κλάση ή σε μια άλλη και επιπλέον μπορεί να δυσκολέψει άλλες διαδικασίες της προεπεξεργασίας όπως η κανονικοποίηση των χαρακτηριστικών. Έτσι, αφαιρούμε πάντα τα χαρακτηρηστικά με μηδενική διακύμανση, ενώ μπορεί να χρειαστεί να αφαιρέσουμε και χαρακτηρηστικά με μικρή αλλά μη μηδενική διακύμανση.\n"
      ]
    },
    {
      "cell_type": "markdown",
      "metadata": {
        "id": "q_HyB9ttUeUm"
      },
      "source": [
        "Αρχικά ελέγχουμε αν χρειάζεται να αφαιρεθούν χαρακτηρηστικά με μηδενική διακύμανση:"
      ]
    },
    {
      "cell_type": "code",
      "metadata": {
        "colab": {
          "base_uri": "https://localhost:8080/"
        },
        "id": "BTyKPU2PpoV9",
        "outputId": "085474fd-4466-4daa-efc8-e4d9274ff5eb"
      },
      "source": [
        "selector = VarianceThreshold()                      # initialize selector with zero variance threshold\n",
        "X_train_reduced = selector.fit_transform(X_train)   # fit to train data\n",
        "\n",
        "mask = selector.get_support()                       # mask that decides if the selector will keep each attribute\n",
        "print('Mask is:')\n",
        "print(mask)\n",
        "\n",
        "X_test_reduced = selector.transform(X_test)        # we assume that test data has zero variance in the same features with test data\n",
        "print('Dataset with reduced dimensions has {} features.'.format(X_test_reduced.shape[1]))"
      ],
      "execution_count": null,
      "outputs": [
        {
          "output_type": "stream",
          "name": "stdout",
          "text": [
            "Mask is:\n",
            "[ True  True  True  True  True  True  True  True  True  True  True  True\n",
            "  True  True]\n",
            "Dataset with reduced dimensions has 14 features.\n"
          ]
        }
      ]
    },
    {
      "cell_type": "markdown",
      "metadata": {
        "id": "-MyB4LOErIZs"
      },
      "source": [
        "Παρατηρούμε ότι σε κανένα feature η τιμή του variance δεν είναι 0, για αυτό και δεν αφαιρέθηκε κανένα χαρακτηρηστικό. Στην συνέχεια, εξετάζουμε τις τιμές variance των υπολοίπων χαρακτηριστικών, καθώς ενδεχομένως είναι χρήσιμο να αφαιρέσουμε και χαρακτηρηστικά με πολύ μικρό variance:"
      ]
    },
    {
      "cell_type": "code",
      "metadata": {
        "colab": {
          "base_uri": "https://localhost:8080/"
        },
        "id": "sUzolFu5rZi5",
        "outputId": "cefd3f5e-2f0e-43e0-96a3-3e6ca6c3f72a"
      },
      "source": [
        "Xvar = np.var(X_train_reduced, axis=0)\n",
        "print('Variance values are:')\n",
        "print(Xvar)"
      ],
      "execution_count": null,
      "outputs": [
        {
          "output_type": "stream",
          "name": "stdout",
          "text": [
            "Variance values are:\n",
            "[8.86967333e+06 2.50178329e+03 2.31731300e+03 8.80427622e+02\n",
            " 1.16613360e+03 1.22181166e+07 1.33228042e+03 1.06377419e+03\n",
            " 6.51877166e+06 1.34205342e+03 1.41881060e+03 1.63723434e+03\n",
            " 2.08514021e+06 4.82795967e+07]\n"
          ]
        }
      ]
    },
    {
      "cell_type": "markdown",
      "metadata": {
        "id": "s5GMiX1gsZXh"
      },
      "source": [
        "Παρατηρούμε γενικά πως διαθέτουμε χαρακτηριστικά με πολύ μεγάλο variance και λίγα με μικρότερο συγκριτικά variance. Παρακάτω θα φανούν μερικοί πειραματισμοί με την τιμή του κατωφλιού."
      ]
    },
    {
      "cell_type": "markdown",
      "metadata": {
        "id": "LdVP4nk3tHSm"
      },
      "source": [
        "**Πειραματισμοί με το κατώφλι του variance**"
      ]
    },
    {
      "cell_type": "markdown",
      "metadata": {
        "id": "ehpIuoEYtQoM"
      },
      "source": [
        "Κατώφλι 1000\n",
        "\n",
        "---\n",
        "\n"
      ]
    },
    {
      "cell_type": "code",
      "metadata": {
        "colab": {
          "base_uri": "https://localhost:8080/"
        },
        "id": "d2EWRqaLuMDd",
        "outputId": "1bb9716e-dbdb-4794-aeef-a369e3245f4a"
      },
      "source": [
        "selector = VarianceThreshold(threshold=1000)\n",
        "X_train_reduced_1 = selector.fit_transform(X_train_reduced)\n",
        "mask = selector.get_support()\n",
        "print('Mask is:')\n",
        "print(mask)\n",
        "X_test_reduced_1 = X_test_reduced[:,mask]\n",
        "\n",
        "print('Dataset with reduced dimensions has {} features.'.format(X_test_reduced_1.shape[1]))"
      ],
      "execution_count": null,
      "outputs": [
        {
          "output_type": "stream",
          "name": "stdout",
          "text": [
            "Mask is:\n",
            "[ True  True  True False  True  True  True  True  True  True  True  True\n",
            "  True  True]\n",
            "Dataset with reduced dimensions has 13 features.\n"
          ]
        }
      ]
    },
    {
      "cell_type": "markdown",
      "metadata": {
        "id": "0VNPCzYNVHGJ"
      },
      "source": [
        "Παρατηρούμε πως αφαιρέθηκε ένα χαρακτηριστικό. Ελέγχουμε τις επιδόσεις των ταξινομητών στα νέα δεδομένα:"
      ]
    },
    {
      "cell_type": "code",
      "metadata": {
        "colab": {
          "base_uri": "https://localhost:8080/"
        },
        "id": "pAUwcQEftm9J",
        "outputId": "ac59fff6-3500-4229-ab39-bddc6863b81f"
      },
      "source": [
        "clf_stratified = DummyClassifier(strategy=\"stratified\")\n",
        "stratified = classification_baseline_metrics(clf_stratified,X_train_reduced_1,X_test_reduced_1,y_train,y_test)\n",
        "print('\\n')\n",
        "clf = GaussianNB()\n",
        "GNB = classification_baseline_metrics(clf,X_train_reduced_1,X_test_reduced_1,y_train,y_test)\n",
        "\n",
        "print('\\n')\n",
        "clf = KNeighborsClassifier()\n",
        "Knn = classification_baseline_metrics(clf,X_train_reduced_1,X_test_reduced_1,y_train,y_test)\n",
        "\n",
        "print('\\n')\n",
        "clf = LogisticRegression()\n",
        "LR = classification_baseline_metrics(clf,X_train_reduced_1,X_test_reduced_1,y_train,y_test)\n",
        "\n",
        "\n",
        "t = Texttable()\n",
        "accuracy = []\n",
        "columns = [['Classifier','Accuracy','F1 score weighted']]\n",
        "rows = [\"Dummy Stratified\",\"Gaussian NB\",\"KNN\",\"Logistic Regression\"]\n",
        "classifiers_list=[stratified, GNB, Knn, LR]\n",
        "for i,clf in enumerate(classifiers_list):\n",
        "    columns.append([rows[i],clf[2],clf[1]])\n",
        "t.add_rows(columns)\n",
        "print(t.draw())\n"
      ],
      "execution_count": null,
      "outputs": [
        {
          "output_type": "stream",
          "name": "stdout",
          "text": [
            "10-fold corss validation accuracy of DummyClassifier(strategy='stratified') is : [0.50238322 0.4957102  0.52335558 0.51096282 0.52430887 0.50333651\n",
            " 0.49141221 0.52480916 0.4990458  0.4971374 ]\n",
            "Accuracy score is  0.5072461777483463\n",
            "f1 weighted score = 0.5007942111755083\n",
            "\n",
            "\n",
            "10-fold corss validation accuracy of GaussianNB() is : [0.49761678 0.51096282 0.55195424 0.47092469 0.521449   0.49761678\n",
            " 0.49236641 0.5610687  0.48950382 0.5019084 ]\n",
            "Accuracy score is  0.5095371637109861\n",
            "f1 weighted score = 0.4432411914212315\n",
            "\n",
            "\n",
            "10-fold corss validation accuracy of KNeighborsClassifier() is : [0.95138227 0.95519542 0.95996187 0.95042898 0.95900858 0.95996187\n",
            " 0.95229008 0.94656489 0.96469466 0.95419847]\n",
            "Accuracy score is  0.9553687081116877\n",
            "f1 weighted score = 0.9553488870525554\n",
            "\n",
            "\n"
          ]
        },
        {
          "output_type": "stream",
          "name": "stderr",
          "text": [
            "/usr/local/lib/python3.7/dist-packages/sklearn/linear_model/_logistic.py:818: ConvergenceWarning: lbfgs failed to converge (status=1):\n",
            "STOP: TOTAL NO. of ITERATIONS REACHED LIMIT.\n",
            "\n",
            "Increase the number of iterations (max_iter) or scale the data as shown in:\n",
            "    https://scikit-learn.org/stable/modules/preprocessing.html\n",
            "Please also refer to the documentation for alternative solver options:\n",
            "    https://scikit-learn.org/stable/modules/linear_model.html#logistic-regression\n",
            "  extra_warning_msg=_LOGISTIC_SOLVER_CONVERGENCE_MSG,\n",
            "/usr/local/lib/python3.7/dist-packages/sklearn/linear_model/_logistic.py:818: ConvergenceWarning: lbfgs failed to converge (status=1):\n",
            "STOP: TOTAL NO. of ITERATIONS REACHED LIMIT.\n",
            "\n",
            "Increase the number of iterations (max_iter) or scale the data as shown in:\n",
            "    https://scikit-learn.org/stable/modules/preprocessing.html\n",
            "Please also refer to the documentation for alternative solver options:\n",
            "    https://scikit-learn.org/stable/modules/linear_model.html#logistic-regression\n",
            "  extra_warning_msg=_LOGISTIC_SOLVER_CONVERGENCE_MSG,\n",
            "/usr/local/lib/python3.7/dist-packages/sklearn/linear_model/_logistic.py:818: ConvergenceWarning: lbfgs failed to converge (status=1):\n",
            "STOP: TOTAL NO. of ITERATIONS REACHED LIMIT.\n",
            "\n",
            "Increase the number of iterations (max_iter) or scale the data as shown in:\n",
            "    https://scikit-learn.org/stable/modules/preprocessing.html\n",
            "Please also refer to the documentation for alternative solver options:\n",
            "    https://scikit-learn.org/stable/modules/linear_model.html#logistic-regression\n",
            "  extra_warning_msg=_LOGISTIC_SOLVER_CONVERGENCE_MSG,\n",
            "/usr/local/lib/python3.7/dist-packages/sklearn/linear_model/_logistic.py:818: ConvergenceWarning: lbfgs failed to converge (status=1):\n",
            "STOP: TOTAL NO. of ITERATIONS REACHED LIMIT.\n",
            "\n",
            "Increase the number of iterations (max_iter) or scale the data as shown in:\n",
            "    https://scikit-learn.org/stable/modules/preprocessing.html\n",
            "Please also refer to the documentation for alternative solver options:\n",
            "    https://scikit-learn.org/stable/modules/linear_model.html#logistic-regression\n",
            "  extra_warning_msg=_LOGISTIC_SOLVER_CONVERGENCE_MSG,\n",
            "/usr/local/lib/python3.7/dist-packages/sklearn/linear_model/_logistic.py:818: ConvergenceWarning: lbfgs failed to converge (status=1):\n",
            "STOP: TOTAL NO. of ITERATIONS REACHED LIMIT.\n",
            "\n",
            "Increase the number of iterations (max_iter) or scale the data as shown in:\n",
            "    https://scikit-learn.org/stable/modules/preprocessing.html\n",
            "Please also refer to the documentation for alternative solver options:\n",
            "    https://scikit-learn.org/stable/modules/linear_model.html#logistic-regression\n",
            "  extra_warning_msg=_LOGISTIC_SOLVER_CONVERGENCE_MSG,\n",
            "/usr/local/lib/python3.7/dist-packages/sklearn/linear_model/_logistic.py:818: ConvergenceWarning: lbfgs failed to converge (status=1):\n",
            "STOP: TOTAL NO. of ITERATIONS REACHED LIMIT.\n",
            "\n",
            "Increase the number of iterations (max_iter) or scale the data as shown in:\n",
            "    https://scikit-learn.org/stable/modules/preprocessing.html\n",
            "Please also refer to the documentation for alternative solver options:\n",
            "    https://scikit-learn.org/stable/modules/linear_model.html#logistic-regression\n",
            "  extra_warning_msg=_LOGISTIC_SOLVER_CONVERGENCE_MSG,\n",
            "/usr/local/lib/python3.7/dist-packages/sklearn/linear_model/_logistic.py:818: ConvergenceWarning: lbfgs failed to converge (status=1):\n",
            "STOP: TOTAL NO. of ITERATIONS REACHED LIMIT.\n",
            "\n",
            "Increase the number of iterations (max_iter) or scale the data as shown in:\n",
            "    https://scikit-learn.org/stable/modules/preprocessing.html\n",
            "Please also refer to the documentation for alternative solver options:\n",
            "    https://scikit-learn.org/stable/modules/linear_model.html#logistic-regression\n",
            "  extra_warning_msg=_LOGISTIC_SOLVER_CONVERGENCE_MSG,\n",
            "/usr/local/lib/python3.7/dist-packages/sklearn/linear_model/_logistic.py:818: ConvergenceWarning: lbfgs failed to converge (status=1):\n",
            "STOP: TOTAL NO. of ITERATIONS REACHED LIMIT.\n",
            "\n",
            "Increase the number of iterations (max_iter) or scale the data as shown in:\n",
            "    https://scikit-learn.org/stable/modules/preprocessing.html\n",
            "Please also refer to the documentation for alternative solver options:\n",
            "    https://scikit-learn.org/stable/modules/linear_model.html#logistic-regression\n",
            "  extra_warning_msg=_LOGISTIC_SOLVER_CONVERGENCE_MSG,\n",
            "/usr/local/lib/python3.7/dist-packages/sklearn/linear_model/_logistic.py:818: ConvergenceWarning: lbfgs failed to converge (status=1):\n",
            "STOP: TOTAL NO. of ITERATIONS REACHED LIMIT.\n",
            "\n",
            "Increase the number of iterations (max_iter) or scale the data as shown in:\n",
            "    https://scikit-learn.org/stable/modules/preprocessing.html\n",
            "Please also refer to the documentation for alternative solver options:\n",
            "    https://scikit-learn.org/stable/modules/linear_model.html#logistic-regression\n",
            "  extra_warning_msg=_LOGISTIC_SOLVER_CONVERGENCE_MSG,\n",
            "/usr/local/lib/python3.7/dist-packages/sklearn/linear_model/_logistic.py:818: ConvergenceWarning: lbfgs failed to converge (status=1):\n",
            "STOP: TOTAL NO. of ITERATIONS REACHED LIMIT.\n",
            "\n",
            "Increase the number of iterations (max_iter) or scale the data as shown in:\n",
            "    https://scikit-learn.org/stable/modules/preprocessing.html\n",
            "Please also refer to the documentation for alternative solver options:\n",
            "    https://scikit-learn.org/stable/modules/linear_model.html#logistic-regression\n",
            "  extra_warning_msg=_LOGISTIC_SOLVER_CONVERGENCE_MSG,\n",
            "/usr/local/lib/python3.7/dist-packages/sklearn/linear_model/_logistic.py:818: ConvergenceWarning: lbfgs failed to converge (status=1):\n",
            "STOP: TOTAL NO. of ITERATIONS REACHED LIMIT.\n",
            "\n",
            "Increase the number of iterations (max_iter) or scale the data as shown in:\n",
            "    https://scikit-learn.org/stable/modules/preprocessing.html\n",
            "Please also refer to the documentation for alternative solver options:\n",
            "    https://scikit-learn.org/stable/modules/linear_model.html#logistic-regression\n",
            "  extra_warning_msg=_LOGISTIC_SOLVER_CONVERGENCE_MSG,\n",
            "/usr/local/lib/python3.7/dist-packages/sklearn/linear_model/_logistic.py:818: ConvergenceWarning: lbfgs failed to converge (status=1):\n",
            "STOP: TOTAL NO. of ITERATIONS REACHED LIMIT.\n",
            "\n",
            "Increase the number of iterations (max_iter) or scale the data as shown in:\n",
            "    https://scikit-learn.org/stable/modules/preprocessing.html\n",
            "Please also refer to the documentation for alternative solver options:\n",
            "    https://scikit-learn.org/stable/modules/linear_model.html#logistic-regression\n",
            "  extra_warning_msg=_LOGISTIC_SOLVER_CONVERGENCE_MSG,\n",
            "/usr/local/lib/python3.7/dist-packages/sklearn/linear_model/_logistic.py:818: ConvergenceWarning: lbfgs failed to converge (status=1):\n",
            "STOP: TOTAL NO. of ITERATIONS REACHED LIMIT.\n",
            "\n",
            "Increase the number of iterations (max_iter) or scale the data as shown in:\n",
            "    https://scikit-learn.org/stable/modules/preprocessing.html\n",
            "Please also refer to the documentation for alternative solver options:\n",
            "    https://scikit-learn.org/stable/modules/linear_model.html#logistic-regression\n",
            "  extra_warning_msg=_LOGISTIC_SOLVER_CONVERGENCE_MSG,\n",
            "/usr/local/lib/python3.7/dist-packages/sklearn/linear_model/_logistic.py:818: ConvergenceWarning: lbfgs failed to converge (status=1):\n",
            "STOP: TOTAL NO. of ITERATIONS REACHED LIMIT.\n",
            "\n",
            "Increase the number of iterations (max_iter) or scale the data as shown in:\n",
            "    https://scikit-learn.org/stable/modules/preprocessing.html\n",
            "Please also refer to the documentation for alternative solver options:\n",
            "    https://scikit-learn.org/stable/modules/linear_model.html#logistic-regression\n",
            "  extra_warning_msg=_LOGISTIC_SOLVER_CONVERGENCE_MSG,\n",
            "/usr/local/lib/python3.7/dist-packages/sklearn/linear_model/_logistic.py:818: ConvergenceWarning: lbfgs failed to converge (status=1):\n",
            "STOP: TOTAL NO. of ITERATIONS REACHED LIMIT.\n",
            "\n",
            "Increase the number of iterations (max_iter) or scale the data as shown in:\n",
            "    https://scikit-learn.org/stable/modules/preprocessing.html\n",
            "Please also refer to the documentation for alternative solver options:\n",
            "    https://scikit-learn.org/stable/modules/linear_model.html#logistic-regression\n",
            "  extra_warning_msg=_LOGISTIC_SOLVER_CONVERGENCE_MSG,\n",
            "/usr/local/lib/python3.7/dist-packages/sklearn/linear_model/_logistic.py:818: ConvergenceWarning: lbfgs failed to converge (status=1):\n",
            "STOP: TOTAL NO. of ITERATIONS REACHED LIMIT.\n",
            "\n",
            "Increase the number of iterations (max_iter) or scale the data as shown in:\n",
            "    https://scikit-learn.org/stable/modules/preprocessing.html\n",
            "Please also refer to the documentation for alternative solver options:\n",
            "    https://scikit-learn.org/stable/modules/linear_model.html#logistic-regression\n",
            "  extra_warning_msg=_LOGISTIC_SOLVER_CONVERGENCE_MSG,\n",
            "/usr/local/lib/python3.7/dist-packages/sklearn/linear_model/_logistic.py:818: ConvergenceWarning: lbfgs failed to converge (status=1):\n",
            "STOP: TOTAL NO. of ITERATIONS REACHED LIMIT.\n",
            "\n",
            "Increase the number of iterations (max_iter) or scale the data as shown in:\n",
            "    https://scikit-learn.org/stable/modules/preprocessing.html\n",
            "Please also refer to the documentation for alternative solver options:\n",
            "    https://scikit-learn.org/stable/modules/linear_model.html#logistic-regression\n",
            "  extra_warning_msg=_LOGISTIC_SOLVER_CONVERGENCE_MSG,\n",
            "/usr/local/lib/python3.7/dist-packages/sklearn/linear_model/_logistic.py:818: ConvergenceWarning: lbfgs failed to converge (status=1):\n",
            "STOP: TOTAL NO. of ITERATIONS REACHED LIMIT.\n",
            "\n",
            "Increase the number of iterations (max_iter) or scale the data as shown in:\n",
            "    https://scikit-learn.org/stable/modules/preprocessing.html\n",
            "Please also refer to the documentation for alternative solver options:\n",
            "    https://scikit-learn.org/stable/modules/linear_model.html#logistic-regression\n",
            "  extra_warning_msg=_LOGISTIC_SOLVER_CONVERGENCE_MSG,\n",
            "/usr/local/lib/python3.7/dist-packages/sklearn/linear_model/_logistic.py:818: ConvergenceWarning: lbfgs failed to converge (status=1):\n",
            "STOP: TOTAL NO. of ITERATIONS REACHED LIMIT.\n",
            "\n",
            "Increase the number of iterations (max_iter) or scale the data as shown in:\n",
            "    https://scikit-learn.org/stable/modules/preprocessing.html\n",
            "Please also refer to the documentation for alternative solver options:\n",
            "    https://scikit-learn.org/stable/modules/linear_model.html#logistic-regression\n",
            "  extra_warning_msg=_LOGISTIC_SOLVER_CONVERGENCE_MSG,\n"
          ]
        },
        {
          "output_type": "stream",
          "name": "stdout",
          "text": [
            "10-fold corss validation accuracy of LogisticRegression() is : [0.63584366 0.62249762 0.64442326 0.61963775 0.6406101  0.62154433\n",
            " 0.66889313 0.63740458 0.64694656 0.63645038]\n",
            "Accuracy score is  0.6374251377174918\n",
            "f1 weighted score = 0.6283138006067224\n",
            "+---------------------+----------+-------------------+\n",
            "|     Classifier      | Accuracy | F1 score weighted |\n",
            "+=====================+==========+===================+\n",
            "| Dummy Stratified    | 0.507    | 0.501             |\n",
            "+---------------------+----------+-------------------+\n",
            "| Gaussian NB         | 0.510    | 0.443             |\n",
            "+---------------------+----------+-------------------+\n",
            "| KNN                 | 0.955    | 0.955             |\n",
            "+---------------------+----------+-------------------+\n",
            "| Logistic Regression | 0.637    | 0.628             |\n",
            "+---------------------+----------+-------------------+\n"
          ]
        },
        {
          "output_type": "stream",
          "name": "stderr",
          "text": [
            "/usr/local/lib/python3.7/dist-packages/sklearn/linear_model/_logistic.py:818: ConvergenceWarning: lbfgs failed to converge (status=1):\n",
            "STOP: TOTAL NO. of ITERATIONS REACHED LIMIT.\n",
            "\n",
            "Increase the number of iterations (max_iter) or scale the data as shown in:\n",
            "    https://scikit-learn.org/stable/modules/preprocessing.html\n",
            "Please also refer to the documentation for alternative solver options:\n",
            "    https://scikit-learn.org/stable/modules/linear_model.html#logistic-regression\n",
            "  extra_warning_msg=_LOGISTIC_SOLVER_CONVERGENCE_MSG,\n"
          ]
        }
      ]
    },
    {
      "cell_type": "markdown",
      "metadata": {
        "id": "vU3dOerw1bLS"
      },
      "source": [
        "Κατώφλι 1500\n",
        "\n",
        "---\n",
        "\n"
      ]
    },
    {
      "cell_type": "code",
      "metadata": {
        "colab": {
          "base_uri": "https://localhost:8080/"
        },
        "id": "tSZYoLUw1i4V",
        "outputId": "2b2143da-7ecd-4276-9015-d12e53cfc759"
      },
      "source": [
        "selector = VarianceThreshold(threshold=1500)\n",
        "X_train_reduced_1 = selector.fit_transform(X_train_reduced)\n",
        "mask = selector.get_support()\n",
        "print('Mask is:')\n",
        "print(mask)\n",
        "X_test_reduced_1 = X_test_reduced[:,mask]\n",
        "\n",
        "print('Dataset with reduced dimensions has {} features.'.format(X_test_reduced_1.shape[1]))"
      ],
      "execution_count": null,
      "outputs": [
        {
          "output_type": "stream",
          "name": "stdout",
          "text": [
            "Mask is:\n",
            "[ True  True  True False False  True False False  True False False  True\n",
            "  True  True]\n",
            "Dataset with reduced dimensions has 8 features.\n"
          ]
        }
      ]
    },
    {
      "cell_type": "markdown",
      "metadata": {
        "id": "OrZQgqGfVP-5"
      },
      "source": [
        "Παρατηρούμε πως αφαιρέθηκαν ακόμα 6 χαρακτηριστικά. Ελέγχουμε τις επιδόσεις των ταξινομητών:"
      ]
    },
    {
      "cell_type": "code",
      "metadata": {
        "colab": {
          "base_uri": "https://localhost:8080/"
        },
        "id": "KKf3rsa_1rCJ",
        "outputId": "265adb08-0c68-4abb-c254-db91ac73ce09"
      },
      "source": [
        "clf_stratified = DummyClassifier(strategy=\"stratified\")\n",
        "stratified = classification_baseline_metrics(clf_stratified,X_train_reduced_1,X_test_reduced_1,y_train,y_test)\n",
        "print('\\n')\n",
        "clf = GaussianNB()\n",
        "GNB = classification_baseline_metrics(clf,X_train_reduced_1,X_test_reduced_1,y_train,y_test)\n",
        "\n",
        "print('\\n')\n",
        "clf = KNeighborsClassifier()\n",
        "Knn = classification_baseline_metrics(clf,X_train_reduced_1,X_test_reduced_1,y_train,y_test)\n",
        "\n",
        "print('\\n')\n",
        "clf = LogisticRegression()\n",
        "LR = classification_baseline_metrics(clf,X_train_reduced_1,X_test_reduced_1,y_train,y_test)\n",
        "\n",
        "\n",
        "t = Texttable()\n",
        "accuracy = []\n",
        "columns = [['Classifier','Accuracy','F1 score weighted']]\n",
        "rows = [\"Dummy Stratified\",\"Gaussian NB\",\"KNN\",\"Logistic Regression\"]\n",
        "classifiers_list=[stratified, GNB, Knn, LR]\n",
        "for i,clf in enumerate(classifiers_list):\n",
        "    columns.append([rows[i],clf[2],clf[1]])\n",
        "t.add_rows(columns)\n",
        "print(t.draw())"
      ],
      "execution_count": null,
      "outputs": [
        {
          "output_type": "stream",
          "name": "stdout",
          "text": [
            "10-fold corss validation accuracy of DummyClassifier(strategy='stratified') is : [0.53765491 0.51763584 0.5042898  0.51096282 0.50333651 0.50905624\n",
            " 0.49522901 0.48473282 0.5        0.50763359]\n",
            "Accuracy score is  0.5070531549494611\n",
            "f1 weighted score = 0.5080542088476061\n",
            "\n",
            "\n",
            "10-fold corss validation accuracy of GaussianNB() is : [0.55195424 0.55958055 0.55195424 0.46901811 0.56625357 0.56053384\n",
            " 0.56774809 0.55438931 0.55916031 0.5620229 ]\n",
            "Accuracy score is  0.5502615176940597\n",
            "f1 weighted score = 0.4326119243166066\n",
            "\n",
            "\n",
            "10-fold corss validation accuracy of KNeighborsClassifier() is : [0.86558627 0.86844614 0.88274547 0.87321258 0.87511916 0.85319352\n",
            " 0.88740458 0.86164122 0.86450382 0.875     ]\n",
            "Accuracy score is  0.8706852764173802\n",
            "f1 weighted score = 0.8706103077210458\n",
            "\n",
            "\n",
            "10-fold corss validation accuracy of LogisticRegression() is : [0.59675882 0.60057197 0.61391802 0.60057197 0.62249762 0.607245\n",
            " 0.64503817 0.60877863 0.61545802 0.61545802]\n",
            "Accuracy score is  0.6126296218135774\n",
            "f1 weighted score = 0.6017582718095169\n",
            "+---------------------+----------+-------------------+\n",
            "|     Classifier      | Accuracy | F1 score weighted |\n",
            "+=====================+==========+===================+\n",
            "| Dummy Stratified    | 0.507    | 0.508             |\n",
            "+---------------------+----------+-------------------+\n",
            "| Gaussian NB         | 0.550    | 0.433             |\n",
            "+---------------------+----------+-------------------+\n",
            "| KNN                 | 0.871    | 0.871             |\n",
            "+---------------------+----------+-------------------+\n",
            "| Logistic Regression | 0.613    | 0.602             |\n",
            "+---------------------+----------+-------------------+\n"
          ]
        }
      ]
    },
    {
      "cell_type": "markdown",
      "metadata": {
        "id": "6l5qJo3i29Uf"
      },
      "source": [
        "Σχολιασμός\n",
        "\n",
        "---\n",
        "\n"
      ]
    },
    {
      "cell_type": "markdown",
      "metadata": {
        "id": "jyp1vE9M3EZG"
      },
      "source": [
        "Παρατηρούμε ότι όσο αυξάνεται η τιμή του threshold τόσο η τιμή του accuracy και του f1 score μειώνεται. Αυτό είναι λογικό γιατί όπως φαίνεται παραπάνω οι τιμές variance των χαρακτηριστικών του dataset είναι μεγάλες. Συνεπώς μας παρέχουν σημαντική πληροφορία, οπότε η μείωση των χαρακτηριστικών δεν οδηγεί σε καλά αποτελέσματα. Επομένως δεν θα χρησιμοποιήσουμε κάποιο variance threshold στα δεδομένα μας."
      ]
    },
    {
      "cell_type": "markdown",
      "metadata": {
        "id": "FKAmGSWrpYl7"
      },
      "source": [
        "##### Κανονικοποίηση Χαρακτηριστικών"
      ]
    },
    {
      "cell_type": "markdown",
      "metadata": {
        "id": "_EHB76T654Ef"
      },
      "source": [
        "Στην συνέχεια επιλέγουμε να πραγματοποιήσουμε κανονικοποίηση, ώστε να μην επιδρούν περισσότερο στην εκπαίδευση του ταξινομητή ορισμένα χαρακτηριστικά επειδή απλώς έχουν μεγαλύτερες τιμές. Θα δοκιμάσουμε να κανονικοποιήσουμε τα δεδομένα χρησιμοποιώντας 2 διαφορές τεχνικές: το feature scaling και το standardization και θα συγκρίνουμε τι συμβαίνει σε κάθε περίπτωση.\n"
      ]
    },
    {
      "cell_type": "markdown",
      "metadata": {
        "id": "LKsUT4oE7GWv"
      },
      "source": [
        "Επίσης, πρέπει να αναφερθεί πως όταν κάνουμε μετασχηματισμό κανονικοποίησης στο train set θα πρέπει αντίστοιχα να προσαρμόσουμε και τα δεδομένα του test set, χρησιμοποιώντας τη μέση τιμή και την απόκλιση που υπολογίσαμε για το train set."
      ]
    },
    {
      "cell_type": "markdown",
      "metadata": {
        "id": "9Z7NsCkX8yIC"
      },
      "source": [
        "**Standardization**"
      ]
    },
    {
      "cell_type": "code",
      "metadata": {
        "id": "U73Jx44X7KFc"
      },
      "source": [
        "#standardization\n",
        "\n",
        "scaler = preprocessing.StandardScaler().fit(X_train)\n",
        "X_train_scaled = scaler.transform(X_train)\n",
        "X_test_scaled = scaler.transform(X_test)"
      ],
      "execution_count": null,
      "outputs": []
    },
    {
      "cell_type": "code",
      "metadata": {
        "colab": {
          "base_uri": "https://localhost:8080/"
        },
        "id": "3YprjB_D71ED",
        "outputId": "57ea3650-7aec-4da0-da30-33426e5ee1dc"
      },
      "source": [
        "clf_stratified = DummyClassifier(strategy=\"stratified\")\n",
        "stratified = classification_baseline_metrics(clf_stratified,X_train_scaled,X_test_scaled,y_train,y_test)\n",
        "print('\\n')\n",
        "\n",
        "clf = GaussianNB()\n",
        "GNB = classification_baseline_metrics(clf,X_train_scaled,X_test_scaled,y_train,y_test)\n",
        "\n",
        "print('\\n')\n",
        "clf = KNeighborsClassifier()\n",
        "Knn = classification_baseline_metrics(clf,X_train_scaled,X_test_scaled,y_train,y_test)\n",
        "\n",
        "print('\\n')\n",
        "clf = LogisticRegression()\n",
        "LR = classification_baseline_metrics(clf,X_train_scaled,X_test_scaled,y_train,y_test)\n",
        "\n",
        "\n",
        "t = Texttable()\n",
        "accuracy = []\n",
        "columns = [['Classifier','Accuracy','F1 score weighted']]\n",
        "rows = [\"Dummy Stratified\",\"Gaussian NB\",\"KNN\",\"Logistic Regression\"]\n",
        "classifiers_list=[stratified, GNB, Knn, LR]\n",
        "for i,clf in enumerate(classifiers_list):\n",
        "    columns.append([rows[i],clf[2],clf[1]])\n",
        "t.add_rows(columns)\n",
        "print(t.draw())\n"
      ],
      "execution_count": null,
      "outputs": [
        {
          "output_type": "stream",
          "name": "stdout",
          "text": [
            "10-fold corss validation accuracy of DummyClassifier(strategy='stratified') is : [0.52240229 0.52335558 0.50333651 0.48808389 0.50333651 0.5128694\n",
            " 0.49618321 0.49427481 0.49427481 0.49141221]\n",
            "Accuracy score is  0.5029529213573086\n",
            "f1 weighted score = 0.502202322810993\n",
            "\n",
            "\n",
            "10-fold corss validation accuracy of GaussianNB() is : [0.5042898  0.51000953 0.55195424 0.47092469 0.51477598 0.49285033\n",
            " 0.48950382 0.5610687  0.49045802 0.4990458 ]\n",
            "Accuracy score is  0.5084880911664326\n",
            "f1 weighted score = 0.440418570186959\n",
            "\n",
            "\n",
            "10-fold corss validation accuracy of KNeighborsClassifier() is : [0.91039085 0.89990467 0.90943756 0.90753098 0.89990467 0.90943756\n",
            " 0.91316794 0.89503817 0.91316794 0.91412214]\n",
            "Accuracy score is  0.9072102474912496\n",
            "f1 weighted score = 0.9071742674009838\n",
            "\n",
            "\n",
            "10-fold corss validation accuracy of LogisticRegression() is : [0.58817922 0.59199237 0.58627264 0.59103908 0.58341277 0.58245949\n",
            " 0.61354962 0.58587786 0.60209924 0.59160305]\n",
            "Accuracy score is  0.5916485347732119\n",
            "f1 weighted score = 0.5765357361977163\n",
            "+---------------------+----------+-------------------+\n",
            "|     Classifier      | Accuracy | F1 score weighted |\n",
            "+=====================+==========+===================+\n",
            "| Dummy Stratified    | 0.503    | 0.502             |\n",
            "+---------------------+----------+-------------------+\n",
            "| Gaussian NB         | 0.508    | 0.440             |\n",
            "+---------------------+----------+-------------------+\n",
            "| KNN                 | 0.907    | 0.907             |\n",
            "+---------------------+----------+-------------------+\n",
            "| Logistic Regression | 0.592    | 0.577             |\n",
            "+---------------------+----------+-------------------+\n"
          ]
        }
      ]
    },
    {
      "cell_type": "markdown",
      "metadata": {
        "id": "hP5eDzR18_Tn"
      },
      "source": [
        "Σχολιασμός\n",
        "\n",
        "---\n",
        "\n"
      ]
    },
    {
      "cell_type": "markdown",
      "metadata": {
        "id": "nTovyZfY9DyI"
      },
      "source": [
        "Παρατηρούμε ότι τα αποτελέσματα με την μέθοδο του standardization είναι χειρότερα. Άρα δεν θα ακολουθήσουμε τη μέθοδο αυτή."
      ]
    },
    {
      "cell_type": "markdown",
      "metadata": {
        "id": "S3agy6xR8uFp"
      },
      "source": [
        "**Feature Scaling**"
      ]
    },
    {
      "cell_type": "code",
      "metadata": {
        "id": "DdiSKJE_9wzo"
      },
      "source": [
        "min_max_scaler = preprocessing.MinMaxScaler()\n",
        "X_train_minmax = min_max_scaler.fit_transform(X_train)\n",
        "X_test_minmax = min_max_scaler.transform(X_test)"
      ],
      "execution_count": null,
      "outputs": []
    },
    {
      "cell_type": "code",
      "metadata": {
        "colab": {
          "base_uri": "https://localhost:8080/"
        },
        "id": "O4HZwBxB96GM",
        "outputId": "be7ad1f1-bb74-4ef1-855c-72977e7b783f"
      },
      "source": [
        "clf_stratified = DummyClassifier(strategy=\"stratified\")\n",
        "stratified = classification_baseline_metrics(clf_stratified,X_train_minmax,X_test_minmax,y_train,y_test)\n",
        "print('\\n')\n",
        "\n",
        "clf = GaussianNB()\n",
        "GNB = classification_baseline_metrics(clf,X_train_minmax,X_test_minmax,y_train,y_test)\n",
        "\n",
        "print('\\n')\n",
        "clf = KNeighborsClassifier()\n",
        "Knn = classification_baseline_metrics(clf,X_train_minmax,X_test_minmax,y_train,y_test)\n",
        "\n",
        "print('\\n')\n",
        "clf = LogisticRegression()\n",
        "LR = classification_baseline_metrics(clf,X_train_minmax,X_test_minmax,y_train,y_test)\n",
        "\n",
        "\n",
        "t = Texttable()\n",
        "accuracy = []\n",
        "columns = [['Classifier','Accuracy','F1 score weighted']]\n",
        "rows = [\"Dummy Stratified\",\"Gaussian NB\",\"KNN\",\"Logistic Regression\"]\n",
        "classifiers_list=[stratified, GNB, Knn, LR]\n",
        "for i,clf in enumerate(classifiers_list):\n",
        "    columns.append([rows[i],clf[2],clf[1]])\n",
        "t.add_rows(columns)\n",
        "print(t.draw())\n"
      ],
      "execution_count": null,
      "outputs": [
        {
          "output_type": "stream",
          "name": "stdout",
          "text": [
            "10-fold corss validation accuracy of DummyClassifier(strategy='stratified') is : [0.52526215 0.4957102  0.50333651 0.51763584 0.52526215 0.52430887\n",
            " 0.48187023 0.49522901 0.49618321 0.51431298]\n",
            "Accuracy score is  0.5079111149113296\n",
            "f1 weighted score = 0.5088864320113818\n",
            "\n",
            "\n",
            "10-fold corss validation accuracy of GaussianNB() is : [0.5042898  0.51000953 0.55195424 0.47092469 0.51477598 0.49285033\n",
            " 0.48950382 0.5610687  0.49045802 0.4990458 ]\n",
            "Accuracy score is  0.5084880911664326\n",
            "f1 weighted score = 0.440418570186959\n",
            "\n",
            "\n",
            "10-fold corss validation accuracy of KNeighborsClassifier() is : [0.88751192 0.8884652  0.8970448  0.8970448  0.8970448  0.90753098\n",
            " 0.89599237 0.88167939 0.90458015 0.90362595]\n",
            "Accuracy score is  0.8960520379277973\n",
            "f1 weighted score = 0.8959988426847808\n",
            "\n",
            "\n",
            "10-fold corss validation accuracy of LogisticRegression() is : [0.55195424 0.55290753 0.55195424 0.55386082 0.55481411 0.5557674\n",
            " 0.55438931 0.55629771 0.55534351 0.55248092]\n",
            "Accuracy score is  0.5539769791659086\n",
            "f1 weighted score = 0.3971482201490849\n",
            "+---------------------+----------+-------------------+\n",
            "|     Classifier      | Accuracy | F1 score weighted |\n",
            "+=====================+==========+===================+\n",
            "| Dummy Stratified    | 0.508    | 0.509             |\n",
            "+---------------------+----------+-------------------+\n",
            "| Gaussian NB         | 0.508    | 0.440             |\n",
            "+---------------------+----------+-------------------+\n",
            "| KNN                 | 0.896    | 0.896             |\n",
            "+---------------------+----------+-------------------+\n",
            "| Logistic Regression | 0.554    | 0.397             |\n",
            "+---------------------+----------+-------------------+\n"
          ]
        }
      ]
    },
    {
      "cell_type": "markdown",
      "metadata": {
        "id": "VWLLGTgv-ObU"
      },
      "source": [
        "Σχολιασμός\n",
        "\n",
        "---\n",
        "\n"
      ]
    },
    {
      "cell_type": "markdown",
      "metadata": {
        "id": "haiof76l-Tgi"
      },
      "source": [
        "Παρατηρούμε ότι τα αποτελέσματα με την μέθοδο του feature scaling είναι χειρότερα. Άρα δεν θα ακολουθήσουμε τη μέθοδο αυτή."
      ]
    },
    {
      "cell_type": "markdown",
      "metadata": {
        "id": "zzxR5z1DAAIr"
      },
      "source": [
        "##### Εξισορρόπηση dataset"
      ]
    },
    {
      "cell_type": "markdown",
      "metadata": {
        "id": "ly8yG5MjAafT"
      },
      "source": [
        "Το dataset, όπως είδαμε και παραπάνω είναι σχετικά ισορροπημένο. Συνεπώς δεν αναμένουμε ουσιαστική διαφορά στα αποτελέσματα. Παρόλα αυτά θα δοκιμάσουμε να κάνουμε περαιτέρω εξισσορόπηση και Θα συγκρίνουμε λοιπόν δύο μεθόδους εξισορρόπησης, το Undersampling και το Oversampling."
      ]
    },
    {
      "cell_type": "markdown",
      "metadata": {
        "id": "2auTYxvgEyDk"
      },
      "source": [
        "Στην αρχή, ελέγχουμε πόσα δείγματα υπάρχουν από κάθε κλάση στο train set:"
      ]
    },
    {
      "cell_type": "code",
      "metadata": {
        "colab": {
          "base_uri": "https://localhost:8080/"
        },
        "id": "iDI16E7hEeMw",
        "outputId": "b3724f5d-8b35-4371-f558-bd0e2ddb548a"
      },
      "source": [
        "print((y_train==0).sum())\n",
        "print((y_train==1).sum())"
      ],
      "execution_count": null,
      "outputs": [
        {
          "output_type": "stream",
          "name": "stdout",
          "text": [
            "5791\n",
            "4695\n"
          ]
        }
      ]
    },
    {
      "cell_type": "markdown",
      "metadata": {
        "id": "KGsrPk9EN3ET"
      },
      "source": [
        "Το train set είναι σχεδόν ισσοροπημένο (55.22% - 44,77%). Δοκιμάζουμε μήπως υπάρχει κάποια βελτίωση με τη μέθοδο Oversampling ή Undersampling."
      ]
    },
    {
      "cell_type": "markdown",
      "metadata": {
        "id": "bazQhzG7TadC"
      },
      "source": [
        "###### Oversampling"
      ]
    },
    {
      "cell_type": "code",
      "metadata": {
        "colab": {
          "base_uri": "https://localhost:8080/"
        },
        "id": "Vt06Nof7Oqtv",
        "outputId": "b6911131-2b61-4076-99f7-b4fadf45a197"
      },
      "source": [
        "#initialize RandomOverSampler\n",
        "ros = RandomOverSampler()\n",
        "X_train_resampled, X_train_labels_resampled = ros.fit_resample(X_train, y_train)\n",
        "print(X_train_resampled.shape)\n",
        "print(X_train_labels_resampled.shape)\n",
        "print(X_train_labels_resampled)"
      ],
      "execution_count": null,
      "outputs": [
        {
          "output_type": "stream",
          "name": "stdout",
          "text": [
            "(11582, 14)\n",
            "(11582,)\n",
            "[1 1 0 ... 1 1 1]\n"
          ]
        }
      ]
    },
    {
      "cell_type": "markdown",
      "metadata": {
        "id": "GRNxLgJSPKxS"
      },
      "source": [
        "Επιβεβαιώνουμε ότι όλες οι κλάσεις έχουν τον ίδιο αριθμό δειγμάτων:"
      ]
    },
    {
      "cell_type": "code",
      "metadata": {
        "colab": {
          "base_uri": "https://localhost:8080/"
        },
        "id": "Xx2o-kOyPLy4",
        "outputId": "9406ab2a-edd9-4007-a9f6-7f2a328430d2"
      },
      "source": [
        "print((X_train_labels_resampled==0).sum())\n",
        "print((X_train_labels_resampled==1).sum())"
      ],
      "execution_count": null,
      "outputs": [
        {
          "output_type": "stream",
          "name": "stdout",
          "text": [
            "5791\n",
            "5791\n"
          ]
        }
      ]
    },
    {
      "cell_type": "markdown",
      "metadata": {
        "id": "8gCiUd-YWCvo"
      },
      "source": [
        "Ελέγχουμε τις επιδόσεις των ταξινομητών:"
      ]
    },
    {
      "cell_type": "code",
      "metadata": {
        "colab": {
          "base_uri": "https://localhost:8080/"
        },
        "id": "5yy47x1LPUx5",
        "outputId": "aaaf5f6c-3cd2-4d89-de70-1c75571de920"
      },
      "source": [
        "clf_stratified = DummyClassifier(strategy=\"stratified\")\n",
        "stratified = classification_baseline_metrics(clf_stratified,X_train_resampled,X_test,X_train_labels_resampled,y_test)\n",
        "print('\\n')\n",
        "\n",
        "clf = GaussianNB()\n",
        "GNB = classification_baseline_metrics(clf,X_train_resampled,X_test,X_train_labels_resampled,y_test)\n",
        "\n",
        "print('\\n')\n",
        "clf = KNeighborsClassifier()\n",
        "Knn = classification_baseline_metrics(clf,X_train_resampled,X_test,X_train_labels_resampled,y_test)\n",
        "\n",
        "print('\\n')\n",
        "clf = LogisticRegression()\n",
        "LR = classification_baseline_metrics(clf,X_train_resampled,X_test,X_train_labels_resampled,y_test)\n",
        "\n",
        "\n",
        "t = Texttable()\n",
        "accuracy = []\n",
        "columns = [['Classifier','Accuracy','F1 score weighted']]\n",
        "rows = [\"Dummy Stratified\",\"Gaussian NB\",\"KNN\",\"Logistic Regression\"]\n",
        "classifiers_list=[stratified, GNB, Knn, LR]\n",
        "for i,clf in enumerate(classifiers_list):\n",
        "    columns.append([rows[i],clf[2],clf[1]])\n",
        "t.add_rows(columns)\n",
        "print(t.draw())\n"
      ],
      "execution_count": null,
      "outputs": [
        {
          "output_type": "stream",
          "name": "stdout",
          "text": [
            "10-fold corss validation accuracy of DummyClassifier(strategy='stratified') is : [0.50388266 0.49870578 0.50431779 0.50863558 0.49309154 0.50345423\n",
            " 0.50172712 0.51208981 0.50086356 0.50949914]\n",
            "Accuracy score is  0.5036267194785571\n",
            "f1 weighted score = 0.4962822193353472\n",
            "\n",
            "\n",
            "10-fold corss validation accuracy of GaussianNB() is : [0.50992235 0.54098361 0.5        0.51899827 0.51381693 0.52158895\n",
            " 0.52849741 0.52072539 0.51727116 0.53367876]\n",
            "Accuracy score is  0.5205482810057507\n",
            "f1 weighted score = 0.4323091760798426\n",
            "\n",
            "\n",
            "10-fold corss validation accuracy of KNeighborsClassifier() is : [0.94736842 0.9594478  0.96977547 0.96200345 0.96286701 0.94559585\n",
            " 0.95854922 0.9671848  0.96804836 0.97150259]\n",
            "Accuracy score is  0.9612342991173678\n",
            "f1 weighted score = 0.96123210019088\n",
            "\n",
            "\n"
          ]
        },
        {
          "output_type": "stream",
          "name": "stderr",
          "text": [
            "/usr/local/lib/python3.7/dist-packages/sklearn/linear_model/_logistic.py:818: ConvergenceWarning: lbfgs failed to converge (status=1):\n",
            "STOP: TOTAL NO. of ITERATIONS REACHED LIMIT.\n",
            "\n",
            "Increase the number of iterations (max_iter) or scale the data as shown in:\n",
            "    https://scikit-learn.org/stable/modules/preprocessing.html\n",
            "Please also refer to the documentation for alternative solver options:\n",
            "    https://scikit-learn.org/stable/modules/linear_model.html#logistic-regression\n",
            "  extra_warning_msg=_LOGISTIC_SOLVER_CONVERGENCE_MSG,\n",
            "/usr/local/lib/python3.7/dist-packages/sklearn/linear_model/_logistic.py:818: ConvergenceWarning: lbfgs failed to converge (status=1):\n",
            "STOP: TOTAL NO. of ITERATIONS REACHED LIMIT.\n",
            "\n",
            "Increase the number of iterations (max_iter) or scale the data as shown in:\n",
            "    https://scikit-learn.org/stable/modules/preprocessing.html\n",
            "Please also refer to the documentation for alternative solver options:\n",
            "    https://scikit-learn.org/stable/modules/linear_model.html#logistic-regression\n",
            "  extra_warning_msg=_LOGISTIC_SOLVER_CONVERGENCE_MSG,\n",
            "/usr/local/lib/python3.7/dist-packages/sklearn/linear_model/_logistic.py:818: ConvergenceWarning: lbfgs failed to converge (status=1):\n",
            "STOP: TOTAL NO. of ITERATIONS REACHED LIMIT.\n",
            "\n",
            "Increase the number of iterations (max_iter) or scale the data as shown in:\n",
            "    https://scikit-learn.org/stable/modules/preprocessing.html\n",
            "Please also refer to the documentation for alternative solver options:\n",
            "    https://scikit-learn.org/stable/modules/linear_model.html#logistic-regression\n",
            "  extra_warning_msg=_LOGISTIC_SOLVER_CONVERGENCE_MSG,\n",
            "/usr/local/lib/python3.7/dist-packages/sklearn/linear_model/_logistic.py:818: ConvergenceWarning: lbfgs failed to converge (status=1):\n",
            "STOP: TOTAL NO. of ITERATIONS REACHED LIMIT.\n",
            "\n",
            "Increase the number of iterations (max_iter) or scale the data as shown in:\n",
            "    https://scikit-learn.org/stable/modules/preprocessing.html\n",
            "Please also refer to the documentation for alternative solver options:\n",
            "    https://scikit-learn.org/stable/modules/linear_model.html#logistic-regression\n",
            "  extra_warning_msg=_LOGISTIC_SOLVER_CONVERGENCE_MSG,\n",
            "/usr/local/lib/python3.7/dist-packages/sklearn/linear_model/_logistic.py:818: ConvergenceWarning: lbfgs failed to converge (status=1):\n",
            "STOP: TOTAL NO. of ITERATIONS REACHED LIMIT.\n",
            "\n",
            "Increase the number of iterations (max_iter) or scale the data as shown in:\n",
            "    https://scikit-learn.org/stable/modules/preprocessing.html\n",
            "Please also refer to the documentation for alternative solver options:\n",
            "    https://scikit-learn.org/stable/modules/linear_model.html#logistic-regression\n",
            "  extra_warning_msg=_LOGISTIC_SOLVER_CONVERGENCE_MSG,\n",
            "/usr/local/lib/python3.7/dist-packages/sklearn/linear_model/_logistic.py:818: ConvergenceWarning: lbfgs failed to converge (status=1):\n",
            "STOP: TOTAL NO. of ITERATIONS REACHED LIMIT.\n",
            "\n",
            "Increase the number of iterations (max_iter) or scale the data as shown in:\n",
            "    https://scikit-learn.org/stable/modules/preprocessing.html\n",
            "Please also refer to the documentation for alternative solver options:\n",
            "    https://scikit-learn.org/stable/modules/linear_model.html#logistic-regression\n",
            "  extra_warning_msg=_LOGISTIC_SOLVER_CONVERGENCE_MSG,\n",
            "/usr/local/lib/python3.7/dist-packages/sklearn/linear_model/_logistic.py:818: ConvergenceWarning: lbfgs failed to converge (status=1):\n",
            "STOP: TOTAL NO. of ITERATIONS REACHED LIMIT.\n",
            "\n",
            "Increase the number of iterations (max_iter) or scale the data as shown in:\n",
            "    https://scikit-learn.org/stable/modules/preprocessing.html\n",
            "Please also refer to the documentation for alternative solver options:\n",
            "    https://scikit-learn.org/stable/modules/linear_model.html#logistic-regression\n",
            "  extra_warning_msg=_LOGISTIC_SOLVER_CONVERGENCE_MSG,\n",
            "/usr/local/lib/python3.7/dist-packages/sklearn/linear_model/_logistic.py:818: ConvergenceWarning: lbfgs failed to converge (status=1):\n",
            "STOP: TOTAL NO. of ITERATIONS REACHED LIMIT.\n",
            "\n",
            "Increase the number of iterations (max_iter) or scale the data as shown in:\n",
            "    https://scikit-learn.org/stable/modules/preprocessing.html\n",
            "Please also refer to the documentation for alternative solver options:\n",
            "    https://scikit-learn.org/stable/modules/linear_model.html#logistic-regression\n",
            "  extra_warning_msg=_LOGISTIC_SOLVER_CONVERGENCE_MSG,\n",
            "/usr/local/lib/python3.7/dist-packages/sklearn/linear_model/_logistic.py:818: ConvergenceWarning: lbfgs failed to converge (status=1):\n",
            "STOP: TOTAL NO. of ITERATIONS REACHED LIMIT.\n",
            "\n",
            "Increase the number of iterations (max_iter) or scale the data as shown in:\n",
            "    https://scikit-learn.org/stable/modules/preprocessing.html\n",
            "Please also refer to the documentation for alternative solver options:\n",
            "    https://scikit-learn.org/stable/modules/linear_model.html#logistic-regression\n",
            "  extra_warning_msg=_LOGISTIC_SOLVER_CONVERGENCE_MSG,\n",
            "/usr/local/lib/python3.7/dist-packages/sklearn/linear_model/_logistic.py:818: ConvergenceWarning: lbfgs failed to converge (status=1):\n",
            "STOP: TOTAL NO. of ITERATIONS REACHED LIMIT.\n",
            "\n",
            "Increase the number of iterations (max_iter) or scale the data as shown in:\n",
            "    https://scikit-learn.org/stable/modules/preprocessing.html\n",
            "Please also refer to the documentation for alternative solver options:\n",
            "    https://scikit-learn.org/stable/modules/linear_model.html#logistic-regression\n",
            "  extra_warning_msg=_LOGISTIC_SOLVER_CONVERGENCE_MSG,\n",
            "/usr/local/lib/python3.7/dist-packages/sklearn/linear_model/_logistic.py:818: ConvergenceWarning: lbfgs failed to converge (status=1):\n",
            "STOP: TOTAL NO. of ITERATIONS REACHED LIMIT.\n",
            "\n",
            "Increase the number of iterations (max_iter) or scale the data as shown in:\n",
            "    https://scikit-learn.org/stable/modules/preprocessing.html\n",
            "Please also refer to the documentation for alternative solver options:\n",
            "    https://scikit-learn.org/stable/modules/linear_model.html#logistic-regression\n",
            "  extra_warning_msg=_LOGISTIC_SOLVER_CONVERGENCE_MSG,\n",
            "/usr/local/lib/python3.7/dist-packages/sklearn/linear_model/_logistic.py:818: ConvergenceWarning: lbfgs failed to converge (status=1):\n",
            "STOP: TOTAL NO. of ITERATIONS REACHED LIMIT.\n",
            "\n",
            "Increase the number of iterations (max_iter) or scale the data as shown in:\n",
            "    https://scikit-learn.org/stable/modules/preprocessing.html\n",
            "Please also refer to the documentation for alternative solver options:\n",
            "    https://scikit-learn.org/stable/modules/linear_model.html#logistic-regression\n",
            "  extra_warning_msg=_LOGISTIC_SOLVER_CONVERGENCE_MSG,\n",
            "/usr/local/lib/python3.7/dist-packages/sklearn/linear_model/_logistic.py:818: ConvergenceWarning: lbfgs failed to converge (status=1):\n",
            "STOP: TOTAL NO. of ITERATIONS REACHED LIMIT.\n",
            "\n",
            "Increase the number of iterations (max_iter) or scale the data as shown in:\n",
            "    https://scikit-learn.org/stable/modules/preprocessing.html\n",
            "Please also refer to the documentation for alternative solver options:\n",
            "    https://scikit-learn.org/stable/modules/linear_model.html#logistic-regression\n",
            "  extra_warning_msg=_LOGISTIC_SOLVER_CONVERGENCE_MSG,\n",
            "/usr/local/lib/python3.7/dist-packages/sklearn/linear_model/_logistic.py:818: ConvergenceWarning: lbfgs failed to converge (status=1):\n",
            "STOP: TOTAL NO. of ITERATIONS REACHED LIMIT.\n",
            "\n",
            "Increase the number of iterations (max_iter) or scale the data as shown in:\n",
            "    https://scikit-learn.org/stable/modules/preprocessing.html\n",
            "Please also refer to the documentation for alternative solver options:\n",
            "    https://scikit-learn.org/stable/modules/linear_model.html#logistic-regression\n",
            "  extra_warning_msg=_LOGISTIC_SOLVER_CONVERGENCE_MSG,\n",
            "/usr/local/lib/python3.7/dist-packages/sklearn/linear_model/_logistic.py:818: ConvergenceWarning: lbfgs failed to converge (status=1):\n",
            "STOP: TOTAL NO. of ITERATIONS REACHED LIMIT.\n",
            "\n",
            "Increase the number of iterations (max_iter) or scale the data as shown in:\n",
            "    https://scikit-learn.org/stable/modules/preprocessing.html\n",
            "Please also refer to the documentation for alternative solver options:\n",
            "    https://scikit-learn.org/stable/modules/linear_model.html#logistic-regression\n",
            "  extra_warning_msg=_LOGISTIC_SOLVER_CONVERGENCE_MSG,\n"
          ]
        },
        {
          "output_type": "stream",
          "name": "stdout",
          "text": [
            "10-fold corss validation accuracy of LogisticRegression() is : [0.63244176 0.62208801 0.62694301 0.61658031 0.61571675 0.62694301\n",
            " 0.6433506  0.63385147 0.63126079 0.62435233]\n",
            "Accuracy score is  0.6273528039924836\n",
            "f1 weighted score = 0.6271741154145742\n",
            "+---------------------+----------+-------------------+\n",
            "|     Classifier      | Accuracy | F1 score weighted |\n",
            "+=====================+==========+===================+\n",
            "| Dummy Stratified    | 0.504    | 0.496             |\n",
            "+---------------------+----------+-------------------+\n",
            "| Gaussian NB         | 0.521    | 0.432             |\n",
            "+---------------------+----------+-------------------+\n",
            "| KNN                 | 0.961    | 0.961             |\n",
            "+---------------------+----------+-------------------+\n",
            "| Logistic Regression | 0.627    | 0.627             |\n",
            "+---------------------+----------+-------------------+\n"
          ]
        },
        {
          "output_type": "stream",
          "name": "stderr",
          "text": [
            "/usr/local/lib/python3.7/dist-packages/sklearn/linear_model/_logistic.py:818: ConvergenceWarning: lbfgs failed to converge (status=1):\n",
            "STOP: TOTAL NO. of ITERATIONS REACHED LIMIT.\n",
            "\n",
            "Increase the number of iterations (max_iter) or scale the data as shown in:\n",
            "    https://scikit-learn.org/stable/modules/preprocessing.html\n",
            "Please also refer to the documentation for alternative solver options:\n",
            "    https://scikit-learn.org/stable/modules/linear_model.html#logistic-regression\n",
            "  extra_warning_msg=_LOGISTIC_SOLVER_CONVERGENCE_MSG,\n"
          ]
        }
      ]
    },
    {
      "cell_type": "markdown",
      "metadata": {
        "id": "RYmlrYKXRB3E"
      },
      "source": [
        "Σχολιασμός\n",
        "\n",
        "---\n",
        "\n"
      ]
    },
    {
      "cell_type": "markdown",
      "metadata": {
        "id": "OhfEOZEpRNy9"
      },
      "source": [
        "Παρατηρούμε ότι με τη μέθοδο του Oversampling δεν έχουμε σημαντική διαφορά στα αποτελέσματα. Άρα από τη στιγμή που προκύπτουν παρόμοια αποτελέσματα  με τα αρχικά, δεν θα χρησιμοποιήσουμε τη μέθοδο αυτή."
      ]
    },
    {
      "cell_type": "markdown",
      "metadata": {
        "id": "OSj6yOSbTrph"
      },
      "source": [
        "######  Undersampling"
      ]
    },
    {
      "cell_type": "code",
      "metadata": {
        "colab": {
          "base_uri": "https://localhost:8080/"
        },
        "id": "bVzi_-ERTwSB",
        "outputId": "95800240-0961-43b8-85c6-9635bc7ac318"
      },
      "source": [
        "#initialize RandomUnderSampler\n",
        "ros = RandomUnderSampler(sampling_strategy='majority') #resample only the majority class\n",
        "X_train_resampled, X_train_labels_resampled = ros.fit_resample(X_train, y_train)\n",
        "print(X_train_resampled.shape)\n",
        "print(X_train_labels_resampled.shape)\n",
        "print(X_train_labels_resampled)"
      ],
      "execution_count": null,
      "outputs": [
        {
          "output_type": "stream",
          "name": "stdout",
          "text": [
            "(9390, 14)\n",
            "(9390,)\n",
            "[0 0 0 ... 1 1 1]\n"
          ]
        }
      ]
    },
    {
      "cell_type": "markdown",
      "metadata": {
        "id": "4FHl62pPVxzk"
      },
      "source": [
        "Επιβεβαιώνουμε ότι όλες οι κλάσεις έχουν τον ίδιο αριθμό δειγμάτων:"
      ]
    },
    {
      "cell_type": "code",
      "metadata": {
        "colab": {
          "base_uri": "https://localhost:8080/"
        },
        "id": "z7h4xFr9Vyux",
        "outputId": "47cd1f71-17ca-4526-aa9a-b6b9d3220156"
      },
      "source": [
        "print((X_train_labels_resampled==0).sum())\n",
        "print((X_train_labels_resampled==1).sum())"
      ],
      "execution_count": null,
      "outputs": [
        {
          "output_type": "stream",
          "name": "stdout",
          "text": [
            "4695\n",
            "4695\n"
          ]
        }
      ]
    },
    {
      "cell_type": "markdown",
      "metadata": {
        "id": "NrBWSSRWWL3A"
      },
      "source": [
        "Ελέγχουμε τις επιδόσεις των ταξινομητών:"
      ]
    },
    {
      "cell_type": "code",
      "metadata": {
        "colab": {
          "base_uri": "https://localhost:8080/"
        },
        "id": "nPZ0a-8NV4gH",
        "outputId": "f9541561-c97c-487f-ae71-b5f10651c7cb"
      },
      "source": [
        "clf_stratified = DummyClassifier(strategy=\"stratified\")\n",
        "stratified = classification_baseline_metrics(clf_stratified,X_train_resampled,X_test,X_train_labels_resampled,y_test)\n",
        "print('\\n')\n",
        "\n",
        "clf = GaussianNB()\n",
        "GNB = classification_baseline_metrics(clf,X_train_resampled,X_test,X_train_labels_resampled,y_test)\n",
        "\n",
        "print('\\n')\n",
        "clf = KNeighborsClassifier()\n",
        "Knn = classification_baseline_metrics(clf,X_train_resampled,X_test,X_train_labels_resampled,y_test)\n",
        "\n",
        "print('\\n')\n",
        "clf = LogisticRegression()\n",
        "LR = classification_baseline_metrics(clf,X_train_resampled,X_test,X_train_labels_resampled,y_test)\n",
        "\n",
        "\n",
        "t = Texttable()\n",
        "accuracy = []\n",
        "columns = [['Classifier','Accuracy','F1 score weighted']]\n",
        "rows = [\"Dummy Stratified\",\"Gaussian NB\",\"KNN\",\"Logistic Regression\"]\n",
        "classifiers_list=[stratified, GNB, Knn, LR]\n",
        "for i,clf in enumerate(classifiers_list):\n",
        "    columns.append([rows[i],clf[2],clf[1]])\n",
        "t.add_rows(columns)\n",
        "print(t.draw())\n"
      ],
      "execution_count": null,
      "outputs": [
        {
          "output_type": "stream",
          "name": "stdout",
          "text": [
            "10-fold corss validation accuracy of DummyClassifier(strategy='stratified') is : [0.49733759 0.45473908 0.485623   0.50692226 0.51011715 0.49307774\n",
            " 0.47071353 0.49946752 0.50585729 0.51331203]\n",
            "Accuracy score is  0.4937167199148029\n",
            "f1 weighted score = 0.49436348452812623\n",
            "\n",
            "\n",
            "10-fold corss validation accuracy of GaussianNB() is : [0.50159744 0.50905218 0.52502662 0.50585729 0.53035144 0.51011715\n",
            " 0.49520767 0.51331203 0.49414271 0.51331203]\n",
            "Accuracy score is  0.5097976570820022\n",
            "f1 weighted score = 0.4221684429287681\n",
            "\n",
            "\n",
            "10-fold corss validation accuracy of KNeighborsClassifier() is : [0.95633653 0.94462194 0.95633653 0.96059638 0.95953142 0.94888179\n",
            " 0.9456869  0.95633653 0.96166134 0.95101171]\n",
            "Accuracy score is  0.9541001064962726\n",
            "f1 weighted score = 0.9540975015448409\n",
            "\n",
            "\n"
          ]
        },
        {
          "output_type": "stream",
          "name": "stderr",
          "text": [
            "/usr/local/lib/python3.7/dist-packages/sklearn/linear_model/_logistic.py:818: ConvergenceWarning: lbfgs failed to converge (status=1):\n",
            "STOP: TOTAL NO. of ITERATIONS REACHED LIMIT.\n",
            "\n",
            "Increase the number of iterations (max_iter) or scale the data as shown in:\n",
            "    https://scikit-learn.org/stable/modules/preprocessing.html\n",
            "Please also refer to the documentation for alternative solver options:\n",
            "    https://scikit-learn.org/stable/modules/linear_model.html#logistic-regression\n",
            "  extra_warning_msg=_LOGISTIC_SOLVER_CONVERGENCE_MSG,\n",
            "/usr/local/lib/python3.7/dist-packages/sklearn/linear_model/_logistic.py:818: ConvergenceWarning: lbfgs failed to converge (status=1):\n",
            "STOP: TOTAL NO. of ITERATIONS REACHED LIMIT.\n",
            "\n",
            "Increase the number of iterations (max_iter) or scale the data as shown in:\n",
            "    https://scikit-learn.org/stable/modules/preprocessing.html\n",
            "Please also refer to the documentation for alternative solver options:\n",
            "    https://scikit-learn.org/stable/modules/linear_model.html#logistic-regression\n",
            "  extra_warning_msg=_LOGISTIC_SOLVER_CONVERGENCE_MSG,\n",
            "/usr/local/lib/python3.7/dist-packages/sklearn/linear_model/_logistic.py:818: ConvergenceWarning: lbfgs failed to converge (status=1):\n",
            "STOP: TOTAL NO. of ITERATIONS REACHED LIMIT.\n",
            "\n",
            "Increase the number of iterations (max_iter) or scale the data as shown in:\n",
            "    https://scikit-learn.org/stable/modules/preprocessing.html\n",
            "Please also refer to the documentation for alternative solver options:\n",
            "    https://scikit-learn.org/stable/modules/linear_model.html#logistic-regression\n",
            "  extra_warning_msg=_LOGISTIC_SOLVER_CONVERGENCE_MSG,\n",
            "/usr/local/lib/python3.7/dist-packages/sklearn/linear_model/_logistic.py:818: ConvergenceWarning: lbfgs failed to converge (status=1):\n",
            "STOP: TOTAL NO. of ITERATIONS REACHED LIMIT.\n",
            "\n",
            "Increase the number of iterations (max_iter) or scale the data as shown in:\n",
            "    https://scikit-learn.org/stable/modules/preprocessing.html\n",
            "Please also refer to the documentation for alternative solver options:\n",
            "    https://scikit-learn.org/stable/modules/linear_model.html#logistic-regression\n",
            "  extra_warning_msg=_LOGISTIC_SOLVER_CONVERGENCE_MSG,\n"
          ]
        },
        {
          "output_type": "stream",
          "name": "stdout",
          "text": [
            "10-fold corss validation accuracy of LogisticRegression() is : [0.63791267 0.66134185 0.62619808 0.62300319 0.63897764 0.59105431\n",
            " 0.62193823 0.63791267 0.63045793 0.63684771]\n",
            "Accuracy score is  0.6305644302449414\n",
            "f1 weighted score = 0.6304667813548519\n",
            "+---------------------+----------+-------------------+\n",
            "|     Classifier      | Accuracy | F1 score weighted |\n",
            "+=====================+==========+===================+\n",
            "| Dummy Stratified    | 0.494    | 0.494             |\n",
            "+---------------------+----------+-------------------+\n",
            "| Gaussian NB         | 0.510    | 0.422             |\n",
            "+---------------------+----------+-------------------+\n",
            "| KNN                 | 0.954    | 0.954             |\n",
            "+---------------------+----------+-------------------+\n",
            "| Logistic Regression | 0.631    | 0.630             |\n",
            "+---------------------+----------+-------------------+\n"
          ]
        }
      ]
    },
    {
      "cell_type": "markdown",
      "metadata": {
        "id": "ge4hTcgLWCZz"
      },
      "source": [
        "Σχολιασμός\n",
        "\n",
        "---\n",
        "\n"
      ]
    },
    {
      "cell_type": "markdown",
      "metadata": {
        "id": "YXgBlkMZWJRp"
      },
      "source": [
        "Παρατηρούμε ότι με τη μέθοδο του Undersampling δεν έχουμε σημαντική διαφορά στα αποτελέσματα. Άρα από τη στιγμή που προκύπτουν παρόμοια αποτελέσματα  με τα αρχικά, δεν θα χρησιμοποιήσουμε τη μέθοδο αυτή."
      ]
    },
    {
      "cell_type": "markdown",
      "metadata": {
        "id": "Q_trBspdR4w_"
      },
      "source": [
        "##### PCA Analysis"
      ]
    },
    {
      "cell_type": "markdown",
      "metadata": {
        "id": "nVqdaSCGW8lZ"
      },
      "source": [
        "Η ανάλυση σε κύριες συνιστώσες (PCA) είναι η ευρέως διαδεδομένη μέθοδος μείωσης της διαστατικότητας. Στην συνέχεια εφαρμόζουμε την μέθοδο αυτή:"
      ]
    },
    {
      "cell_type": "code",
      "metadata": {
        "colab": {
          "base_uri": "https://localhost:8080/"
        },
        "id": "JbB8QtJ3R9pQ",
        "outputId": "1710e3d1-563b-4416-fd65-8f5d81e20c94"
      },
      "source": [
        "from sklearn.decomposition import PCA\n",
        "\n",
        "n = 10\n",
        "pca_1 = PCA(n_components = n)\n",
        "\n",
        "trainPCA_1 = pca_1.fit_transform(X_train)\n",
        "testPCA_1 = pca_1.transform(X_test)\n",
        "\n",
        "print('Dimensions of train samples array:',X_train.shape)\n",
        "print('Dimensions of train samples array after PCA:',trainPCA_1.shape)\n",
        "print('Dimensions of test samples array:',X_test.shape)\n",
        "print('Dimensions of test samples array after PCA:',testPCA_1.shape)"
      ],
      "execution_count": null,
      "outputs": [
        {
          "output_type": "stream",
          "name": "stdout",
          "text": [
            "Dimensions of train samples array: (10486, 14)\n",
            "Dimensions of train samples array after PCA: (10486, 10)\n",
            "Dimensions of test samples array: (4494, 14)\n",
            "Dimensions of test samples array after PCA: (4494, 10)\n"
          ]
        }
      ]
    },
    {
      "cell_type": "markdown",
      "metadata": {
        "id": "SAZktbCXWbi8"
      },
      "source": [
        "Ελέγχουμε τις επιδόσεις των ταξινομητών:"
      ]
    },
    {
      "cell_type": "code",
      "metadata": {
        "colab": {
          "base_uri": "https://localhost:8080/"
        },
        "id": "zG-E7ErJWZNC",
        "outputId": "a0611083-ee41-4a1b-8612-d386315e705b"
      },
      "source": [
        "clf = DummyClassifier()\n",
        "stratified = classification_baseline_metrics(clf,trainPCA_1,testPCA_1,y_train,y_test)\n",
        "print('\\n')\n",
        "\n",
        "clf = GaussianNB()\n",
        "GNB = classification_baseline_metrics(clf,trainPCA_1,testPCA_1,y_train,y_test)\n",
        "\n",
        "print('\\n')\n",
        "clf = KNeighborsClassifier()\n",
        "Knn = classification_baseline_metrics(clf,trainPCA_1,testPCA_1,y_train,y_test)\n",
        "\n",
        "print('\\n')\n",
        "clf = LogisticRegression()\n",
        "LR = classification_baseline_metrics(clf,trainPCA_1,testPCA_1,y_train,y_test)\n",
        "\n",
        "\n",
        "t = Texttable()\n",
        "accuracy = []\n",
        "columns = [['Classifier','Accuracy','F1 score weighted']]\n",
        "rows = [\"Dummy\",\"Gaussian NB\",\"KNN\",\"Logistic Regression\"]\n",
        "classifiers_list=[stratified, GNB, Knn, LR]\n",
        "for i,clf in enumerate(classifiers_list):\n",
        "    columns.append([rows[i],clf[2],clf[1]])\n",
        "t.add_rows(columns)\n",
        "print(t.draw())\n"
      ],
      "execution_count": null,
      "outputs": [
        {
          "output_type": "stream",
          "name": "stdout",
          "text": [
            "10-fold corss validation accuracy of DummyClassifier() is : [0.55195424 0.55195424 0.55195424 0.55195424 0.55195424 0.55290753\n",
            " 0.55248092 0.55248092 0.55248092 0.55248092]\n",
            "Accuracy score is  0.5522602405780861\n",
            "f1 weighted score = 0.39296428556146196\n",
            "\n",
            "\n",
            "10-fold corss validation accuracy of GaussianNB() is : [0.47759771 0.48236416 0.56053384 0.47378456 0.48808389 0.47187798\n",
            " 0.46183206 0.55916031 0.48568702 0.49332061]\n",
            "Accuracy score is  0.49542421353670163\n",
            "f1 weighted score = 0.3948887333696421\n",
            "\n",
            "\n",
            "10-fold corss validation accuracy of KNeighborsClassifier() is : [0.93612965 0.92945663 0.91325071 0.92755005 0.93803622 0.9399428\n",
            " 0.92461832 0.91984733 0.94083969 0.92843511]\n",
            "Accuracy score is  0.9298106520932331\n",
            "f1 weighted score = 0.9297255376052656\n",
            "\n",
            "\n",
            "10-fold corss validation accuracy of LogisticRegression() is : [0.5815062  0.60343184 0.59389895 0.58055291 0.5986654  0.57959962\n",
            " 0.60782443 0.58587786 0.60591603 0.60305344]\n",
            "Accuracy score is  0.5940326665162751\n",
            "f1 weighted score = 0.5792318145435275\n",
            "+---------------------+----------+-------------------+\n",
            "|     Classifier      | Accuracy | F1 score weighted |\n",
            "+=====================+==========+===================+\n",
            "| Dummy               | 0.552    | 0.393             |\n",
            "+---------------------+----------+-------------------+\n",
            "| Gaussian NB         | 0.495    | 0.395             |\n",
            "+---------------------+----------+-------------------+\n",
            "| KNN                 | 0.930    | 0.930             |\n",
            "+---------------------+----------+-------------------+\n",
            "| Logistic Regression | 0.594    | 0.579             |\n",
            "+---------------------+----------+-------------------+\n"
          ]
        }
      ]
    },
    {
      "cell_type": "markdown",
      "metadata": {
        "id": "z_Ygl920Y7Zr"
      },
      "source": [
        "Σχολιασμός\n",
        "\n",
        "---\n",
        "\n"
      ]
    },
    {
      "cell_type": "markdown",
      "metadata": {
        "id": "NBU_PAlPY-wO"
      },
      "source": [
        "Παρατηρούμε ότι με τη μέθοδο PCA χειροτερεύουν τα αποτελέσματα. Άρα από τη στιγμή που προκύπτουν παρόμοια αποτελέσματα  χειρότερα από τα αρχικά, δεν θα χρησιμοποιήσουμε τη μέθοδο αυτή."
      ]
    },
    {
      "cell_type": "markdown",
      "metadata": {
        "id": "E-XTa7A4_E_d"
      },
      "source": [
        "#### Ορισμός Pipelines"
      ]
    },
    {
      "cell_type": "markdown",
      "metadata": {
        "id": "rXa72TKTcU_c"
      },
      "source": [
        "Στο βήμα αυτό ορίζουμε pipelines. Μια ολοκληρωμένη διαδικασία pipeline λόγω του ότι τελειώνει σε έναν εκτιμητή μπορεί να θεωρηθεί και συνολικά ως ένας εκτιμητής, με κανένα, με λίγους ή με περισσότερους μετασχηματιστές πριν από τον εκτιμητή. Στην συγκεκριμένη περίπτωση, όπως προέκυψε από τους επιμέρους πειραματισμούς μας πάνω σε διάφορα στάδια προεπεξεργασίας νωρίτερα, δεν χρησιμοποιούμε μετασχηματισμούς για προεπεξεργασία των δεδομένων μας. Έτσι, αν ορίσουμε pipelines, αυτά θα έχουν ένα μόνο step, αυτό του ταξινομητή. Π.χ.:\n",
        "\n",
        "```\n",
        "dummy_pipe = Pipeline(steps=[('dummy', dummy_clf_pl)])\n",
        "\n",
        "```\n",
        "\n",
        "Επομένως, δεν έχει νόημα να χρησιμοποιήσουμε pipelines."
      ]
    },
    {
      "cell_type": "markdown",
      "metadata": {
        "id": "i_7jLu6Qfx-D"
      },
      "source": [
        "Στην συνέχεια ορίζουμε pipelines με επιμέρους στάδια προεπεξεργασίας ενδεικτικά, προκειμένου να δείξουμε τον τρόπο χρήσης τους. Σημειώνουμε όμως ότι δεν θα χρησιμοποιηθούν στην συνέχεια:"
      ]
    },
    {
      "cell_type": "code",
      "metadata": {
        "id": "nEkYQ5Dednqk"
      },
      "source": [
        "from imblearn.pipeline import Pipeline\n",
        "\n",
        "pca_1 = PCA()\n",
        "\n",
        "dummy_clf_pl = DummyClassifier()\n",
        "clf_gnb = GaussianNB()\n",
        "clf_knn = KNeighborsClassifier()\n",
        "clf_LR = LogisticRegression()\n",
        "\n",
        "dummy_pipe = Pipeline(steps=[('selector',selector), ('scaler', scaler), ('sampler', ros), ('pca', pca_1),('dummy', dummy_clf_pl)])\n",
        "GNB_pipe = Pipeline(steps=[('selector',selector), ('scaler', scaler), ('sampler', ros), ('pca', pca_1),('GNB', clf_gnb)])\n",
        "KNN_pipe = Pipeline(steps=[('selector',selector), ('scaler', scaler), ('sampler', ros), ('pca', pca_1),('KNN', clf_knn)])\n",
        "LR_pipe = Pipeline(steps=[('selector',selector), ('scaler', scaler), ('sampler', ros), ('pca', pca_1),('LR', clf_LR)])"
      ],
      "execution_count": null,
      "outputs": []
    },
    {
      "cell_type": "markdown",
      "metadata": {
        "id": "tSsGZAuygBw2"
      },
      "source": [
        "Ελέγχουμε τα αποτελέσματα των ταξινομητών-pipelines:"
      ]
    },
    {
      "cell_type": "code",
      "metadata": {
        "colab": {
          "base_uri": "https://localhost:8080/"
        },
        "id": "U1KBc_41e6RH",
        "outputId": "7ff2770e-9d9f-494e-e45d-395c221d4d83"
      },
      "source": [
        "dummy = classification_baseline_metrics(dummy_pipe,X_train,X_test,y_train,y_test)\n",
        "print('\\n')\n",
        "\n",
        "GNB = classification_baseline_metrics(GNB_pipe,X_train,X_test,y_train,y_test)\n",
        "\n",
        "print('\\n')\n",
        "\n",
        "Knn = classification_baseline_metrics(KNN_pipe,X_train,X_test,y_train,y_test)\n",
        "\n",
        "print('\\n')\n",
        "\n",
        "LR = classification_baseline_metrics(LR_pipe,X_train, X_test,y_train,y_test)\n",
        "\n",
        "\n",
        "t = Texttable()\n",
        "accuracy = []\n",
        "columns = [['Classifier','Accuracy','F1 score weighted']]\n",
        "rows = [\"Dummy \",\"Gaussian NB\",\"KNN\",\"Logistic Regression\"]\n",
        "classifiers_list=[dummy, GNB, Knn, LR]\n",
        "for i,clf in enumerate(classifiers_list):\n",
        "    columns.append([rows[i],clf[2],clf[1]])\n",
        "t.add_rows(columns)\n",
        "print(t.draw())\n"
      ],
      "execution_count": null,
      "outputs": [
        {
          "output_type": "stream",
          "name": "stdout",
          "text": [
            "10-fold corss validation accuracy of Pipeline(steps=[('selector', VarianceThreshold(threshold=1500)),\n",
            "                ('scaler', StandardScaler()),\n",
            "                ('sampler', RandomUnderSampler(sampling_strategy='majority')),\n",
            "                ('pca', PCA()), ('dummy', DummyClassifier())]) is : [0.55195424 0.55195424 0.55195424 0.55195424 0.55195424 0.55290753\n",
            " 0.55248092 0.55248092 0.55248092 0.55248092]\n",
            "Accuracy score is  0.5522602405780861\n",
            "f1 weighted score = 0.39296428556146196\n",
            "\n",
            "\n",
            "10-fold corss validation accuracy of Pipeline(steps=[('selector', VarianceThreshold(threshold=1500)),\n",
            "                ('scaler', StandardScaler()),\n",
            "                ('sampler', RandomUnderSampler(sampling_strategy='majority')),\n",
            "                ('pca', PCA()), ('GNB', GaussianNB())]) is : [0.52907531 0.64632984 0.5900858  0.47664442 0.57959962 0.52812202\n",
            " 0.63167939 0.59923664 0.52385496 0.57251908]\n",
            "Accuracy score is  0.5677147083008901\n",
            "f1 weighted score = 0.5064767423677077\n",
            "\n",
            "\n",
            "10-fold corss validation accuracy of Pipeline(steps=[('selector', VarianceThreshold(threshold=1500)),\n",
            "                ('scaler', StandardScaler()),\n",
            "                ('sampler', RandomUnderSampler(sampling_strategy='majority')),\n",
            "                ('pca', PCA()), ('KNN', KNeighborsClassifier())]) is : [0.6920877  0.71306006 0.64251668 0.75309819 0.67016206 0.68160153\n",
            " 0.70515267 0.63072519 0.71469466 0.73473282]\n",
            "Accuracy score is  0.693783155895473\n",
            "f1 weighted score = 0.6902785584408314\n",
            "\n",
            "\n",
            "10-fold corss validation accuracy of Pipeline(steps=[('selector', VarianceThreshold(threshold=1500)),\n",
            "                ('scaler', StandardScaler()),\n",
            "                ('sampler', RandomUnderSampler(sampling_strategy='majority')),\n",
            "                ('pca', PCA()), ('LR', LogisticRegression())]) is : [0.57578646 0.59294566 0.56530029 0.54909438 0.57483317 0.57102002\n",
            " 0.59160305 0.58778626 0.57633588 0.57538168]\n",
            "Accuracy score is  0.5760086851163231\n",
            "f1 weighted score = 0.5741226319848123\n",
            "+---------------------+----------+-------------------+\n",
            "|     Classifier      | Accuracy | F1 score weighted |\n",
            "+=====================+==========+===================+\n",
            "| Dummy               | 0.552    | 0.393             |\n",
            "+---------------------+----------+-------------------+\n",
            "| Gaussian NB         | 0.568    | 0.506             |\n",
            "+---------------------+----------+-------------------+\n",
            "| KNN                 | 0.694    | 0.690             |\n",
            "+---------------------+----------+-------------------+\n",
            "| Logistic Regression | 0.576    | 0.574             |\n",
            "+---------------------+----------+-------------------+\n"
          ]
        }
      ]
    },
    {
      "cell_type": "markdown",
      "metadata": {
        "id": "56jKitJC-qxU"
      },
      "source": [
        "#### Εύρεση βέλτιστων υπερμαραμέτρων με αναζήτηση πλέγματος με διασταυρούμενη επικύρωση"
      ]
    },
    {
      "cell_type": "markdown",
      "metadata": {
        "id": "UpJuFfHxofDF"
      },
      "source": [
        "Οι πιο σημαντικές υπερπαράμετροι των μοντέλων είναι οι εξής:\n",
        "\n",
        " * ο αριθμός k των πλησιέστερων γειτόνων στον kNN classifier\n",
        " * το var_smoothing στον Gaussian Naive Bayes\n",
        " * το solver, penalty και C στο Logistic Regression\n",
        "\n",
        "\n",
        "Προκειμένου να βρούμε τις βέλτιστες υπερπαραμέτρους θα χρησιμοποιήσουμε εξαντλητική αναζήτηση πλέγματος (exhaustive grid search). Η συγκεκριμένη στρατηγική αναζήτησης των βέλτιστων υπερπαραμέτρων είναι προφανώς πολύ ακριβή υπολογιστικά. Υπάρχουν διάφορες τεχνικές για να περιορίζεται η πολυπλοκότητα του grid search. Σε κάθε περίπτωση πάτνως, πρόκειται για μια πολύ σημαντική διαδικασία, γιατί οι υπερπαράμετροι είναι ορίσματα των εκτιμητών που επηρεάζουν την επίδοσή τους και δεν μαθαίνονται από την fit.\n",
        "\n",
        "Παρακάτω φαίνεται μια συνάρτηση που πραγματοποιεί για κάθε ταξινομητη  grid search βρίσκει την βέλτιστη υπερπαράμετρο και στη συνέχεια κάνει train το μοντέλο με την παράμετρο αυτή."
      ]
    },
    {
      "cell_type": "code",
      "metadata": {
        "id": "9m7dX_VemYnK"
      },
      "source": [
        "def grid_search(clf,parameters,X_train,X_test,y_train,y_test,verbose = 10,scoring = \"f1_weighted\"):\n",
        "    estimator = GridSearchCV(clf,parameters, n_jobs = -1, cv = 10, verbose = verbose ,scoring = scoring)\n",
        "    estimator.fit(X_train,y_train)\n",
        "    Best_clf = estimator.best_estimator_.fit(X_train,y_train)\n",
        "    print(Best_clf.score(X_test,y_test))\n",
        "    return Best_clf"
      ],
      "execution_count": null,
      "outputs": []
    },
    {
      "cell_type": "markdown",
      "metadata": {
        "id": "RoutVLBgdNxl"
      },
      "source": [
        "##### Gaussian Naive Bayes Classifier"
      ]
    },
    {
      "cell_type": "markdown",
      "metadata": {
        "id": "msgQoju9r_gw"
      },
      "source": [
        "Προκειμένου να βρούμε τη καλύτερη τιμή της παραμέτρου για το smoothing πραγματοποιήσαμε tuning της υπερπαραμέτρου var_smoothing για να μεγιστοποιήσουμε την απόδοση, με χρήση της συνάρτησης grid_search."
      ]
    },
    {
      "cell_type": "code",
      "metadata": {
        "colab": {
          "base_uri": "https://localhost:8080/"
        },
        "id": "s-7gVDtSdNfb",
        "outputId": "8e48282e-4481-47cb-a00b-b6518f9a98aa"
      },
      "source": [
        "params = {'var_smoothing': [0.00001, 0.00005, 0.0001, 0.0003, 0.0005,0.0008]}\n",
        "clf = GaussianNB()\n",
        "#f1_weighted\n",
        "grid_search(clf,params,X_train,X_test,y_train,y_test,10)"
      ],
      "execution_count": null,
      "outputs": [
        {
          "output_type": "stream",
          "name": "stdout",
          "text": [
            "Fitting 10 folds for each of 6 candidates, totalling 60 fits\n",
            "0.5307076101468625\n"
          ]
        },
        {
          "output_type": "execute_result",
          "data": {
            "text/plain": [
              "GaussianNB(var_smoothing=1e-05)"
            ]
          },
          "metadata": {},
          "execution_count": 54
        }
      ]
    },
    {
      "cell_type": "markdown",
      "metadata": {
        "id": "qc2pAR4Cnfg4"
      },
      "source": [
        "Η βέλτιστη υπερπαράμετρος είναι var_smoothing= 0.00001"
      ]
    },
    {
      "cell_type": "code",
      "metadata": {
        "id": "wbz3O1CLavPl",
        "colab": {
          "base_uri": "https://localhost:8080/"
        },
        "outputId": "5abfab5c-a87e-4e90-9c2d-cf30084882d3"
      },
      "source": [
        "best_gnb = GaussianNB(var_smoothing=0.00001)\n",
        "gnb_optimal = classification_baseline_metrics(best_gnb,X_train,X_test,y_train,y_test)\n",
        "gnb_optimal_diagrams = classification_baseline(best_gnb,X_train,X_test,y_train,y_test)\n",
        "print('Total fit time is {} sec'.format(gnb_optimal_diagrams[1]))\n",
        "print('Total predict time is {} sec'.format(gnb_optimal_diagrams[2]))"
      ],
      "execution_count": null,
      "outputs": [
        {
          "output_type": "stream",
          "name": "stdout",
          "text": [
            "10-fold corss validation accuracy of GaussianNB(var_smoothing=1e-05) is : [0.51858913 0.55386082 0.55195424 0.45376549 0.53098189 0.53956149\n",
            " 0.51145038 0.55629771 0.53244275 0.51908397]\n",
            "Accuracy score is  0.5267987869217503\n",
            "f1 weighted score = 0.47625636814594696\n",
            "Total fit time is 0.00578 sec\n",
            "Total predict time is 0.00149 sec\n"
          ]
        }
      ]
    },
    {
      "cell_type": "markdown",
      "metadata": {
        "id": "za0s9HT4QG9x"
      },
      "source": [
        "##### KNN Classifier"
      ]
    },
    {
      "cell_type": "markdown",
      "metadata": {
        "id": "uAQ98CAbTFRA"
      },
      "source": [
        "Για τη βελτιστοποίηση του k κάνουμε grid search, με 10-fold cross validation, oρίζoντας ένα πεδίο ορισμού για το k. Για κάθε τιμή k, θα πρέπει να υπολογιστεί ο μέσος όρος του εκτιμητή σε όλα τα folds του cross-validation με βάση το f1_micro και f1_macro και να επιλεχθεί το καλύτερο k.\n",
        "\n"
      ]
    },
    {
      "cell_type": "code",
      "metadata": {
        "id": "6Pw4jtRoP7FY",
        "colab": {
          "base_uri": "https://localhost:8080/"
        },
        "outputId": "a636360d-ea7b-4c71-b803-c1c6974c1b28"
      },
      "source": [
        "params =  {\"n_neighbors\": [i for i in range(1,11)]}\n",
        "clf = KNeighborsClassifier(n_jobs = -1)\n",
        "#f1_weighted\n",
        "grid_search(clf,params,X_train,X_test,y_train,y_test,10)"
      ],
      "execution_count": null,
      "outputs": [
        {
          "output_type": "stream",
          "name": "stdout",
          "text": [
            "Fitting 10 folds for each of 10 candidates, totalling 100 fits\n",
            "0.9750778816199377\n"
          ]
        },
        {
          "output_type": "execute_result",
          "data": {
            "text/plain": [
              "KNeighborsClassifier(n_jobs=-1, n_neighbors=1)"
            ]
          },
          "metadata": {},
          "execution_count": 56
        }
      ]
    },
    {
      "cell_type": "markdown",
      "metadata": {
        "id": "_OG1lSBcTbHN"
      },
      "source": [
        "Η βέλτιστη υπερπαράμετρος είναι  k = 1"
      ]
    },
    {
      "cell_type": "code",
      "metadata": {
        "id": "weSrJBYzRVoH",
        "colab": {
          "base_uri": "https://localhost:8080/"
        },
        "outputId": "8e5adf4c-e651-4392-e4bf-f4eb276f6cef"
      },
      "source": [
        "best_Knn = KNeighborsClassifier(n_neighbors = 1, n_jobs = -1)\n",
        "Knn_optimal = classification_baseline_metrics(best_Knn,X_train,X_test,y_train,y_test)\n",
        "Knn_optimal_diagrams = classification_baseline(best_Knn,X_train,X_test,y_train,y_test)\n",
        "print('Total fit time is {} sec'.format(Knn_optimal_diagrams[1]))\n",
        "print('Total predict time is {} sec'.format(Knn_optimal_diagrams[2]))"
      ],
      "execution_count": null,
      "outputs": [
        {
          "output_type": "stream",
          "name": "stdout",
          "text": [
            "10-fold corss validation accuracy of KNeighborsClassifier(n_jobs=-1, n_neighbors=1) is : [0.96758818 0.97140133 0.97044805 0.97044805 0.97616778 0.97521449\n",
            " 0.96946565 0.96660305 0.96755725 0.97709924]\n",
            "Accuracy score is  0.9711993065005566\n",
            "f1 weighted score = 0.971202741986996\n",
            "Total fit time is 0.02351 sec\n",
            "Total predict time is 0.32873 sec\n"
          ]
        }
      ]
    },
    {
      "cell_type": "markdown",
      "metadata": {
        "id": "5k9qha2NYOd2"
      },
      "source": [
        "##### Dummy stratified"
      ]
    },
    {
      "cell_type": "markdown",
      "metadata": {
        "id": "r37JSo9kjm7-"
      },
      "source": [
        "Ο ταξινομητής αυτός δεν διαθέτει υπερπαραμέτρους προς προσδιορισμό."
      ]
    },
    {
      "cell_type": "markdown",
      "metadata": {
        "id": "5eldd8BJroMR"
      },
      "source": [
        "##### Logistic Regression"
      ]
    },
    {
      "cell_type": "code",
      "metadata": {
        "id": "qGNi8pKFu0XX"
      },
      "source": [
        "solvers = ['newton-cg','lbfgs', 'liblinear']\n",
        "penalty = ['l2']\n",
        "c_values = [1.0, 0.1,0.01]\n",
        "grid = dict(solver=solvers,penalty=penalty,C=c_values)\n",
        "clf = LogisticRegression()\n",
        "#f1_weighted\n",
        "grid_search(clf, grid, X_train,X_test,y_train,y_test,10)"
      ],
      "execution_count": null,
      "outputs": []
    },
    {
      "cell_type": "markdown",
      "metadata": {
        "id": "bjvMrmuOyz-U"
      },
      "source": [
        "Ο βέλτιστος συνδιασμός υπερπαραμέτρων είναι:    \n",
        "* solver = liblinear\n",
        "* penalty = l2\n",
        "* C = 0.1"
      ]
    },
    {
      "cell_type": "code",
      "metadata": {
        "id": "LGVRee_iyesF",
        "colab": {
          "base_uri": "https://localhost:8080/"
        },
        "outputId": "45d3c8f8-6a50-42da-930c-16e4ecef389a"
      },
      "source": [
        "best_LR = LogisticRegression(solver='liblinear', penalty='l2', C=0.1)\n",
        "LR_optimal = classification_baseline_metrics(best_LR,X_train,X_test,y_train,y_test)\n",
        "LR_optimal_diagrams= classification_baseline(best_LR,X_train,X_test,y_train,y_test)\n",
        "print('Total fit time is {} sec'.format(LR_optimal_diagrams[1]))\n",
        "print('Total predict time is {} sec'.format(LR_optimal_diagrams[2]))"
      ],
      "execution_count": null,
      "outputs": [
        {
          "output_type": "stream",
          "name": "stdout",
          "text": [
            "10-fold corss validation accuracy of LogisticRegression(C=0.1, solver='liblinear') is : [0.6406101  0.64346997 0.64537655 0.63489037 0.64442326 0.62154433\n",
            " 0.66984733 0.64217557 0.64408397 0.66507634]\n",
            "Accuracy score is  0.6451497791426222\n",
            "f1 weighted score = 0.6371818851011453\n",
            "Total fit time is 0.10685 sec\n",
            "Total predict time is 0.00063 sec\n"
          ]
        }
      ]
    },
    {
      "cell_type": "markdown",
      "metadata": {
        "id": "9WgA8-Tzdqn9"
      },
      "source": [
        "## Αποτελέσματα και Συμπεράσματα"
      ]
    },
    {
      "cell_type": "markdown",
      "metadata": {
        "id": "5YoudanTkfCr"
      },
      "source": [
        "##### Markdown Πίνακας"
      ]
    },
    {
      "cell_type": "markdown",
      "metadata": {
        "id": "YIGmKrwJky31"
      },
      "source": [
        "Στην ενότητα αυτή θα  συγκρίνουμε τους βλετιστοποιημένους ταξινομητές. Αρχικά θα συνοψίσουμε τα αποτελέσματα σε ένα πίνακα markdown:"
      ]
    },
    {
      "cell_type": "code",
      "metadata": {
        "id": "NXNAsdbtk3m8",
        "colab": {
          "base_uri": "https://localhost:8080/"
        },
        "outputId": "d2ea17e3-cc6a-4025-d5e1-53403578697c"
      },
      "source": [
        "t = Texttable()\n",
        "\n",
        "accuracy = []\n",
        "f1_weighted_list = []\n",
        "columns = [['Classifier','Accuracy','F1 score weighted','Fit time (s)','Predict time (s)','Accuracy change','F1 score weighted change']]\n",
        "rows = [\"Dummy Stratified\",\"Gaussian NB\",\"KNN_optimal\",\"Logistic Regression\"]\n",
        "classifiers_list=[stratified_1,gnb_optimal,Knn_optimal,LR_optimal]\n",
        "classifiers_time_list=[stratified_diagrams,gnb_optimal_diagrams,Knn_optimal_diagrams,LR_optimal_diagrams]\n",
        "clf1=[stratified_1,GNB_1,Knn_1,LR_1]\n",
        "for i, (clf,clf_time)in enumerate(zip(classifiers_list,classifiers_time_list)):\n",
        "  columns.append([rows[i],clf[2],clf[1],clf_time[1],clf_time[2],clf[2]-clf1[i][2],clf[1]-clf1[i][1]])\n",
        "t.add_rows(columns)\n",
        "print(t.draw())"
      ],
      "execution_count": null,
      "outputs": [
        {
          "output_type": "stream",
          "name": "stdout",
          "text": [
            "+-----------+----------+-----------+----------+----------+----------+----------+\n",
            "| Classifie | Accuracy | F1 score  | Fit time | Predict  | Accuracy | F1 score |\n",
            "|     r     |          | weighted  |   (s)    | time (s) |  change  | weighted |\n",
            "|           |          |           |          |          |          |  change  |\n",
            "+===========+==========+===========+==========+==========+==========+==========+\n",
            "| Dummy Str | 0.517    | 0.504     | 0.000    | 0.000    | 0        | 0        |\n",
            "| atified   |          |           |          |          |          |          |\n",
            "+-----------+----------+-----------+----------+----------+----------+----------+\n",
            "| Gaussian  | 0.527    | 0.476     | 0.006    | 0.001    | 0.018    | 0.036    |\n",
            "| NB        |          |           |          |          |          |          |\n",
            "+-----------+----------+-----------+----------+----------+----------+----------+\n",
            "| KNN_optim | 0.971    | 0.971     | 0.024    | 0.329    | 0.012    | 0.012    |\n",
            "| al        |          |           |          |          |          |          |\n",
            "+-----------+----------+-----------+----------+----------+----------+----------+\n",
            "| Logistic  | 0.645    | 0.637     | 0.107    | 0.001    | 0.000    | 0.000    |\n",
            "| Regressio |          |           |          |          |          |          |\n",
            "| n         |          |           |          |          |          |          |\n",
            "+-----------+----------+-----------+----------+----------+----------+----------+\n"
          ]
        }
      ]
    },
    {
      "cell_type": "markdown",
      "metadata": {
        "id": "dTd0CdoHob4p"
      },
      "source": [
        "##### Bar Plot Σύγκρισης"
      ]
    },
    {
      "cell_type": "markdown",
      "metadata": {
        "id": "qdmarjrWokQ9"
      },
      "source": [
        "Έχοντας υπολογίσει αναλυτικά στα προηγούμενα βήματα τις μετρικές απόδοσης accuracy και F1 score για τους Dummy, Gaussian Naive Bayes, kNN και LR ταξινομητές, παρουσιάζουμε συγκεντρωτικά τα αποτελέσματα με γραφική απεικόνιση, ώστε να συγκρίνουμε την απόδοσή τους:"
      ]
    },
    {
      "cell_type": "code",
      "metadata": {
        "id": "qbXzTIxwpdeY",
        "colab": {
          "base_uri": "https://localhost:8080/",
          "height": 660
        },
        "outputId": "292b3765-1b10-49cb-9460-03ca0464df4a"
      },
      "source": [
        "fig = plt.figure()\n",
        "fig.set_size_inches(18.5, 10.5)\n",
        "x = ['Dummy_stratified','Gaussian NB Optimal','Gaussian NB Change','KNN Optimal ','KNN change','Logistic Regression Optimal ','Logistic Regression Change']\n",
        "y=[100*stratified_1[2],100*gnb_optimal[2],100*(gnb_optimal[2]-GNB_1[2]),100*Knn_optimal[2],100*(Knn_optimal[2]-Knn_1[2]),100*LR_optimal[2],100*(LR_optimal[2]-LR_1[2])]\n",
        "plt.bar(x,y, align='center', width=0.4)\n",
        "plt.xticks(x,x)\n",
        "plt.title('Accuracy',fontsize= '20')\n",
        "plt.xlabel('Classifier', fontsize = '15')\n",
        "plt.ylabel('Score',fontsize='15')\n",
        "plt.show()"
      ],
      "execution_count": null,
      "outputs": [
        {
          "output_type": "display_data",
          "data": {
            "image/png": "[encoded data removed]",
            "text/plain": [
              "<Figure size 1332x756 with 1 Axes>"
            ]
          },
          "metadata": {
            "needs_background": "light"
          }
        }
      ]
    },
    {
      "cell_type": "code",
      "metadata": {
        "id": "bO74Yc5qdu-j",
        "colab": {
          "base_uri": "https://localhost:8080/",
          "height": 660
        },
        "outputId": "f31bf3a6-39a8-4cd5-a215-ae0d320254f7"
      },
      "source": [
        "fig = plt.figure()\n",
        "fig.set_size_inches(18.5, 10.5)\n",
        "x = ['Dummy_stratified','Gaussian NB Optimal','Gaussian NB Change','KNN Optimal ','KNN change','Logistic Regression Optimal ','Logistic Regression Change']\n",
        "y=[100*stratified_1[1],100*gnb_optimal[1],100*(gnb_optimal[1]-GNB_1[1]),100*Knn_optimal[1],100*(Knn_optimal[1]-Knn_1[1]),100*LR_optimal[1],100*(LR_optimal[1]-LR_1[1])]\n",
        "plt.bar(x,y, align='center', width=0.4)\n",
        "plt.xticks(x,x)\n",
        "plt.title('F1 weighted',fontsize= '20')\n",
        "plt.xlabel('Classifier', fontsize = '15')\n",
        "plt.ylabel('Score',fontsize='15')\n",
        "plt.show()"
      ],
      "execution_count": null,
      "outputs": [
        {
          "output_type": "display_data",
          "data": {
            "image/png": "[encoded data removed]",
            "text/plain": [
              "<Figure size 1332x756 with 1 Axes>"
            ]
          },
          "metadata": {
            "needs_background": "light"
          }
        }
      ]
    },
    {
      "cell_type": "markdown",
      "metadata": {
        "id": "Bx2WZzO8oVPV"
      },
      "source": [
        "##### Σχολιασμός\n",
        "\n",
        "\n"
      ]
    },
    {
      "cell_type": "markdown",
      "metadata": {
        "id": "KVk4miAOEau1"
      },
      "source": [
        "Σύγκριση επιδόσεων των διαφόρων ταξινομητών:     \n",
        "\n",
        "* Παρατηρούμε πως ο kNN ταξινομητής εξακολουθεί να έχει αισθητά καλύτερα αποτελέσματα σε σχέση με τους υπόλοιπους ταξινομητές, καθώς και πως χρειάζεται πολύ περισσότερο χρόνο για την εκπαίδευσή του, καθώς και την διεξαγωγή προβλέψεων.  Ο λόγος που η διεξαγωγή προβλέψεων χρειάζεται περισσότερο χρόνο στον kNN ταξινομητή είναι πως για κάθε πρόβλεψη χρειάζεται να υπολογίζεται η απόσταση του σημείου από όλα τα training δείγματα. Κάτι τέτοιο είναι πολύ πιο ακριβό υπολογιστικά σε σύγκριση για παράδειγμα με τον υπολογισμό απλά της τιμής μίας discriminant συνάρτησης και την σύγκριση αυτής με το μηδέν, τα οποία εκτελεί ο Gaussian NB κατά την πρόβλεψη.\n",
        "* Ο Gaussian NB ταξινομητής οδηγεί ακόκα και μετά την βελτιστοποίηση σε αντίστοιχα αποτελέσματα με τον dummy ταξινομητή, το οποίο, όπως εξηγήσαμε νωρίτερα οφείλεται στην μεγάλη απλότητα του ταξινομητή αυτού.\n",
        "* Ο ταξινομητής Logistic Regression έχει μεν καλύτερες επιδόσεις από τον dummy, πολύ πιο χαμηλές όμως από τον kNN.\n",
        "\n",
        "Σύγκριση επιδόσεων μετά την βελτιστοποίηση με τις επιδόσεις out of the box:   \n",
        "\n",
        "* Παρατηρούμε ότι η βελτιστοποίηση δεν επέφερε σχεδόν καμία βελτίωση στις επιδόσεις. Συγκεκριμένα, η μόνη μέθοδος βελτιστοποίησης την οποία χρησιμοποιήσαμε (μετά από πειραματισμούς) είναι η επιλογή κατάλληλων υπερπαραμέτρων. Τελικά, ο LR ταξινομητής δεν βελτιώθηκε καθόλου, ενώ οι Gaussian NB και kNN σχεδόν αμελητέα."
      ]
    },
    {
      "cell_type": "markdown",
      "metadata": {
        "id": "3o9AJipvjHfI"
      },
      "source": [
        "##### Πίνακες σύγχυσης καλύτερου και χειρότερου ταξινομητή ως προς την ορθότητα"
      ]
    },
    {
      "cell_type": "markdown",
      "metadata": {
        "id": "P8xSBvkVBDpP"
      },
      "source": [
        "Όσον αφορά την ορθότητα ο καλύτερος ταξινομητής (εξαιρουμένων των dummy) είναι ο kNN και ο χειρότερος ο Gaussian NB. Συγκεκριμένα έχουμε τα εξής αποτελέσματα και τους εξής πίνακες σύγχυσης:"
      ]
    },
    {
      "cell_type": "code",
      "metadata": {
        "colab": {
          "base_uri": "https://localhost:8080/"
        },
        "id": "BWAOWMY6BkJ0",
        "outputId": "ce9d24db-c3e3-48a8-c494-1d81b2a69278"
      },
      "source": [
        "t = Texttable()\n",
        "\n",
        "accuracy = []\n",
        "\n",
        "columns = [['Classifier','Accuracy']]\n",
        "rows = [\"Gaussian NB\",\"KNN_optimal\"]\n",
        "classifiers_list=[gnb_optimal,Knn_optimal]\n",
        "for i, clf in enumerate(classifiers_list):\n",
        "  columns.append([rows[i],clf[2]])\n",
        "t.add_rows(columns)\n",
        "print(t.draw())\n"
      ],
      "execution_count": null,
      "outputs": [
        {
          "output_type": "stream",
          "name": "stdout",
          "text": [
            "+-------------+----------+\n",
            "| Classifier  | Accuracy |\n",
            "+=============+==========+\n",
            "| Gaussian NB | 0.527    |\n",
            "+-------------+----------+\n",
            "| KNN_optimal | 0.971    |\n",
            "+-------------+----------+\n"
          ]
        }
      ]
    },
    {
      "cell_type": "markdown",
      "metadata": {
        "id": "BhOSmKFBEJAz"
      },
      "source": [
        "Για τον Gaussian NB προκύπτει ο εξής πίνακας σύγχυσης:"
      ]
    },
    {
      "cell_type": "code",
      "metadata": {
        "colab": {
          "base_uri": "https://localhost:8080/",
          "height": 297
        },
        "id": "GdooOK4mCfS3",
        "outputId": "de97c579-18e7-455b-cc5d-9e6b8616f11f"
      },
      "source": [
        "best_gnb = GaussianNB(var_smoothing=0.00001)\n",
        "gnb_optimal_diagrams = classification_baseline(best_gnb,X_train,X_test,y_train,y_test,True)"
      ],
      "execution_count": null,
      "outputs": [
        {
          "output_type": "display_data",
          "data": {
            "image/png": "[encoded data removed]",
            "text/plain": [
              "<Figure size 432x288 with 2 Axes>"
            ]
          },
          "metadata": {
            "needs_background": "light"
          }
        }
      ]
    },
    {
      "cell_type": "markdown",
      "metadata": {
        "id": "We_xjT-yEAkO"
      },
      "source": [
        "Για τον KNN προκύπτει ο εξής πίνακας σύγχυσης:"
      ]
    },
    {
      "cell_type": "code",
      "metadata": {
        "colab": {
          "base_uri": "https://localhost:8080/",
          "height": 297
        },
        "id": "tsFoqcDeCw3g",
        "outputId": "ba346827-2b43-49f1-f402-f5f904247870"
      },
      "source": [
        "best_Knn = KNeighborsClassifier(n_neighbors = 1, n_jobs = -1)\n",
        "Knn_optimal_diagrams = classification_baseline(best_Knn,X_train,X_test,y_train,y_test,True)"
      ],
      "execution_count": null,
      "outputs": [
        {
          "output_type": "display_data",
          "data": {
            "image/png": "[encoded data removed]",
            "text/plain": [
              "<Figure size 432x288 with 2 Axes>"
            ]
          },
          "metadata": {
            "needs_background": "light"
          }
        }
      ]
    },
    {
      "cell_type": "markdown",
      "metadata": {
        "id": "zWS39sDrn9qq"
      },
      "source": [
        "Από τους πίνακες σύγχυσης παρατηρούμε τα εξής:    \n",
        "\n",
        "* O Gaussian NB προβλέπει κάνει περισσότερα σφάλματα όταν είναι κλειστό το μάτι, στην οποία περίπτωση περίπου τις μισές φορές χαρακτητρίζεται ανοιχτό και τις άλλες μισές κλειστό, όμως και στην περίπτωση ανοιχτού ματιού ο αριθμός σφαλμάτων εξακολουθεί να είναι σημαντικός (798 περιπτώσεις από τις 1953).\n",
        "* Ο kNN πραγματοποιεί πολύ λίγες λανθασμένες προβλέψεις, οι οποίες είναι περίπου το ίδιο συχνές στην περίπτωση ανοιχτού και κλειστού ματιού."
      ]
    },
    {
      "cell_type": "markdown",
      "metadata": {
        "id": "SfWjWB_7qXz-"
      },
      "source": [
        "#####Επιλογή ταξινομητή και αιτιολόγηση"
      ]
    },
    {
      "cell_type": "markdown",
      "metadata": {
        "id": "z-BlVgskqbhb"
      },
      "source": [
        "Επιλέγοντας έναν ταξινομητή για το συγκεκριμένο πρόβλημα, θα προτείναμε τον kNN ταξινομητή. Ο λόγος για αυτό είναι πως τα ποσοστά accuracy και F1-score αυτού είναι πολύ καλύτερα σε σχέση με τους Νaive Bayes και LR. Είναι μάλιστα τόσο καλύτερα, ώστε το γεγονός πως το fit και το prediction time του kNN είναι μεγαλύτερα να μην είναι αρκετό για να αντισταθμίσει τις χειρότερες επιδόσεις των άλλων δύο ταξινομητών.\n",
        "\n",
        "Εξηγώντας τώρα γιατί ο kNN εμφανίζει πολύ καλύτερες επιδόσεις μπορούμε να πούμε τα εξής:     \n",
        "\n",
        "* Ο ταξινομητής kNN είναι πιο κατάλληλος από τον ταξινομητή Logistic Regression, καθώς ο KNN υποστηρίζει μη γραμμικές λύσεις.\n",
        "\n",
        "* Ο ταξινομητής kNN είναι πιο κατάλληλος από τον Gaussian NB, καθώς ο δεύτερος υποθέτει gaussian, γνωστή κατανομή για τα δεδομένα, καθώς και ανεξαρτησία αυτών. Οι υποθέσεις αυτές είναι απλουστευτικές, και εκτός και αν γνωρίζουμε την pdf των δεδομένων μας, δεν είναι ρεαλιστικές, γεγονός που καθιστά τον Gaussian NB μη βέλτιστη επιλογή. Επιπλέον, οι ταξινομητές Naive Bayes είναι κατάλληλοι μόνο για περιπτώσεις όπου το σύνορο απόφασης έχει μορφή γραμμική, ελλειπτική ή παραβολική. Αν κάτι τέτοιο δεν ισχύει για τα δεδομένα μας, ο kNN, ο οποίος δεν απαιτεί κάτι τέτοιο για το σύνορο απόφασης είναι πιο κατάλληλος.\n",
        "\n",
        ""
      ]
    }
  ]
}